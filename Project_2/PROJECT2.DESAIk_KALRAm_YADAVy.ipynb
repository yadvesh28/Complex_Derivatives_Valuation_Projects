{
 "cells": [
  {
   "cell_type": "markdown",
   "metadata": {},
   "source": [
    "<div style=\"color: #40E0D0; font-family: Cambria, serif; text-align: center; margin: 20px;\">\n",
    "\n",
    "<div style=\"font-size: 32px; font-weight: bold; margin-bottom: 15px;\">Callable Contingent Income Securities due December 3, 2025</div>\n",
    "\n",
    "<div style=\"font-size: 18px; margin-bottom: 15px;\">\n",
    "<a href=\"https://sec.gov/Archives/edgar/data/1666268/000183988223032004/ms75_424b2-16958.htm\" style=\"color: #40E0D0;\">SEC Filing Link to the Security\n",
    "</a>\n",
    "</div>\n",
    "\n",
    "<div style=\"font-size: 24px; font-weight: bold; margin-bottom: 15px;\">Payments on the Securities Based on the Worst Performing of the Russell 2000® Index and the S&P 500® Index</div>\n",
    "\n",
    "<div style=\"font-style: italic; font-size: 16px;\">-Valuation report Python notebook by Yadvesh, Krish and Mayank</div>\n",
    "\n",
    "</div>"
   ]
  },
  {
   "cell_type": "markdown",
   "metadata": {},
   "source": [
    "#### Group Members (NetID)\n",
    "* Krish Desai (kcdesai2)\n",
    "* Mayank Kalra (mkalra2)\n",
    "* Yadvesh Yadav (yyada)"
   ]
  },
  {
   "cell_type": "markdown",
   "metadata": {},
   "source": [
    "---"
   ]
  },
  {
   "cell_type": "markdown",
   "metadata": {},
   "source": [
    "<div style=\"border-bottom: 3px solid black; display: inline-block;\">\n",
    "<span style=\"font-family: Cambria, serif; font-weight: bold; font-size: 28px;\">I) Introduction ==></span>\n",
    "</div>"
   ]
  },
  {
   "cell_type": "markdown",
   "metadata": {},
   "source": [
    "<div style=\"border-bottom: 2px solid black; display: inline-block;\">\n",
    "<span style=\"font-family: Cambria, serif; font-weight: bold; font-size: 20px;\">1) Below are the Key Dates of the Note:</span>\n",
    "</div>"
   ]
  },
  {
   "cell_type": "markdown",
   "metadata": {},
   "source": [
    "![](./images_project_2/key_dates.png)"
   ]
  },
  {
   "cell_type": "markdown",
   "metadata": {},
   "source": [
    "<div style=\"border-bottom: 2px solid black; display: inline-block;\">\n",
    "<span style=\"font-family: Cambria, serif; font-weight: bold; font-size: 20px;\">2) Below are the Note Offering:</span>\n",
    "</div>"
   ]
  },
  {
   "cell_type": "markdown",
   "metadata": {},
   "source": [
    "![](./images_project_2/note_offering.png)"
   ]
  },
  {
   "cell_type": "markdown",
   "metadata": {},
   "source": [
    "<div style=\"border-bottom: 2px solid black; display: inline-block;\">\n",
    "<span style=\"font-family: Cambria, serif; font-weight: bold; font-size: 20px;\">3) Below are the Observation Dates and Coupon Payment Dates:</span>\n",
    "</div>"
   ]
  },
  {
   "cell_type": "markdown",
   "metadata": {},
   "source": [
    "![](./images_project_2/obs_cpn_dates.png)"
   ]
  },
  {
   "cell_type": "markdown",
   "metadata": {},
   "source": [
    "---"
   ]
  },
  {
   "cell_type": "markdown",
   "metadata": {},
   "source": [
    "<div style=\"border-bottom: 3px solid black; display: inline-block;\">\n",
    "<span style=\"font-family: Cambria, serif; font-weight: bold; font-size: 28px;\">II) Bloomberg Data (Risk-Free Rates(OIS), Dividend Yields, Volatality Matrices and Correlation Factors) is as follows ==> </span>\n",
    "</div>"
   ]
  },
  {
   "cell_type": "markdown",
   "metadata": {},
   "source": [
    "<div style=\"border-bottom: 2px solid black; display: inline-block;\">\n",
    "<span style=\"font-family: Cambria, serif; font-weight: bold; font-size: 20px;\">1) Risk Free Rate (OIS Rate):</span>\n",
    "</div>"
   ]
  },
  {
   "cell_type": "markdown",
   "metadata": {},
   "source": [
    "![](./images_project_2/ois_rates.png)"
   ]
  },
  {
   "cell_type": "markdown",
   "metadata": {},
   "source": [
    "---"
   ]
  },
  {
   "cell_type": "markdown",
   "metadata": {},
   "source": [
    "<div style=\"border-bottom: 2px solid black; display: inline-block;\">\n",
    "<span style=\"font-family: Cambria, serif; font-weight: bold; font-size: 20px;\">2) Dividend Yields for both indices:</span>\n",
    "</div>"
   ]
  },
  {
   "cell_type": "markdown",
   "metadata": {},
   "source": [
    "<table style=\"width:80%; margin:auto; border-collapse: separate; border-spacing: 80px 0;\"><tr>\n",
    "<td style=\"width:50%; border:none;\">\n",
    "    <div style=\"border-bottom: 2px solid black; display: inline-block;\">\n",
    "        <span style=\"font-family: Cambria, serif; font-weight: bold; font-size: 18px;\">2.1) Russell 2000® Index (RTY):</span>\n",
    "    </div>\n",
    "    <img src=\"./images_project_2/rty_div.png\" style=\"width:100%\">\n",
    "</td>\n",
    "<td style=\"width:50%; border:none;\">\n",
    "    <div style=\"border-bottom: 2px solid black; display: inline-block;\">\n",
    "        <span style=\"font-family: Cambria, serif; font-weight: bold; font-size: 18px;\">2.2) S&P 500® Index (SPX):</span>\n",
    "    </div>\n",
    "    <img src=\"./images_project_2/spx_div.png\" style=\"width:100%\">\n",
    "</td>\n",
    "</tr></table>"
   ]
  },
  {
   "cell_type": "markdown",
   "metadata": {},
   "source": [
    "---"
   ]
  },
  {
   "cell_type": "markdown",
   "metadata": {},
   "source": [
    "<div style=\"border-bottom: 2px solid black; display: inline-block;\">\n",
    "<span style=\"font-family: Cambria, serif; font-weight: bold; font-size: 20px;\">3) Implied Volatality Matrices for both indices:</span>\n",
    "</div>"
   ]
  },
  {
   "cell_type": "markdown",
   "metadata": {},
   "source": [
    "<table style=\"width:100%; margin:auto;\"><tr>\n",
    "<td style=\"width:100%; border:none; padding-bottom: 30px;\">\n",
    "    <div style=\"border-bottom: 2px solid black; display: inline-block;\">\n",
    "        <span style=\"font-family: Cambria, serif; font-weight: bold; font-size: 18px;\">3.1) Russell 2000® Index (RTY):</span>\n",
    "    </div>\n",
    "    <img src=\"./images_project_2/rty_vol.png\" style=\"width:100%\">\n",
    "</td>\n",
    "</tr>\n",
    "<tr>\n",
    "<td style=\"width:100%; border:none;\">\n",
    "    <div style=\"border-bottom: 2px solid black; display: inline-block;\">\n",
    "        <span style=\"font-family: Cambria, serif; font-weight: bold; font-size: 18px;\">3.2) S&P 500® Index (SPX):</span>\n",
    "    </div>\n",
    "    <img src=\"./images_project_2/spx_vol.png\" style=\"width:100%\">\n",
    "</td>\n",
    "</tr></table>"
   ]
  },
  {
   "cell_type": "markdown",
   "metadata": {},
   "source": [
    "---"
   ]
  },
  {
   "cell_type": "markdown",
   "metadata": {},
   "source": [
    "<div style=\"border-bottom: 2px solid black; display: inline-block;\">\n",
    "<span style=\"font-family: Cambria, serif; font-weight: bold; font-size: 28px;\">III) Getting the Risk-free rates from discount factors above ==></span>\n",
    "</div>"
   ]
  },
  {
   "cell_type": "code",
   "execution_count": 1,
   "metadata": {},
   "outputs": [],
   "source": [
    "# Importing Necessary Libraries\n",
    "from datetime import datetime\n",
    "import calendar\n",
    "import numpy as np\n",
    "import matplotlib.pyplot as plt\n",
    "import pandas as pd\n",
    "import scipy.stats as st\n",
    "import statsmodels.api as sm\n",
    "from sklearn.linear_model import LinearRegression\n",
    "from sklearn.preprocessing import PolynomialFeatures"
   ]
  },
  {
   "cell_type": "code",
   "execution_count": 2,
   "metadata": {},
   "outputs": [],
   "source": [
    "# function to get fractional difference between two dates\n",
    "def get_year_fraction(start_date, end_date):\n",
    "    if isinstance(start_date, str):\n",
    "        start_date = datetime.strptime(start_date, \"%Y-%m-%d\")\n",
    "    if isinstance(end_date, str):\n",
    "        end_date = datetime.strptime(end_date, \"%Y-%m-%d\")\n",
    "    \n",
    "    total_years = 0.0\n",
    "\n",
    "    current_date = start_date\n",
    "    while current_date < end_date:\n",
    "        year = current_date.year\n",
    "    \n",
    "        if year == end_date.year:\n",
    "            period_end = end_date\n",
    "        else:\n",
    "            period_end = datetime(year + 1, 1, 1)\n",
    "\n",
    "        days_in_period = (period_end - current_date).days\n",
    "        days_in_year = 366 if calendar.isleap(year) else 365\n",
    "        total_years += days_in_period / days_in_year\n",
    "        current_date = period_end\n",
    "    \n",
    "    return total_years"
   ]
  },
  {
   "cell_type": "code",
   "execution_count": 3,
   "metadata": {},
   "outputs": [
    {
     "name": "stdout",
     "output_type": "stream",
     "text": [
      "The Value of DF_1 is: 0.999556\n",
      "\n",
      "The Value of DF_3 is: 0.910544\n"
     ]
    }
   ],
   "source": [
    "# Key dates\n",
    "T_0 = \"2023-11-28\"\n",
    "T_1 = \"2023-12-01\"\n",
    "T_2 = \"2025-11-28\"\n",
    "T_3 = \"2025-12-03\"\n",
    "\n",
    "# Discount Factors at Key Dates\n",
    "DF_0 = 1\n",
    "DF_2 = 0.911000\n",
    "\n",
    "# DF_1 and DF_3 needs to be calculated using Interpolation\n",
    "# We have:\n",
    "dt_2023_12_05 = \"2023-12-05\"\n",
    "DF_2023_12_05 = 0.998964\n",
    "dt_2026_11_30 = \"2026-11-30\"\n",
    "DF_2026_11_30 = 0.877524\n",
    "\n",
    "# Now using Interpolation we have:\n",
    "DF_1 = DF_0 + (DF_2023_12_05 - DF_0)*(get_year_fraction(T_0, T_1))/(get_year_fraction(T_0, dt_2023_12_05))\n",
    "print(f\"The Value of DF_1 is: {DF_1:.6f}\\n\")\n",
    "DF_3 = DF_2 + (DF_2026_11_30 - DF_2)*(get_year_fraction(T_2, T_3))/(get_year_fraction(T_2, dt_2026_11_30))\n",
    "print(f\"The Value of DF_3 is: {DF_3:.6f}\")"
   ]
  },
  {
   "cell_type": "markdown",
   "metadata": {},
   "source": [
    "<div style=\"border-bottom: 2px solid black; display: inline-block; margin-bottom: 20px;\">\n",
    "<span style=\"font-family: Cambria, serif; font-weight: bold; font-size: 20px;\">The Discount Factor Table after Linear Interpolation Looks like this</span>\n",
    "</div>\n",
    "\n",
    "<div style=\"font-family: Cambria, serif;\">\n",
    "\n",
    "| Keys | Dates     | DF        |\n",
    "|------|-----------|-----------|\n",
    "| T_0  | 11/28/2023  | 1.000000  |\n",
    "| T_1  | 12/01/2023 | 0.999556  |\n",
    "| T_2  | 11/28/2025 | 0.911000  |\n",
    "| T_3  | 12/03/2025 | 0.910544  |\n",
    "\n",
    "</div>"
   ]
  },
  {
   "cell_type": "code",
   "execution_count": 4,
   "metadata": {},
   "outputs": [],
   "source": [
    "# function to get r(0,T) from the discount factors DF\n",
    "def r_from_DF(DF, T, T_0):\n",
    "    dt = get_year_fraction(T_0, T)\n",
    "    r = -np.log(DF)/dt\n",
    "    return r, dt"
   ]
  },
  {
   "cell_type": "code",
   "execution_count": 5,
   "metadata": {},
   "outputs": [
    {
     "name": "stdout",
     "output_type": "stream",
     "text": [
      "The Value of continuously compounded risk free rate between T_0 and T_1(r_T0_T1) is: 0.05403200\n",
      "\n",
      "The Value of continuously compounded risk free rate between T_0 and T_2(r_T0_T2) is: 0.04660619\n",
      "\n",
      "The Value of continuously compounded risk free rate between T_0 and T_3(r_T0_T3) is: 0.04653782\n",
      "\n"
     ]
    }
   ],
   "source": [
    "r_T0_T1, T0_T1 = r_from_DF(DF_1, T_1, T_0)\n",
    "print(f\"The Value of continuously compounded risk free rate between T_0 and T_1(r_T0_T1) is: {r_T0_T1:.8f}\\n\")\n",
    "r_T0_T2, T0_T2 = r_from_DF(DF_2, T_2, T_0)\n",
    "print(f\"The Value of continuously compounded risk free rate between T_0 and T_2(r_T0_T2) is: {r_T0_T2:.8f}\\n\")\n",
    "r_T0_T3, T0_T3 = r_from_DF(DF_3, T_3, T_0)\n",
    "print(f\"The Value of continuously compounded risk free rate between T_0 and T_3(r_T0_T3) is: {r_T0_T3:.8f}\\n\")"
   ]
  },
  {
   "cell_type": "markdown",
   "metadata": {},
   "source": [
    "<div style=\"border-bottom: 2px solid black; display: inline-block; margin-bottom: 20px;\">\n",
    "<span style=\"font-family: Cambria, serif; font-weight: bold; font-size: 20px;\">The Discount Factor Table after Linear Interpolation Looks like this</span>\n",
    "</div>\n",
    "\n",
    "<div style=\"font-family: Cambria, serif;\">\n",
    "\n",
    "| Keys | Dates     | DF        | delta(T_x, T_0) | r(0,T_x)   |\n",
    "|------|-----------|-----------|-----------------|------------|\n",
    "| T_0  | 11/28/2023  | 1.000000  | 0.00000000     | 0.00000000 |\n",
    "| T_1  | 12/01/2023 | 0.999556  | 0.00821918     | 0.05403200 |\n",
    "| T_2  | 11/28/2025 | 0.911000  | 2.00000000     | <span style=\"background-color: green;\">0.04660619</span> |\n",
    "| T_3  | 12/03/2025 | 0.910544  | 2.01369863     | 0.04653782 |\n",
    "\n",
    "</div>"
   ]
  },
  {
   "cell_type": "code",
   "execution_count": 6,
   "metadata": {},
   "outputs": [
    {
     "name": "stdout",
     "output_type": "stream",
     "text": [
      "The Value of continuously compounded Forward rate between T_1 and T_3(F_T1_T3) is: 0.04650710\n",
      "\n"
     ]
    }
   ],
   "source": [
    "# now we need to calculate teh forward rate F(T_1,T_3)\n",
    "T1_T3 = get_year_fraction(T_1, T_3)\n",
    "F_T1_T3 = ((r_T0_T3*T0_T3) - (r_T0_T1*T0_T1))/T1_T3\n",
    "print(f\"The Value of continuously compounded Forward rate between T_1 and T_3(F_T1_T3) is: {F_T1_T3:.8f}\\n\")"
   ]
  },
  {
   "cell_type": "markdown",
   "metadata": {},
   "source": [
    "---"
   ]
  },
  {
   "cell_type": "markdown",
   "metadata": {},
   "source": [
    "<div style=\"border-bottom: 2px solid black; display: inline-block;\">\n",
    "<span style=\"font-family: Cambria, serif; font-weight: bold; font-size: 28px;\">IV) Calculating the correlation between indices (RTY and SPX) for 6M, 12M and 24M time horizons==></span>\n",
    "</div>"
   ]
  },
  {
   "cell_type": "code",
   "execution_count": 7,
   "metadata": {},
   "outputs": [],
   "source": [
    "# function to read historical csv and get returns based on index values\n",
    "def historical_df(file_path):\n",
    "    df = pd.read_csv(file_path)\n",
    "    df.set_index('Date', inplace=True)\n",
    "\n",
    "    if file_path=='./data_project_2/rty_hp.csv':\n",
    "        df.rename(columns={'px_last': 'px_last_rty'}, inplace=True)\n",
    "        df['px_last_rty'] = pd.to_numeric(df['px_last_rty'])\n",
    "        df['px_last_rty_previous'] = df['px_last_rty'].shift(-1)\n",
    "        df['diff'] = df['px_last_rty'] - df['px_last_rty_previous']\n",
    "        df['pct_change_rty'] = df['diff']/np.abs(df['px_last_rty_previous'])*100\n",
    "    else:\n",
    "        df.rename(columns={'px_last': 'px_last_spx'}, inplace=True)\n",
    "        df['px_last_spx'] = pd.to_numeric(df['px_last_spx'])\n",
    "        df['px_last_spx_previous'] = df['px_last_spx'].shift(-1)\n",
    "        df['diff'] = df['px_last_spx'] - df['px_last_spx_previous']\n",
    "        df['pct_change_spx'] = df['diff']/np.abs(df['px_last_spx_previous'])*100\n",
    "    \n",
    "    df = df.iloc[:,[0,3]]\n",
    "   \n",
    "    return df"
   ]
  },
  {
   "cell_type": "code",
   "execution_count": 8,
   "metadata": {},
   "outputs": [],
   "source": [
    "df_rty = historical_df('./data_project_2/rty_hp.csv')\n",
    "df_spx = historical_df('./data_project_2/spx_hp.csv')\n",
    "df_final = pd.merge(df_rty, df_spx, left_index=True, right_index=True, how='inner')"
   ]
  },
  {
   "cell_type": "code",
   "execution_count": 9,
   "metadata": {},
   "outputs": [
    {
     "data": {
      "text/html": [
       "<div>\n",
       "<style scoped>\n",
       "    .dataframe tbody tr th:only-of-type {\n",
       "        vertical-align: middle;\n",
       "    }\n",
       "\n",
       "    .dataframe tbody tr th {\n",
       "        vertical-align: top;\n",
       "    }\n",
       "\n",
       "    .dataframe thead th {\n",
       "        text-align: right;\n",
       "    }\n",
       "</style>\n",
       "<table border=\"1\" class=\"dataframe\">\n",
       "  <thead>\n",
       "    <tr style=\"text-align: right;\">\n",
       "      <th></th>\n",
       "      <th>px_last_rty</th>\n",
       "      <th>pct_change_rty</th>\n",
       "      <th>px_last_spx</th>\n",
       "      <th>pct_change_spx</th>\n",
       "    </tr>\n",
       "    <tr>\n",
       "      <th>Date</th>\n",
       "      <th></th>\n",
       "      <th></th>\n",
       "      <th></th>\n",
       "      <th></th>\n",
       "    </tr>\n",
       "  </thead>\n",
       "  <tbody>\n",
       "    <tr>\n",
       "      <th>11/28/2023</th>\n",
       "      <td>1792.808</td>\n",
       "      <td>-0.463370</td>\n",
       "      <td>4554.89</td>\n",
       "      <td>0.098013</td>\n",
       "    </tr>\n",
       "    <tr>\n",
       "      <th>11/27/2023</th>\n",
       "      <td>1801.154</td>\n",
       "      <td>-0.351093</td>\n",
       "      <td>4550.43</td>\n",
       "      <td>-0.195423</td>\n",
       "    </tr>\n",
       "    <tr>\n",
       "      <th>11/24/2023</th>\n",
       "      <td>1807.500</td>\n",
       "      <td>0.666095</td>\n",
       "      <td>4559.34</td>\n",
       "      <td>0.059693</td>\n",
       "    </tr>\n",
       "    <tr>\n",
       "      <th>11/22/2023</th>\n",
       "      <td>1795.540</td>\n",
       "      <td>0.688457</td>\n",
       "      <td>4556.62</td>\n",
       "      <td>0.406109</td>\n",
       "    </tr>\n",
       "    <tr>\n",
       "      <th>11/21/2023</th>\n",
       "      <td>1783.263</td>\n",
       "      <td>-1.318201</td>\n",
       "      <td>4538.19</td>\n",
       "      <td>-0.202094</td>\n",
       "    </tr>\n",
       "  </tbody>\n",
       "</table>\n",
       "</div>"
      ],
      "text/plain": [
       "            px_last_rty  pct_change_rty  px_last_spx  pct_change_spx\n",
       "Date                                                                \n",
       "11/28/2023     1792.808       -0.463370      4554.89        0.098013\n",
       "11/27/2023     1801.154       -0.351093      4550.43       -0.195423\n",
       "11/24/2023     1807.500        0.666095      4559.34        0.059693\n",
       "11/22/2023     1795.540        0.688457      4556.62        0.406109\n",
       "11/21/2023     1783.263       -1.318201      4538.19       -0.202094"
      ]
     },
     "execution_count": 9,
     "metadata": {},
     "output_type": "execute_result"
    }
   ],
   "source": [
    "df_final.head()"
   ]
  },
  {
   "cell_type": "code",
   "execution_count": 10,
   "metadata": {},
   "outputs": [],
   "source": [
    "# function to calculate the correlations based on historical data\n",
    "def corr_hp(df_final, horizon_list):\n",
    "\n",
    "    corr1 = []\n",
    "    df_final.index = pd.to_datetime(df_final.index)\n",
    "    final_date = df_final.index[0]\n",
    "    for i in horizon_list:\n",
    "        date_hl =  final_date - pd.DateOffset(months=i)\n",
    "        print(f\"The {i} months date before {final_date} is : {date_hl}\")\n",
    "\n",
    "        df_hl = df_final[df_final.index >= date_hl]\n",
    "        corr_hl = df_hl['pct_change_rty'].corr(df_hl['pct_change_spx'])\n",
    "        print(f\"The correlation for {i} months horizon is: {corr_hl:.6f} \\n\")\n",
    "        corr1.append(corr_hl)\n",
    "\n",
    "    return corr1"
   ]
  },
  {
   "cell_type": "code",
   "execution_count": 11,
   "metadata": {},
   "outputs": [
    {
     "name": "stdout",
     "output_type": "stream",
     "text": [
      "The 6 months date before 2023-11-28 00:00:00 is : 2023-05-28 00:00:00\n"
     ]
    },
    {
     "name": "stdout",
     "output_type": "stream",
     "text": [
      "The correlation for 6 months horizon is: 0.736798 \n",
      "\n",
      "The 12 months date before 2023-11-28 00:00:00 is : 2022-11-28 00:00:00\n",
      "The correlation for 12 months horizon is: 0.825055 \n",
      "\n",
      "The 18 months date before 2023-11-28 00:00:00 is : 2022-05-28 00:00:00\n",
      "The correlation for 18 months horizon is: 0.885226 \n",
      "\n",
      "The 24 months date before 2023-11-28 00:00:00 is : 2021-11-28 00:00:00\n",
      "The correlation for 24 months horizon is: 0.889623 \n",
      "\n"
     ]
    }
   ],
   "source": [
    "corr = corr_hp(df_final, [6, 12, 18, 24])"
   ]
  },
  {
   "cell_type": "markdown",
   "metadata": {},
   "source": [
    "---"
   ]
  },
  {
   "cell_type": "markdown",
   "metadata": {},
   "source": [
    "<div style=\"border-bottom: 2px solid black; display: inline-block; margin-bottom: 20px;\">\n",
    "<span style=\"font-family: Cambria, serif; font-weight: bold; font-size: 20px;\">1) The Discount Factor Table after Linear Interpolation Looks like this:</span>\n",
    "</div>\n",
    "\n",
    "<div style=\"font-family: Cambria, serif;\">\n",
    "\n",
    "| Keys | Dates     | DF        | delta(T_x, T_0) | r(0,T_x)   | F(T_x1,T_x2)   |\n",
    "|------|-----------|-----------|-----------------|------------| ------------|\n",
    "| T_0  | 11/28/2023  | 1.000000  | 0.00000000     | 0.00000000 | -  |\n",
    "| T_1  | 12/01/2023 | 0.999556  | 0.00821918     | 0.05403200 | -  |\n",
    "| T_2  | 11/28/2025 | 0.911000  | 2.00000000     | <span style=\"background-color: green;\">0.04660619</span> | -  |\n",
    "| T_3  | 12/03/2025 | 0.910544  | 2.01369863     | 0.04653782 |<span style=\"background-color: green;\">0.04650710</span> |\n",
    "\n",
    "</div>"
   ]
  },
  {
   "cell_type": "markdown",
   "metadata": {},
   "source": [
    "---"
   ]
  },
  {
   "cell_type": "markdown",
   "metadata": {},
   "source": [
    "<div style=\"border-bottom: 2px solid black; display: inline-block;\">\n",
    "<span style=\"font-family: Cambria, serif; font-weight: bold; font-size: 20px;\">2.1) The continuous dividend yield 'D1' for RTY Index from bloomberg data is 1.606% or 0.01606</span>\n",
    "</div>"
   ]
  },
  {
   "cell_type": "markdown",
   "metadata": {},
   "source": [
    "<div style=\"border-bottom: 2px solid black; display: inline-block;\">\n",
    "<span style=\"font-family: Cambria, serif; font-weight: bold; font-size: 20px;\">2.2) The continuous dividend yield 'D2' for SPX Index from bloomberg data is 1.598% or 0.01598</span>\n",
    "</div>"
   ]
  },
  {
   "cell_type": "markdown",
   "metadata": {},
   "source": [
    "---"
   ]
  },
  {
   "cell_type": "markdown",
   "metadata": {},
   "source": [
    "<div style=\"border-bottom: 2px solid black; display: inline-block; margin-bottom: 20px;\">\n",
    "<span style=\"font-family: Cambria, serif; font-weight: bold; font-size: 20px;\">3) The Moneyness and Volatility Matrices Looks like this:</span>\n",
    "</div>\n",
    "\n",
    "<div style=\"font-family: Cambria, serif;\">\n",
    "\n",
    "| Moneyness | RTY Implied Volatility (24M) | SPX Implied Volatility (24M) |\n",
    "|-----------|------------------| ------------------|\n",
    "| 70.00     | 27.772%         | 25.440%         |\n",
    "| 75.00     | 26.371%         | 24.080%         |\n",
    "| 80.00     | 25.104%         | 22.833%         |\n",
    "| 85.00     | 23.957%         | 21.676%         |\n",
    "| 90.00     | 22.920%         | 20.542%         |\n",
    "| 95.00     | 21.980%         | 19.392%         |\n",
    "| 100.00    | 21.125%         | 18.195%         |\n",
    "\n",
    "</div>"
   ]
  },
  {
   "cell_type": "markdown",
   "metadata": {},
   "source": [
    "---"
   ]
  },
  {
   "cell_type": "markdown",
   "metadata": {},
   "source": [
    "<div style=\"border-bottom: 2px solid black; display: inline-block; margin-bottom: 20px;\">\n",
    "<span style=\"font-family: Cambria, serif; font-weight: bold; font-size: 20px;\">4) The correlation between indices (RTY and SPX) for 6M, 12M, 18M and 24M time horizons Looks like this:</span>\n",
    "</div>\n",
    "\n",
    "<div style=\"font-family: Cambria, serif;\">\n",
    "\n",
    "| Time horizon | Correlation Factor(rho12)   |\n",
    "|------|-----------|\n",
    "| 6M  | 0.736798  |\n",
    "| 12M | 0.825055 |\n",
    "| 18M  | 0.885226 |\n",
    "| 24M | 0.889623 |\n",
    "\n",
    "</div>"
   ]
  },
  {
   "cell_type": "markdown",
   "metadata": {},
   "source": [
    "---"
   ]
  },
  {
   "cell_type": "markdown",
   "metadata": {},
   "source": [
    "<div style=\"border-bottom: 2px solid black; display: inline-block;\">\n",
    "<span style=\"font-family: Cambria, serif; font-weight: bold; font-size: 28px;\">V) Now Calculating the Value of the Note using Monte Carlo Simulations ==></span>\n",
    "</div>"
   ]
  },
  {
   "cell_type": "code",
   "execution_count": 12,
   "metadata": {},
   "outputs": [
    {
     "name": "stdout",
     "output_type": "stream",
     "text": [
      "The number of Trial runs for Monte Carlo Simulations will be: 10\n",
      "\n",
      "The number of Monte Carlo Simulations in each Trial will be: 100000\n",
      "\n",
      "The number of underlying assets are: 2(RTY and SPX)\n",
      "The Initial Index Value for RTY Index is: 1792.808\n",
      "The Initial Index Value for SPX Index is: 4554.89\n",
      "\n",
      "The Implied Volatality for RTY Index at 70 Moneyness is: 0.27772\n",
      "The Implied Volatality for SPX Index at 70 Moneyness is: 0.2544\n",
      "\n",
      "The 12 Month Correlation Factor between RTY and SPX indices is: 0.825055\n",
      "\n",
      "The continously compounded risk-free rate for Stock-Tree simulation is: 0.04660619\n",
      "\n",
      "The continously compounded risk-free rate which is used for discounting is: 0.04650710\n",
      "\n",
      "The continuous dividend yield for RTY Index is: 0.01606\n",
      "The continuous dividend yield for SPX Index is: 0.01598\n",
      "\n",
      "The contingent coupon payment is: $20\n",
      "\n",
      "The stated principal amount is: $1000\n",
      "\n",
      "The coupon barrier for RTY Index is: 1254.966\n",
      "The coupon barrier for SPX Index is: 3188.423\n",
      "\n",
      "The downside threshold for RTY Index is: 1254.966\n",
      "The downside threshold for SPX Index is: 3188.423\n",
      "\n"
     ]
    }
   ],
   "source": [
    "# note feature inputs that will go in the functions to calculate the value of the note\n",
    "\n",
    "# Number of Trials to run Monte Carlo Simulation\n",
    "Ntrials = 10\n",
    "print(f\"The number of Trial runs for Monte Carlo Simulations will be: {Ntrials}\\n\")\n",
    "\n",
    "# Number of simulations\n",
    "N = 100000\n",
    "print(f\"The number of Monte Carlo Simulations in each Trial will be: {N}\\n\")\n",
    "\n",
    "# Initial Index Values\n",
    "S10 = 1792.808\n",
    "S20 = 4554.89\n",
    "NA = 2\n",
    "print(f\"The number of underlying assets are: {NA}(RTY and SPX)\")\n",
    "print(f\"The Initial Index Value for RTY Index is: {S10}\\nThe Initial Index Value for SPX Index is: {S20}\\n\")\n",
    "\n",
    "# Implied volatalities for each index at 70 Moneyness\n",
    "sigma1 = 0.27772\n",
    "sigma2 = 0.25440\n",
    "print(f\"The Implied Volatality for RTY Index at 70 Moneyness is: {sigma1}\\nThe Implied Volatality for SPX Index at 70 Moneyness is: {sigma2}\\n\")\n",
    "\n",
    "# 12 Month Correlation Factor between RTY and SPX indices\n",
    "rho12 = 0.825055\n",
    "print(f\"The 12 Month Correlation Factor between RTY and SPX indices is: {rho12}\\n\")\n",
    "\n",
    "# continously compounded risk-free rate(T_0 to T_2) for Stock-Tree simulation\n",
    "r1 = r_T0_T2\n",
    "print(f\"The continously compounded risk-free rate for Stock-Tree simulation is: {r1:.8f}\\n\")\n",
    "\n",
    "# continously compounded forward rate(T_1 to T_3) for discounting\n",
    "r2 = F_T1_T3\n",
    "print(f\"The continously compounded risk-free rate which is used for discounting is: {r2:.8f}\\n\")\n",
    "\n",
    "# continuous dividend yields for both indices\n",
    "D1 = 0.01606\n",
    "D2 = 0.01598\n",
    "print(f\"The continuous dividend yield for RTY Index is: {D1}\\nThe continuous dividend yield for SPX Index is: {D2}\\n\")\n",
    "\n",
    "# contingent coupon payment\n",
    "cpn = 20\n",
    "print(f\"The contingent coupon payment is: ${cpn}\\n\")\n",
    "\n",
    "# stated principal amount\n",
    "principal = 1000\n",
    "print(f\"The stated principal amount is: ${principal}\\n\")\n",
    "\n",
    "# coupon barriers for each index\n",
    "CB1 = 0.70 * S10\n",
    "CB2 = 0.70 * S20\n",
    "print(f\"The coupon barrier for RTY Index is: {CB1:.3f}\\nThe coupon barrier for SPX Index is: {CB2:.3f}\\n\")\n",
    "\n",
    "# downside threshold for each index\n",
    "DT1 = 0.70 * S10\n",
    "DT2 = 0.70 * S20\n",
    "print(f\"The downside threshold for RTY Index is: {DT1:.3f}\\nThe downside threshold for SPX Index is: {DT2:.3f}\\n\")"
   ]
  },
  {
   "cell_type": "code",
   "execution_count": 13,
   "metadata": {},
   "outputs": [
    {
     "name": "stdout",
     "output_type": "stream",
     "text": [
      "The correlation matrix between RTY and SPX indices is:\n",
      "[[1, 0.825055], [0.825055, 1]]\n",
      "\n",
      "The cholesky factorization matrix between RTY and SPX indices is:\n",
      "[[1.         0.        ]\n",
      " [0.825055   0.56505243]]\n",
      "\n"
     ]
    }
   ],
   "source": [
    "# correlation matrix between RTY and SPX indices\n",
    "rho = [[1, rho12],[rho12, 1]]\n",
    "print(f\"The correlation matrix between RTY and SPX indices is:\\n{rho}\\n\")\n",
    "\n",
    "# cholesky factorization for calculated correlation between RTY and SPX indices\n",
    "C = np.linalg.cholesky(rho)\n",
    "print(f\"The cholesky factorization matrix between RTY and SPX indices is:\\n{C}\\n\")"
   ]
  },
  {
   "cell_type": "code",
   "execution_count": 14,
   "metadata": {},
   "outputs": [],
   "source": [
    "# function to get fractional difference between two dates\n",
    "def get_year_fraction(start_date, end_date):\n",
    "    if isinstance(start_date, str):\n",
    "        start_date = datetime.strptime(start_date, \"%Y-%m-%d\")\n",
    "    if isinstance(end_date, str):\n",
    "        end_date = datetime.strptime(end_date, \"%Y-%m-%d\")\n",
    "    \n",
    "    total_years = 0.0\n",
    "\n",
    "    current_date = start_date\n",
    "    while current_date < end_date:\n",
    "        year = current_date.year\n",
    "    \n",
    "        if year == end_date.year:\n",
    "            period_end = end_date\n",
    "        else:\n",
    "            period_end = datetime(year + 1, 1, 1)\n",
    "\n",
    "        days_in_period = (period_end - current_date).days\n",
    "        days_in_year = 366 if calendar.isleap(year) else 365\n",
    "        total_years += days_in_period / days_in_year\n",
    "        current_date = period_end\n",
    "    \n",
    "    return total_years"
   ]
  },
  {
   "cell_type": "code",
   "execution_count": 15,
   "metadata": {},
   "outputs": [],
   "source": [
    "# The observation and coupon/redemption dates for the note\n",
    "# observation dates list includes the starting date as well to account for the calculation of time period in between\n",
    "observation_dates = [\n",
    "    \"2023-11-28\",\n",
    "    \"2024-02-28\",\n",
    "    \"2024-05-28\",\n",
    "    \"2024-08-28\",\n",
    "    \"2024-11-29\",\n",
    "    \"2025-02-28\",\n",
    "    \"2025-05-28\",\n",
    "    \"2025-08-28\",\n",
    "    \"2025-11-28\"\n",
    "]\n",
    "\n",
    "cpn_rdm_dates = [\n",
    "    \"2024-03-04\",\n",
    "    \"2024-05-31\",\n",
    "    \"2024-09-03\",\n",
    "    \"2024-12-04\",\n",
    "    \"2025-03-05\",\n",
    "    \"2025-06-02\",\n",
    "    \"2025-09-03\",\n",
    "    \"2025-12-03\"\n",
    "]"
   ]
  },
  {
   "cell_type": "code",
   "execution_count": 16,
   "metadata": {},
   "outputs": [
    {
     "data": {
      "text/plain": [
       "0.25205479452054796"
      ]
     },
     "execution_count": 16,
     "metadata": {},
     "output_type": "execute_result"
    }
   ],
   "source": [
    "diff = get_year_fraction(\"2025-08-28\", \"2025-11-28\")\n",
    "diff"
   ]
  },
  {
   "cell_type": "code",
   "execution_count": 17,
   "metadata": {},
   "outputs": [
    {
     "name": "stdout",
     "output_type": "stream",
     "text": [
      "The difference between 2023-11-28 and 2024-02-28 is: 0.2516206302866981\n",
      "The difference between 2024-02-28 and 2024-05-28 is: 0.2459016393442623\n",
      "The difference between 2024-05-28 and 2024-08-28 is: 0.25136612021857924\n",
      "The difference between 2024-08-28 and 2024-11-29 is: 0.2540983606557377\n",
      "The difference between 2024-11-29 and 2025-02-28 is: 0.2490680440152706\n",
      "The difference between 2025-02-28 and 2025-05-28 is: 0.24383561643835616\n",
      "The difference between 2025-05-28 and 2025-08-28 is: 0.25205479452054796\n",
      "The difference between 2025-08-28 and 2025-11-28 is: 0.25205479452054796\n"
     ]
    }
   ],
   "source": [
    "# Observation Dates in fractional terms\n",
    "M = []\n",
    "for i in range(len(observation_dates) -1):\n",
    "    diff = get_year_fraction(observation_dates[i], observation_dates[i+1])\n",
    "    print(f\"The difference between {observation_dates[i]} and {observation_dates[i+1]} is: {diff}\")\n",
    "    M.append(diff)"
   ]
  },
  {
   "cell_type": "code",
   "execution_count": 18,
   "metadata": {},
   "outputs": [
    {
     "name": "stdout",
     "output_type": "stream",
     "text": [
      "8 [0.2516206302866981, 0.2459016393442623, 0.25136612021857924, 0.2540983606557377, 0.2490680440152706, 0.24383561643835616, 0.25205479452054796, 0.25205479452054796]\n"
     ]
    }
   ],
   "source": [
    "print(len(M), M)"
   ]
  },
  {
   "cell_type": "code",
   "execution_count": 19,
   "metadata": {},
   "outputs": [
    {
     "name": "stdout",
     "output_type": "stream",
     "text": [
      "The difference between 2024-02-28 and 2024-03-04 is: 0.01366120218579235\n",
      "The difference between 2024-05-28 and 2024-05-31 is: 0.00819672131147541\n",
      "The difference between 2024-08-28 and 2024-09-03 is: 0.01639344262295082\n",
      "The difference between 2024-11-29 and 2024-12-04 is: 0.01366120218579235\n",
      "The difference between 2025-02-28 and 2025-03-05 is: 0.0136986301369863\n",
      "The difference between 2025-05-28 and 2025-06-02 is: 0.0136986301369863\n",
      "The difference between 2025-08-28 and 2025-09-03 is: 0.01643835616438356\n",
      "The difference between 2025-11-28 and 2025-12-03 is: 0.0136986301369863\n"
     ]
    }
   ],
   "source": [
    "# Coupon diff dates to get the discounting date factor moving from redemption/coupon dates to observation dates\n",
    "cpn_diff = []\n",
    "for i in range(len(cpn_rdm_dates)):\n",
    "    diff = get_year_fraction(observation_dates[i+1], cpn_rdm_dates[i])\n",
    "    print(f\"The difference between {observation_dates[i+1]} and {cpn_rdm_dates[i]} is: {diff}\")\n",
    "    cpn_diff.append(diff)"
   ]
  },
  {
   "cell_type": "code",
   "execution_count": 20,
   "metadata": {},
   "outputs": [
    {
     "name": "stdout",
     "output_type": "stream",
     "text": [
      "8 [0.01366120218579235, 0.00819672131147541, 0.01639344262295082, 0.01366120218579235, 0.0136986301369863, 0.0136986301369863, 0.01643835616438356, 0.0136986301369863]\n"
     ]
    }
   ],
   "source": [
    "print(len(cpn_diff), cpn_diff)"
   ]
  },
  {
   "cell_type": "code",
   "execution_count": 21,
   "metadata": {},
   "outputs": [],
   "source": [
    "# sigma moneyness dict for both the indices\n",
    "sigma1_moneyness = {\n",
    "    70.00: 0.27772,\n",
    "    100.00: 0.21125\n",
    "}\n",
    "\n",
    "sigma2_moneyness = {\n",
    "    70.00: 0.25440,\n",
    "    100.00: 0.18195\n",
    "}\n",
    "\n",
    "rho_map = {\n",
    "    '6M': 0.736798,\n",
    "    '12M': 0.825055,\n",
    "    '18M': 0.885226,\n",
    "    '24M': 0.889623,\n",
    "}"
   ]
  },
  {
   "cell_type": "code",
   "execution_count": 22,
   "metadata": {},
   "outputs": [],
   "source": [
    "# function definition to calculate the note value\n",
    "def note_value(N, Ntrials, sigma1, sigma2, rho12):\n",
    "\n",
    "    # initializing RTY and SPX index and Note payoff simulations\n",
    "    S1 = np.zeros([N+1,len(M)+1])\n",
    "    S2 = np.zeros([N+1,len(M)+1])\n",
    "    V = np.zeros([N+1,len(M)+1])\n",
    "    pathCV = np.zeros([N+1,len(M)+1])\n",
    "    cpn_val = np.zeros([N+1,len(M)+1])\n",
    "    hatCV_arr = np.zeros([N+1,len(M)+1])\n",
    "    call_arr = np.zeros([N+1,len(M)+1])\n",
    "\n",
    "    rho = [[1, rho12],[rho12, 1]]\n",
    "\n",
    "    C = np.linalg.cholesky(rho)\n",
    "\n",
    "    Note_vals = []\n",
    "    for trial in range(1, Ntrials+1):\n",
    "        # loop for stock simulationa and payoff at maturity\n",
    "        for i in range(0, N+1):\n",
    "            # initialization for both underlyings for each simulation n\n",
    "            S1[i,0] = S10\n",
    "            S2[i,0] = S20\n",
    "            \n",
    "            for j in range(1, len(M)+1):\n",
    "                phi = []\n",
    "                for z in range(0, NA):\n",
    "                    phi.append(np.random.normal(0,1))\n",
    "                diffusion = np.matmul(C,phi)\n",
    "                S1[i,j] = S1[i,j-1]*np.exp(((r1-D1-0.5*sigma1**2)*M[j-1])+(sigma1*np.sqrt(M[j-1])*diffusion[0]))\n",
    "                S2[i,j] = S2[i,j-1]*np.exp(((r1-D2-0.5*sigma2**2)*M[j-1])+(sigma2*np.sqrt(M[j-1])*diffusion[1]))\n",
    "\n",
    "            # payoff at maturity\n",
    "            # final value of either underlying index to be greater or equal than than 0.7 of initial level\n",
    "            if (S1[i, len(M)] >= DT1) and (S2[i, len(M)] >= DT2):\n",
    "                # discounting back from December 3rd 2025 to Final observation date November 28 2025\n",
    "                V[i, len(M)] = (principal + cpn)*np.exp(-r2*cpn_diff[-1])\n",
    "\n",
    "            # final value of either underlying index to be less than than 0.7 of initial level\n",
    "            else:\n",
    "                # to determine the worst performing index\n",
    "                worst_performance_factor = np.minimum(((S1[i,len(M)])/(S1[i,0])), ((S2[i,len(M)])/(S2[i,0])))\n",
    "                V[i, len(M)] = (principal * worst_performance_factor)*np.exp(-r2*cpn_diff[-1])\n",
    "\n",
    "        #  loop for pathCV calculations and regressions\n",
    "        for j in range(len(M)-1, 0, -1):\n",
    "            for i in range(0, N+1):\n",
    "\n",
    "                # getting the pathCV value by discounting back one period and appending that to pathCV list\n",
    "                pathCV_val = np.exp(-r2*M[j])*V[i,j+1]\n",
    "                pathCV[i,j] =  pathCV_val\n",
    "\n",
    "                # add contingent coupon if both the underlying are above 0.7 of initial level\n",
    "                if (S1[i, j] >= CB1) and (S2[i,j] >= CB2):\n",
    "                    # discounting back the coupon from redemption date to observation date\n",
    "                    cpn_sim = cpn*np.exp(-r2*cpn_diff[j-1])\n",
    "                else:\n",
    "                    cpn_sim = 0\n",
    "\n",
    "                cpn_val[i,j] = cpn_sim\n",
    "\n",
    "            x = S1[:, j]\n",
    "            y = S2[:, j]\n",
    "            z = pathCV[:, j]\n",
    "\n",
    "            degree = 6\n",
    "            # polynomial definition and running an OLS regressionn with S1 and S2 cubic polynomila as features and pathCV as target variable\n",
    "            poly = PolynomialFeatures(degree=degree, include_bias=False)\n",
    "            X = poly.fit_transform(np.column_stack([x, y]))\n",
    "\n",
    "            X = sm.add_constant(X)\n",
    "\n",
    "            model = sm.OLS(z, X)\n",
    "            results = model.fit()\n",
    "\n",
    "            # coefficients from model\n",
    "            params = results.params\n",
    "\n",
    "            # getting the value of hatCV by multiplying S1 and S2 cubic polynomial matrix with best fit coefficient matrix \n",
    "            hatCV = X @ params\n",
    "            hatCV_arr[:, j] = hatCV\n",
    "\n",
    "            # defining call amount and discounting that back from redemption date to observation date \n",
    "            call_amount = principal*np.exp(-r2*cpn_diff[j-1])\n",
    "            call_arr[:, j] = call_amount\n",
    "\n",
    "            for i in range(0, N+1):\n",
    "                # considering call feature\n",
    "                if (j>=2) and (hatCV_arr[i,j] > call_arr[i,j]):\n",
    "                    V[i,j] = call_arr[i,j]\n",
    "                else:\n",
    "                    V[i,j] = pathCV[i,j]\n",
    "\n",
    "                # adding the coupon\n",
    "                V[i,j] += cpn_val[i,j]\n",
    "            \n",
    "                #print(i,j,S1[i,j],S2[i,j],V[i,j],call_arr[i,j],hatCV_arr[i,j])\n",
    "        # loop for note value calculation\n",
    "        t = 0\n",
    "        for i in range(0, N+1): \n",
    "            t+=1\n",
    "            # getting values at t=0\n",
    "            V[i,0] = np.exp(-r2*M[0])*V[i,1]\n",
    "\n",
    "        Note_Value = (np.sum(V[:,0])/t)\n",
    "        Note_vals.append(Note_Value)\n",
    "    return Note_vals"
   ]
  },
  {
   "cell_type": "markdown",
   "metadata": {},
   "source": [
    "##### Calculating the note value using Ntrails=10, N = 100000 simulations at moneyness of (70,70) and (100,100) for (RTY,SPX) indices using 24N rho12=0.889623 and averaging the values to get final note value."
   ]
  },
  {
   "cell_type": "code",
   "execution_count": 23,
   "metadata": {},
   "outputs": [
    {
     "name": "stdout",
     "output_type": "stream",
     "text": [
      "The 10 Ntrials results for moneyness of (70,70) is:\n",
      "[948.9319468772472, 948.4833936106303, 947.377699471493, 946.5392640048569, 947.6002369464856, 947.7833533876744, 948.1555122314102, 949.4737676948556, 948.9884789756888, 948.4392176027192]\n",
      "\n",
      "The 10 Ntrials results for moneyness of (100,100) is:\n",
      "[990.8397894982442, 991.3245661190687, 990.7612521817648, 991.4235743252191, 991.4730531485346, 991.9394901115024, 991.45665189612, 992.1643721300372, 991.7324706492662, 991.8270188432932]\n",
      "\n",
      "The estimated fair value of the note by mean at moneyness (70,70) and (100,100) is: $ 969.836\n"
     ]
    }
   ],
   "source": [
    "Ntrails=10\n",
    "N=100000\n",
    "sig1_70 = 0.27772\n",
    "sig2_70 = 0.25440\n",
    "sig1_100 = 0.21125\n",
    "sig2_100 = 0.18195\n",
    "rho12 = 0.889623\n",
    "\n",
    "# calculating the note value list for Ntrials at moneyness of (70,70)\n",
    "Note_val_70_70 = note_value(N, Ntrials, sig1_70, sig2_70, rho12)\n",
    "print(f\"The {Ntrials} Ntrials results for moneyness of (70,70) is:\\n{Note_val_70_70}\\n\")\n",
    "\n",
    "# calculating the note value list for Ntrials at moneyness of (100,100)\n",
    "Note_val_100_100 = note_value(N, Ntrials, sig1_100, sig2_100, rho12)\n",
    "print(f\"The {Ntrials} Ntrials results for moneyness of (100,100) is:\\n{Note_val_100_100}\\n\")\n",
    "\n",
    "# averaging values for (70,70) and (100,100) at each trial\n",
    "final_note_value = [(a + b)/2 for a, b in zip(Note_val_70_70, Note_val_100_100)]\n",
    "\n",
    "# calculating the average between (70,70) and (100,100)\n",
    "final_note_value_avg = np.mean(final_note_value)\n",
    "print(f\"The estimated fair value of the note by mean at moneyness (70,70) and (100,100) is: $ {final_note_value_avg:.3f}\")"
   ]
  },
  {
   "cell_type": "markdown",
   "metadata": {},
   "source": [
    "<div style=\"border-bottom: 2px solid black; display: inline-block; margin-bottom: 20px;\">\n",
    "<span style=\"font-family: Cambria, serif; font-weight: bold; font-size: 20px; background-color: green;\">The estimated fair value of the note by mean at moneyness (70,70) and (100,100) is: $ 969.882</span>\n",
    "\n",
    "</div>"
   ]
  },
  {
   "cell_type": "markdown",
   "metadata": {},
   "source": [
    "#### Error Analysis taking the exact value of the note as $972.40"
   ]
  },
  {
   "cell_type": "code",
   "execution_count": 25,
   "metadata": {},
   "outputs": [
    {
     "data": {
      "text/html": [
       "<div>\n",
       "<style scoped>\n",
       "    .dataframe tbody tr th:only-of-type {\n",
       "        vertical-align: middle;\n",
       "    }\n",
       "\n",
       "    .dataframe tbody tr th {\n",
       "        vertical-align: top;\n",
       "    }\n",
       "\n",
       "    .dataframe thead th {\n",
       "        text-align: right;\n",
       "    }\n",
       "</style>\n",
       "<table border=\"1\" class=\"dataframe\">\n",
       "  <thead>\n",
       "    <tr style=\"text-align: right;\">\n",
       "      <th></th>\n",
       "      <th>Monte Values</th>\n",
       "      <th>Exact Note Value</th>\n",
       "      <th>Errors</th>\n",
       "    </tr>\n",
       "  </thead>\n",
       "  <tbody>\n",
       "    <tr>\n",
       "      <th>0</th>\n",
       "      <td>969.885868</td>\n",
       "      <td>972.4</td>\n",
       "      <td>-2.514132</td>\n",
       "    </tr>\n",
       "    <tr>\n",
       "      <th>1</th>\n",
       "      <td>969.903980</td>\n",
       "      <td>972.4</td>\n",
       "      <td>-2.496020</td>\n",
       "    </tr>\n",
       "    <tr>\n",
       "      <th>2</th>\n",
       "      <td>969.069476</td>\n",
       "      <td>972.4</td>\n",
       "      <td>-3.330524</td>\n",
       "    </tr>\n",
       "    <tr>\n",
       "      <th>3</th>\n",
       "      <td>968.981419</td>\n",
       "      <td>972.4</td>\n",
       "      <td>-3.418581</td>\n",
       "    </tr>\n",
       "    <tr>\n",
       "      <th>4</th>\n",
       "      <td>969.536645</td>\n",
       "      <td>972.4</td>\n",
       "      <td>-2.863355</td>\n",
       "    </tr>\n",
       "    <tr>\n",
       "      <th>5</th>\n",
       "      <td>969.861422</td>\n",
       "      <td>972.4</td>\n",
       "      <td>-2.538578</td>\n",
       "    </tr>\n",
       "    <tr>\n",
       "      <th>6</th>\n",
       "      <td>969.806082</td>\n",
       "      <td>972.4</td>\n",
       "      <td>-2.593918</td>\n",
       "    </tr>\n",
       "    <tr>\n",
       "      <th>7</th>\n",
       "      <td>970.819070</td>\n",
       "      <td>972.4</td>\n",
       "      <td>-1.580930</td>\n",
       "    </tr>\n",
       "    <tr>\n",
       "      <th>8</th>\n",
       "      <td>970.360475</td>\n",
       "      <td>972.4</td>\n",
       "      <td>-2.039525</td>\n",
       "    </tr>\n",
       "    <tr>\n",
       "      <th>9</th>\n",
       "      <td>970.133118</td>\n",
       "      <td>972.4</td>\n",
       "      <td>-2.266882</td>\n",
       "    </tr>\n",
       "  </tbody>\n",
       "</table>\n",
       "</div>"
      ],
      "text/plain": [
       "   Monte Values  Exact Note Value    Errors\n",
       "0    969.885868             972.4 -2.514132\n",
       "1    969.903980             972.4 -2.496020\n",
       "2    969.069476             972.4 -3.330524\n",
       "3    968.981419             972.4 -3.418581\n",
       "4    969.536645             972.4 -2.863355\n",
       "5    969.861422             972.4 -2.538578\n",
       "6    969.806082             972.4 -2.593918\n",
       "7    970.819070             972.4 -1.580930\n",
       "8    970.360475             972.4 -2.039525\n",
       "9    970.133118             972.4 -2.266882"
      ]
     },
     "execution_count": 25,
     "metadata": {},
     "output_type": "execute_result"
    }
   ],
   "source": [
    "# creatinga dataframe to do error analysis\n",
    "df = pd.DataFrame(final_note_value, columns=['Monte Values'])\n",
    "df['Exact Note Value'] = 972.40\n",
    "df['Errors'] = df['Monte Values'] - df['Exact Note Value']\n",
    "df"
   ]
  },
  {
   "cell_type": "code",
   "execution_count": 27,
   "metadata": {},
   "outputs": [
    {
     "name": "stdout",
     "output_type": "stream",
     "text": [
      "Mean Error is: -2.564244514694394;\n",
      "and Standard Deviation of Errors is: 0.5523595314758891\n"
     ]
    }
   ],
   "source": [
    "print(f\"Mean Error is: {df['Errors'].mean()};\\nand Standard Deviation of Errors is: {df['Errors'].std()}\")"
   ]
  },
  {
   "cell_type": "markdown",
   "metadata": {},
   "source": [
    "### Here we see that the mean error is -2.564 and Standard deviation is 0.552. This is beacuse we do not know the volatalities of each underlying asset and the correlation factor. So for these fixed values we get the above results"
   ]
  },
  {
   "cell_type": "markdown",
   "metadata": {},
   "source": [
    "---"
   ]
  },
  {
   "cell_type": "markdown",
   "metadata": {},
   "source": [
    "<div style=\"border-bottom: 2px solid black; display: inline-block;\">\n",
    "<span style=\"font-family: Cambria, serif; font-weight: bold; font-size: 28px;\">VI) Sensitivity Analysis ==></span>\n",
    "</div>"
   ]
  },
  {
   "cell_type": "markdown",
   "metadata": {},
   "source": [
    "<div style=\"border-bottom: 2px solid black; display: inline-block;\">\n",
    "<span style=\"font-family: Cambria, serif; font-weight: bold; font-size: 20px;\">i) Varying simulations N from 1000 till 50000 for Ntrials=3, Moneyness is average between (70,70) and (100,100) and 24M rh012=0.889623 ==></span>\n",
    "</div>"
   ]
  },
  {
   "cell_type": "code",
   "execution_count": 30,
   "metadata": {},
   "outputs": [],
   "source": [
    "def note_N_sim(N):\n",
    "\n",
    "    Ntrails=3\n",
    "    sig1_70 = 0.27772\n",
    "    sig2_70 = 0.25440\n",
    "    sig1_100 = 0.21125\n",
    "    sig2_100 = 0.18195\n",
    "    rho12 = 0.889623\n",
    "\n",
    "    # calculating the note value list for Ntrials at moneyness of (70,70)\n",
    "    Note_val_70_70 = note_value(N, Ntrials, sig1_70, sig2_70, rho12)\n",
    "    # averaging it out across trials\n",
    "    avg_70_70 = np.mean(Note_val_70_70)\n",
    "\n",
    "    # calculating the note value list for Ntrials at moneyness of (100,100)\n",
    "    Note_val_100_100 = note_value(N, Ntrials, sig1_100, sig2_100, rho12)\n",
    "    # averaging it out across trials\n",
    "    avg_100_100 = np.mean(Note_val_100_100)\n",
    "\n",
    "    # calculating the average between (70,70) and (100,100)\n",
    "    final_note_value = (avg_70_70 + avg_100_100)/2\n",
    "    output = {'Simulations': N, 'Monte': final_note_value}\n",
    "\n",
    "    return output"
   ]
  },
  {
   "cell_type": "code",
   "execution_count": null,
   "metadata": {},
   "outputs": [
    {
     "name": "stdout",
     "output_type": "stream",
     "text": [
      "current N is: 1000\n",
      "current N is: 6000\n",
      "current N is: 11000\n",
      "current N is: 16000\n",
      "current N is: 21000\n",
      "current N is: 26000\n"
     ]
    },
    {
     "ename": "KeyboardInterrupt",
     "evalue": "",
     "output_type": "error",
     "traceback": [
      "\u001b[1;31m---------------------------------------------------------------------------\u001b[0m",
      "\u001b[1;31mKeyboardInterrupt\u001b[0m                         Traceback (most recent call last)",
      "Cell \u001b[1;32mIn[35], line 4\u001b[0m\n\u001b[0;32m      2\u001b[0m \u001b[38;5;28;01mfor\u001b[39;00m i \u001b[38;5;129;01min\u001b[39;00m \u001b[38;5;28mrange\u001b[39m(\u001b[38;5;241m1000\u001b[39m, \u001b[38;5;241m50001\u001b[39m, \u001b[38;5;241m5000\u001b[39m):\n\u001b[0;32m      3\u001b[0m     \u001b[38;5;28mprint\u001b[39m(\u001b[38;5;124mf\u001b[39m\u001b[38;5;124m\"\u001b[39m\u001b[38;5;124mcurrent N is: \u001b[39m\u001b[38;5;132;01m{\u001b[39;00mi\u001b[38;5;132;01m}\u001b[39;00m\u001b[38;5;124m\"\u001b[39m)\n\u001b[1;32m----> 4\u001b[0m     sim_sen\u001b[38;5;241m.\u001b[39mappend(note_N_sim(i))\n",
      "Cell \u001b[1;32mIn[30], line 16\u001b[0m, in \u001b[0;36mnote_N_sim\u001b[1;34m(N)\u001b[0m\n\u001b[0;32m     13\u001b[0m avg_70_70 \u001b[38;5;241m=\u001b[39m np\u001b[38;5;241m.\u001b[39mmean(Note_val_70_70)\n\u001b[0;32m     15\u001b[0m \u001b[38;5;66;03m# calculating the note value list for Ntrials at moneyness of (100,100)\u001b[39;00m\n\u001b[1;32m---> 16\u001b[0m Note_val_100_100 \u001b[38;5;241m=\u001b[39m note_value(N, Ntrials, sig1_100, sig2_100, rho12)\n\u001b[0;32m     17\u001b[0m \u001b[38;5;66;03m# averaging it out across trials\u001b[39;00m\n\u001b[0;32m     18\u001b[0m avg_100_100 \u001b[38;5;241m=\u001b[39m np\u001b[38;5;241m.\u001b[39mmean(Note_val_100_100)\n",
      "Cell \u001b[1;32mIn[22], line 49\u001b[0m, in \u001b[0;36mnote_value\u001b[1;34m(N, Ntrials, sigma1, sigma2, rho12)\u001b[0m\n\u001b[0;32m     45\u001b[0m \u001b[38;5;28;01mfor\u001b[39;00m j \u001b[38;5;129;01min\u001b[39;00m \u001b[38;5;28mrange\u001b[39m(\u001b[38;5;28mlen\u001b[39m(M)\u001b[38;5;241m-\u001b[39m\u001b[38;5;241m1\u001b[39m, \u001b[38;5;241m0\u001b[39m, \u001b[38;5;241m-\u001b[39m\u001b[38;5;241m1\u001b[39m):\n\u001b[0;32m     46\u001b[0m     \u001b[38;5;28;01mfor\u001b[39;00m i \u001b[38;5;129;01min\u001b[39;00m \u001b[38;5;28mrange\u001b[39m(\u001b[38;5;241m0\u001b[39m, N\u001b[38;5;241m+\u001b[39m\u001b[38;5;241m1\u001b[39m):\n\u001b[0;32m     47\u001b[0m \n\u001b[0;32m     48\u001b[0m         \u001b[38;5;66;03m# getting the pathCV value by discounting back one period and appending that to pathCV list\u001b[39;00m\n\u001b[1;32m---> 49\u001b[0m         pathCV_val \u001b[38;5;241m=\u001b[39m np\u001b[38;5;241m.\u001b[39mexp(\u001b[38;5;241m-\u001b[39mr2\u001b[38;5;241m*\u001b[39mM[j])\u001b[38;5;241m*\u001b[39mV[i,j\u001b[38;5;241m+\u001b[39m\u001b[38;5;241m1\u001b[39m]\n\u001b[0;32m     50\u001b[0m         pathCV[i,j] \u001b[38;5;241m=\u001b[39m  pathCV_val\n\u001b[0;32m     52\u001b[0m         \u001b[38;5;66;03m# add contingent coupon if both the underlying are above 0.7 of initial level\u001b[39;00m\n",
      "\u001b[1;31mKeyboardInterrupt\u001b[0m: "
     ]
    }
   ],
   "source": [
    "sim_sen = []\n",
    "for i in range(1000, 21001, 5000):\n",
    "    print(f\"current N is: {i}\")\n",
    "    sim_sen.append(note_N_sim(i))"
   ]
  },
  {
   "cell_type": "code",
   "execution_count": 104,
   "metadata": {},
   "outputs": [],
   "source": [
    "sig1 = [0.27772, 0.21125]\n",
    "sig2 = [0.25440, 0.18195]\n",
    "rho_loop = [0.736798, 0.825055, 0.885226, 0.889623]"
   ]
  },
  {
   "cell_type": "code",
   "execution_count": 105,
   "metadata": {},
   "outputs": [
    {
     "name": "stdout",
     "output_type": "stream",
     "text": [
      "The estimated fair value of the note at moneyness of 70.0 for RTY and 70.0 for SPX with correlation of 6M using 100000 simulations and trial number 1 is: $931.847\n",
      "The estimated fair value of the note at moneyness of 70.0 for RTY and 70.0 for SPX with correlation of 6M using 100000 simulations and trial number 2 is: $932.881\n",
      "The estimated fair value of the note at moneyness of 70.0 for RTY and 70.0 for SPX with correlation of 6M using 100000 simulations and trial number 3 is: $932.243\n",
      "The estimated fair value of the note at moneyness of 70.0 for RTY and 70.0 for SPX with correlation of 6M using 100000 simulations and trial number 4 is: $931.944\n",
      "The estimated fair value of the note at moneyness of 70.0 for RTY and 70.0 for SPX with correlation of 6M using 100000 simulations and trial number 5 is: $932.436\n",
      "The estimated fair value of the note at moneyness of 70.0 for RTY and 70.0 for SPX with correlation of 6M using 100000 simulations and trial number 6 is: $932.631\n",
      "The estimated fair value of the note at moneyness of 70.0 for RTY and 70.0 for SPX with correlation of 6M using 100000 simulations and trial number 7 is: $931.954\n",
      "The estimated fair value of the note at moneyness of 70.0 for RTY and 70.0 for SPX with correlation of 6M using 100000 simulations and trial number 8 is: $932.574\n",
      "The estimated fair value of the note at moneyness of 70.0 for RTY and 70.0 for SPX with correlation of 6M using 100000 simulations and trial number 9 is: $931.531\n",
      "The estimated fair value of the note at moneyness of 70.0 for RTY and 70.0 for SPX with correlation of 6M using 100000 simulations and trial number 10 is: $932.980\n",
      "The estimated fair value of the note at moneyness of 70.0 for RTY and 100.0 for SPX with correlation of 6M using 100000 simulations and trial number 1 is: $953.629\n",
      "The estimated fair value of the note at moneyness of 70.0 for RTY and 100.0 for SPX with correlation of 6M using 100000 simulations and trial number 2 is: $953.931\n",
      "The estimated fair value of the note at moneyness of 70.0 for RTY and 100.0 for SPX with correlation of 6M using 100000 simulations and trial number 3 is: $951.987\n",
      "The estimated fair value of the note at moneyness of 70.0 for RTY and 100.0 for SPX with correlation of 6M using 100000 simulations and trial number 4 is: $953.305\n",
      "The estimated fair value of the note at moneyness of 70.0 for RTY and 100.0 for SPX with correlation of 6M using 100000 simulations and trial number 5 is: $953.161\n",
      "The estimated fair value of the note at moneyness of 70.0 for RTY and 100.0 for SPX with correlation of 6M using 100000 simulations and trial number 6 is: $953.430\n",
      "The estimated fair value of the note at moneyness of 70.0 for RTY and 100.0 for SPX with correlation of 6M using 100000 simulations and trial number 7 is: $952.913\n",
      "The estimated fair value of the note at moneyness of 70.0 for RTY and 100.0 for SPX with correlation of 6M using 100000 simulations and trial number 8 is: $952.379\n",
      "The estimated fair value of the note at moneyness of 70.0 for RTY and 100.0 for SPX with correlation of 6M using 100000 simulations and trial number 9 is: $953.373\n",
      "The estimated fair value of the note at moneyness of 70.0 for RTY and 100.0 for SPX with correlation of 6M using 100000 simulations and trial number 10 is: $954.181\n",
      "The estimated fair value of the note at moneyness of 100.0 for RTY and 70.0 for SPX with correlation of 6M using 100000 simulations and trial number 1 is: $959.758\n",
      "The estimated fair value of the note at moneyness of 100.0 for RTY and 70.0 for SPX with correlation of 6M using 100000 simulations and trial number 2 is: $959.398\n",
      "The estimated fair value of the note at moneyness of 100.0 for RTY and 70.0 for SPX with correlation of 6M using 100000 simulations and trial number 3 is: $959.427\n",
      "The estimated fair value of the note at moneyness of 100.0 for RTY and 70.0 for SPX with correlation of 6M using 100000 simulations and trial number 4 is: $959.624\n",
      "The estimated fair value of the note at moneyness of 100.0 for RTY and 70.0 for SPX with correlation of 6M using 100000 simulations and trial number 5 is: $959.453\n",
      "The estimated fair value of the note at moneyness of 100.0 for RTY and 70.0 for SPX with correlation of 6M using 100000 simulations and trial number 6 is: $957.937\n",
      "The estimated fair value of the note at moneyness of 100.0 for RTY and 70.0 for SPX with correlation of 6M using 100000 simulations and trial number 7 is: $957.831\n",
      "The estimated fair value of the note at moneyness of 100.0 for RTY and 70.0 for SPX with correlation of 6M using 100000 simulations and trial number 8 is: $959.219\n",
      "The estimated fair value of the note at moneyness of 100.0 for RTY and 70.0 for SPX with correlation of 6M using 100000 simulations and trial number 9 is: $958.655\n",
      "The estimated fair value of the note at moneyness of 100.0 for RTY and 70.0 for SPX with correlation of 6M using 100000 simulations and trial number 10 is: $960.084\n",
      "The estimated fair value of the note at moneyness of 100.0 for RTY and 100.0 for SPX with correlation of 6M using 100000 simulations and trial number 1 is: $987.431\n",
      "The estimated fair value of the note at moneyness of 100.0 for RTY and 100.0 for SPX with correlation of 6M using 100000 simulations and trial number 2 is: $986.979\n",
      "The estimated fair value of the note at moneyness of 100.0 for RTY and 100.0 for SPX with correlation of 6M using 100000 simulations and trial number 3 is: $988.306\n",
      "The estimated fair value of the note at moneyness of 100.0 for RTY and 100.0 for SPX with correlation of 6M using 100000 simulations and trial number 4 is: $987.384\n",
      "The estimated fair value of the note at moneyness of 100.0 for RTY and 100.0 for SPX with correlation of 6M using 100000 simulations and trial number 5 is: $987.447\n",
      "The estimated fair value of the note at moneyness of 100.0 for RTY and 100.0 for SPX with correlation of 6M using 100000 simulations and trial number 6 is: $987.452\n",
      "The estimated fair value of the note at moneyness of 100.0 for RTY and 100.0 for SPX with correlation of 6M using 100000 simulations and trial number 7 is: $987.354\n",
      "The estimated fair value of the note at moneyness of 100.0 for RTY and 100.0 for SPX with correlation of 6M using 100000 simulations and trial number 8 is: $987.417\n",
      "The estimated fair value of the note at moneyness of 100.0 for RTY and 100.0 for SPX with correlation of 6M using 100000 simulations and trial number 9 is: $987.484\n",
      "The estimated fair value of the note at moneyness of 100.0 for RTY and 100.0 for SPX with correlation of 6M using 100000 simulations and trial number 10 is: $987.216\n",
      "The estimated fair value of the note at moneyness of 70.0 for RTY and 70.0 for SPX with correlation of 12M using 100000 simulations and trial number 1 is: $938.005\n",
      "The estimated fair value of the note at moneyness of 70.0 for RTY and 70.0 for SPX with correlation of 12M using 100000 simulations and trial number 2 is: $938.450\n",
      "The estimated fair value of the note at moneyness of 70.0 for RTY and 70.0 for SPX with correlation of 12M using 100000 simulations and trial number 3 is: $938.510\n",
      "The estimated fair value of the note at moneyness of 70.0 for RTY and 70.0 for SPX with correlation of 12M using 100000 simulations and trial number 4 is: $939.209\n",
      "The estimated fair value of the note at moneyness of 70.0 for RTY and 70.0 for SPX with correlation of 12M using 100000 simulations and trial number 5 is: $938.974\n",
      "The estimated fair value of the note at moneyness of 70.0 for RTY and 70.0 for SPX with correlation of 12M using 100000 simulations and trial number 6 is: $938.116\n",
      "The estimated fair value of the note at moneyness of 70.0 for RTY and 70.0 for SPX with correlation of 12M using 100000 simulations and trial number 7 is: $937.987\n",
      "The estimated fair value of the note at moneyness of 70.0 for RTY and 70.0 for SPX with correlation of 12M using 100000 simulations and trial number 8 is: $938.062\n",
      "The estimated fair value of the note at moneyness of 70.0 for RTY and 70.0 for SPX with correlation of 12M using 100000 simulations and trial number 9 is: $937.967\n",
      "The estimated fair value of the note at moneyness of 70.0 for RTY and 70.0 for SPX with correlation of 12M using 100000 simulations and trial number 10 is: $939.348\n",
      "The estimated fair value of the note at moneyness of 70.0 for RTY and 100.0 for SPX with correlation of 12M using 100000 simulations and trial number 1 is: $955.629\n",
      "The estimated fair value of the note at moneyness of 70.0 for RTY and 100.0 for SPX with correlation of 12M using 100000 simulations and trial number 2 is: $954.695\n",
      "The estimated fair value of the note at moneyness of 70.0 for RTY and 100.0 for SPX with correlation of 12M using 100000 simulations and trial number 3 is: $955.687\n",
      "The estimated fair value of the note at moneyness of 70.0 for RTY and 100.0 for SPX with correlation of 12M using 100000 simulations and trial number 4 is: $955.767\n",
      "The estimated fair value of the note at moneyness of 70.0 for RTY and 100.0 for SPX with correlation of 12M using 100000 simulations and trial number 5 is: $955.548\n",
      "The estimated fair value of the note at moneyness of 70.0 for RTY and 100.0 for SPX with correlation of 12M using 100000 simulations and trial number 6 is: $954.466\n",
      "The estimated fair value of the note at moneyness of 70.0 for RTY and 100.0 for SPX with correlation of 12M using 100000 simulations and trial number 7 is: $955.408\n",
      "The estimated fair value of the note at moneyness of 70.0 for RTY and 100.0 for SPX with correlation of 12M using 100000 simulations and trial number 8 is: $955.348\n",
      "The estimated fair value of the note at moneyness of 70.0 for RTY and 100.0 for SPX with correlation of 12M using 100000 simulations and trial number 9 is: $955.511\n",
      "The estimated fair value of the note at moneyness of 70.0 for RTY and 100.0 for SPX with correlation of 12M using 100000 simulations and trial number 10 is: $954.516\n",
      "The estimated fair value of the note at moneyness of 100.0 for RTY and 70.0 for SPX with correlation of 12M using 100000 simulations and trial number 1 is: $962.652\n",
      "The estimated fair value of the note at moneyness of 100.0 for RTY and 70.0 for SPX with correlation of 12M using 100000 simulations and trial number 2 is: $963.255\n",
      "The estimated fair value of the note at moneyness of 100.0 for RTY and 70.0 for SPX with correlation of 12M using 100000 simulations and trial number 3 is: $963.153\n",
      "The estimated fair value of the note at moneyness of 100.0 for RTY and 70.0 for SPX with correlation of 12M using 100000 simulations and trial number 4 is: $962.839\n",
      "The estimated fair value of the note at moneyness of 100.0 for RTY and 70.0 for SPX with correlation of 12M using 100000 simulations and trial number 5 is: $962.830\n",
      "The estimated fair value of the note at moneyness of 100.0 for RTY and 70.0 for SPX with correlation of 12M using 100000 simulations and trial number 6 is: $963.095\n",
      "The estimated fair value of the note at moneyness of 100.0 for RTY and 70.0 for SPX with correlation of 12M using 100000 simulations and trial number 7 is: $962.189\n",
      "The estimated fair value of the note at moneyness of 100.0 for RTY and 70.0 for SPX with correlation of 12M using 100000 simulations and trial number 8 is: $962.402\n",
      "The estimated fair value of the note at moneyness of 100.0 for RTY and 70.0 for SPX with correlation of 12M using 100000 simulations and trial number 9 is: $963.255\n",
      "The estimated fair value of the note at moneyness of 100.0 for RTY and 70.0 for SPX with correlation of 12M using 100000 simulations and trial number 10 is: $963.566\n",
      "The estimated fair value of the note at moneyness of 100.0 for RTY and 100.0 for SPX with correlation of 12M using 100000 simulations and trial number 1 is: $989.806\n",
      "The estimated fair value of the note at moneyness of 100.0 for RTY and 100.0 for SPX with correlation of 12M using 100000 simulations and trial number 2 is: $989.127\n",
      "The estimated fair value of the note at moneyness of 100.0 for RTY and 100.0 for SPX with correlation of 12M using 100000 simulations and trial number 3 is: $989.303\n",
      "The estimated fair value of the note at moneyness of 100.0 for RTY and 100.0 for SPX with correlation of 12M using 100000 simulations and trial number 4 is: $989.234\n",
      "The estimated fair value of the note at moneyness of 100.0 for RTY and 100.0 for SPX with correlation of 12M using 100000 simulations and trial number 5 is: $989.526\n",
      "The estimated fair value of the note at moneyness of 100.0 for RTY and 100.0 for SPX with correlation of 12M using 100000 simulations and trial number 6 is: $989.216\n",
      "The estimated fair value of the note at moneyness of 100.0 for RTY and 100.0 for SPX with correlation of 12M using 100000 simulations and trial number 7 is: $989.829\n",
      "The estimated fair value of the note at moneyness of 100.0 for RTY and 100.0 for SPX with correlation of 12M using 100000 simulations and trial number 8 is: $990.481\n",
      "The estimated fair value of the note at moneyness of 100.0 for RTY and 100.0 for SPX with correlation of 12M using 100000 simulations and trial number 9 is: $990.535\n",
      "The estimated fair value of the note at moneyness of 100.0 for RTY and 100.0 for SPX with correlation of 12M using 100000 simulations and trial number 10 is: $990.083\n",
      "The estimated fair value of the note at moneyness of 70.0 for RTY and 70.0 for SPX with correlation of 18M using 100000 simulations and trial number 1 is: $942.585\n",
      "The estimated fair value of the note at moneyness of 70.0 for RTY and 70.0 for SPX with correlation of 18M using 100000 simulations and trial number 2 is: $942.007\n",
      "The estimated fair value of the note at moneyness of 70.0 for RTY and 70.0 for SPX with correlation of 18M using 100000 simulations and trial number 3 is: $942.720\n"
     ]
    },
    {
     "ename": "KeyboardInterrupt",
     "evalue": "",
     "output_type": "error",
     "traceback": [
      "\u001b[1;31m---------------------------------------------------------------------------\u001b[0m",
      "\u001b[1;31mKeyboardInterrupt\u001b[0m                         Traceback (most recent call last)",
      "Cell \u001b[1;32mIn[105], line 4\u001b[0m\n\u001b[0;32m      2\u001b[0m \u001b[38;5;28;01mfor\u001b[39;00m j \u001b[38;5;129;01min\u001b[39;00m sig1:\n\u001b[0;32m      3\u001b[0m     \u001b[38;5;28;01mfor\u001b[39;00m k \u001b[38;5;129;01min\u001b[39;00m sig2:\n\u001b[1;32m----> 4\u001b[0m         note_value(j, k, i)\n",
      "Cell \u001b[1;32mIn[103], line 17\u001b[0m, in \u001b[0;36mnote_value\u001b[1;34m(sigma1, sigma2, rho12)\u001b[0m\n\u001b[0;32m     15\u001b[0m phi \u001b[38;5;241m=\u001b[39m []\n\u001b[0;32m     16\u001b[0m \u001b[38;5;28;01mfor\u001b[39;00m z \u001b[38;5;129;01min\u001b[39;00m \u001b[38;5;28mrange\u001b[39m(\u001b[38;5;241m0\u001b[39m, NA):\n\u001b[1;32m---> 17\u001b[0m     phi\u001b[38;5;241m.\u001b[39mappend(np\u001b[38;5;241m.\u001b[39mrandom\u001b[38;5;241m.\u001b[39mnormal(\u001b[38;5;241m0\u001b[39m,\u001b[38;5;241m1\u001b[39m))\n\u001b[0;32m     18\u001b[0m diffusion \u001b[38;5;241m=\u001b[39m np\u001b[38;5;241m.\u001b[39mmatmul(C,phi)\n\u001b[0;32m     19\u001b[0m S1[i,j] \u001b[38;5;241m=\u001b[39m S1[i,j\u001b[38;5;241m-\u001b[39m\u001b[38;5;241m1\u001b[39m]\u001b[38;5;241m*\u001b[39mnp\u001b[38;5;241m.\u001b[39mexp(((r1\u001b[38;5;241m-\u001b[39mD1\u001b[38;5;241m-\u001b[39m\u001b[38;5;241m0.5\u001b[39m\u001b[38;5;241m*\u001b[39msigma1\u001b[38;5;241m*\u001b[39m\u001b[38;5;241m*\u001b[39m\u001b[38;5;241m2\u001b[39m)\u001b[38;5;241m*\u001b[39mM[j\u001b[38;5;241m-\u001b[39m\u001b[38;5;241m1\u001b[39m])\u001b[38;5;241m+\u001b[39m(sigma1\u001b[38;5;241m*\u001b[39mnp\u001b[38;5;241m.\u001b[39msqrt(M[j\u001b[38;5;241m-\u001b[39m\u001b[38;5;241m1\u001b[39m])\u001b[38;5;241m*\u001b[39mdiffusion[\u001b[38;5;241m0\u001b[39m]))\n",
      "\u001b[1;31mKeyboardInterrupt\u001b[0m: "
     ]
    }
   ],
   "source": [
    "for i in rho_loop:\n",
    "    for j in sig1:\n",
    "        for k in sig2:\n",
    "            note_value(j, k, i)"
   ]
  },
  {
   "cell_type": "code",
   "execution_count": null,
   "metadata": {},
   "outputs": [],
   "source": []
  }
 ],
 "metadata": {
  "kernelspec": {
   "display_name": "base",
   "language": "python",
   "name": "python3"
  },
  "language_info": {
   "codemirror_mode": {
    "name": "ipython",
    "version": 3
   },
   "file_extension": ".py",
   "mimetype": "text/x-python",
   "name": "python",
   "nbconvert_exporter": "python",
   "pygments_lexer": "ipython3",
   "version": "3.12.4"
  }
 },
 "nbformat": 4,
 "nbformat_minor": 2
}
