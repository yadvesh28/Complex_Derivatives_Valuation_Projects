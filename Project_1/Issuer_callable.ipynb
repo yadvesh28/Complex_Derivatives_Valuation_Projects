{
 "cells": [
  {
   "cell_type": "markdown",
   "metadata": {},
   "source": [
    "<div style=\"color: #40E0D0; font-family: Cambria, serif; text-align: center; margin: 20px;\">\n",
    "\n",
    "<div style=\"font-size: 32px; font-weight: bold; margin-bottom: 15px;\">UBS AG $4,593,000 Trigger Callable Contingent Yield Notes</div>\n",
    "\n",
    "<div style=\"font-size: 24px; font-weight: bold; margin-bottom: 15px;\">Linked to the common stock of U.S. Bancorp due August 13, 2026</div>\n",
    "\n",
    "<div style=\"font-style: italic; font-size: 16px;\">-Valuation report Python notebook by Yadvesh, Krish and Mayank</div>\n",
    "\n",
    "</div>"
   ]
  },
  {
   "cell_type": "markdown",
   "metadata": {},
   "source": [
    "#### Group Members (NetID)\n",
    "* Krish Desai (kcdesai2)\n",
    "* Mayank Kalra (mkalra2)\n",
    "* Yadvesh Yadav (yyada)"
   ]
  },
  {
   "cell_type": "markdown",
   "metadata": {},
   "source": [
    "----"
   ]
  },
  {
   "cell_type": "markdown",
   "metadata": {},
   "source": [
    "<div style=\"border-bottom: 3px solid black; display: inline-block;\">\n",
    "<span style=\"font-family: Cambria, serif; font-weight: bold; font-size: 28px;\">I) Introduction ==></span>\n",
    "</div>"
   ]
  },
  {
   "cell_type": "markdown",
   "metadata": {},
   "source": [
    "<div style=\"border-bottom: 2px solid black; display: inline-block;\">\n",
    "<span style=\"font-family: Cambria, serif; font-weight: bold; font-size: 20px;\">1) Below are the Key Dates of the Note:</span>\n",
    "</div>"
   ]
  },
  {
   "cell_type": "markdown",
   "metadata": {},
   "source": [
    "![](./Images/key_dates.png)"
   ]
  },
  {
   "cell_type": "markdown",
   "metadata": {},
   "source": [
    "<div style=\"border-bottom: 2px solid black; display: inline-block;\">\n",
    "<span style=\"font-family: Cambria, serif; font-weight: bold; font-size: 20px;\">2) Below are the Note Offering:</span>\n",
    "</div>"
   ]
  },
  {
   "cell_type": "markdown",
   "metadata": {},
   "source": [
    "![](./Images/note_offering.png)"
   ]
  },
  {
   "cell_type": "markdown",
   "metadata": {},
   "source": [
    "<div style=\"border-bottom: 2px solid black; display: inline-block;\">\n",
    "<span style=\"font-family: Cambria, serif; font-weight: bold; font-size: 20px;\">3) Below are the Observation Dates and Coupon Payment Dates:</span>\n",
    "</div>"
   ]
  },
  {
   "cell_type": "markdown",
   "metadata": {},
   "source": [
    "![](./Images/obs_cpn_dates.png)"
   ]
  },
  {
   "cell_type": "markdown",
   "metadata": {},
   "source": [
    "-----"
   ]
  },
  {
   "cell_type": "markdown",
   "metadata": {},
   "source": [
    "<div style=\"border-bottom: 3px solid black; display: inline-block;\">\n",
    "<span style=\"font-family: Cambria, serif; font-weight: bold; font-size: 28px;\">II) Bloomberg Data (Risk-Free Rates(OIS), Dividend Yield, Volatality Matrix) is as follows ==> </span>\n",
    "</div>"
   ]
  },
  {
   "cell_type": "markdown",
   "metadata": {},
   "source": [
    "<div style=\"border-bottom: 2px solid black; display: inline-block;\">\n",
    "<span style=\"font-family: Cambria, serif; font-weight: bold; font-size: 20px;\">1) Risk Free Rate (OIS Rate):</span>\n",
    "</div>"
   ]
  },
  {
   "cell_type": "markdown",
   "metadata": {},
   "source": [
    "![](./Images/usd-ois.png)"
   ]
  },
  {
   "cell_type": "markdown",
   "metadata": {},
   "source": [
    "---"
   ]
  },
  {
   "cell_type": "markdown",
   "metadata": {},
   "source": [
    "<div style=\"border-bottom: 2px solid black; display: inline-block;\">\n",
    "<span style=\"font-family: Cambria, serif; font-weight: bold; font-size: 20px;\">2) Dividend Yield:</span>\n",
    "</div>"
   ]
  },
  {
   "cell_type": "markdown",
   "metadata": {},
   "source": [
    "![](./Images/div.png)"
   ]
  },
  {
   "cell_type": "markdown",
   "metadata": {},
   "source": [
    "---"
   ]
  },
  {
   "cell_type": "markdown",
   "metadata": {},
   "source": [
    "<div style=\"border-bottom: 2px solid black; display: inline-block;\">\n",
    "<span style=\"font-family: Cambria, serif; font-weight: bold; font-size: 20px;\">3) Implied Volatality Matrix:</span>\n",
    "</div>"
   ]
  },
  {
   "cell_type": "markdown",
   "metadata": {},
   "source": [
    "![](./Images/vols.png)"
   ]
  },
  {
   "cell_type": "markdown",
   "metadata": {},
   "source": [
    "---"
   ]
  },
  {
   "cell_type": "markdown",
   "metadata": {},
   "source": [
    "<div style=\"border-bottom: 2px solid black; display: inline-block;\">\n",
    "<span style=\"font-family: Cambria, serif; font-weight: bold; font-size: 28px;\">III) Getting the Risk-free rates from discount factors above ==></span>\n",
    "</div>"
   ]
  },
  {
   "cell_type": "code",
   "execution_count": 1,
   "metadata": {},
   "outputs": [],
   "source": [
    "# Importing Necessary Libraries\n",
    "from datetime import datetime\n",
    "import numpy as np\n",
    "import matplotlib.pyplot as plt\n",
    "import pandas as pd"
   ]
  },
  {
   "cell_type": "code",
   "execution_count": 2,
   "metadata": {},
   "outputs": [],
   "source": [
    "# function to get fractional difference between two dates\n",
    "def get_year_fraction(start_date, end_date):\n",
    "    if isinstance(start_date, str):\n",
    "        start_date = datetime.strptime(start_date, \"%Y-%m-%d\")\n",
    "    if isinstance(end_date, str):\n",
    "        end_date = datetime.strptime(end_date, \"%Y-%m-%d\")\n",
    "    \n",
    "    days_diff = (end_date - start_date).days\n",
    "    \n",
    "    year_frac = days_diff / 365\n",
    "    \n",
    "    return year_frac"
   ]
  },
  {
   "cell_type": "code",
   "execution_count": 3,
   "metadata": {},
   "outputs": [
    {
     "name": "stdout",
     "output_type": "stream",
     "text": [
      "The Value of DF_1 is: 0.999263\n",
      "\n",
      "The Value of DF_3 is: 0.927865\n"
     ]
    }
   ],
   "source": [
    "# Key dates\n",
    "T_0 = \"2024-08-08\"\n",
    "T_1 = \"2024-08-13\"\n",
    "T_2 = \"2026-08-10\"\n",
    "T_3 = \"2026-08-13\"\n",
    "\n",
    "# Discount Factors at Key Dates\n",
    "DF_0 = 1\n",
    "DF_2 = 0.928096\n",
    "\n",
    "# DF_1 and DF_3 needs to be calculated using Interpolation\n",
    "# We have:\n",
    "dt_2024_08_15 = \"2024-08-15\"\n",
    "DF_2024_08_15 = 0.998968\n",
    "dt_2027_08_09 = \"2027-08-09\"\n",
    "DF_2027_08_09 = 0.900124\n",
    "\n",
    "# Now using Interpolation we have:\n",
    "DF_1 = DF_0 + (DF_2024_08_15 - DF_0)*(get_year_fraction(T_1, T_0))/(get_year_fraction(dt_2024_08_15, T_0))\n",
    "print(f\"The Value of DF_1 is: {DF_1:.6f}\\n\")\n",
    "DF_3 = DF_2 + (DF_2027_08_09 - DF_2)*(get_year_fraction(T_3, T_2))/(get_year_fraction(dt_2027_08_09, T_2))\n",
    "print(f\"The Value of DF_3 is: {DF_3:.6f}\")"
   ]
  },
  {
   "cell_type": "markdown",
   "metadata": {},
   "source": [
    "<div style=\"border-bottom: 2px solid black; display: inline-block; margin-bottom: 20px;\">\n",
    "<span style=\"font-family: Cambria, serif; font-weight: bold; font-size: 20px;\">The Discount Factor Table after Linear Interpolation Looks like this</span>\n",
    "</div>\n",
    "\n",
    "<div style=\"font-family: Cambria, serif;\">\n",
    "\n",
    "| Keys | Dates     | DF        |\n",
    "|------|-----------|-----------|\n",
    "| T_0  | 8/8/2024  | 1.000000  |\n",
    "| T_1  | 8/13/2024 | 0.999263  |\n",
    "| T_2  | 8/10/2026 | 0.928096  |\n",
    "| T_3  | 8/13/2026 | 0.927865  |\n",
    "\n",
    "</div>"
   ]
  },
  {
   "cell_type": "code",
   "execution_count": 4,
   "metadata": {},
   "outputs": [],
   "source": [
    "# function to get r(0,T) from the discount factors DF\n",
    "def r_from_DF(DF, T, T_0):\n",
    "    dt = get_year_fraction(T_0, T)\n",
    "    r = -np.log(DF)/dt\n",
    "    return r, dt"
   ]
  },
  {
   "cell_type": "code",
   "execution_count": 5,
   "metadata": {},
   "outputs": [
    {
     "name": "stdout",
     "output_type": "stream",
     "text": [
      "The Value of continuously compounded risk free rate between T_0 and T_1(r_T0_T1) is: 0.05383127\n",
      "\n",
      "The Value of continuously compounded risk free rate between T_0 and T_2(r_T0_T2) is: 0.03720811\n",
      "\n",
      "The Value of continuously compounded risk free rate between T_0 and T_3(r_T0_T3) is: 0.03717961\n",
      "\n"
     ]
    }
   ],
   "source": [
    "r_T0_T1, T0_T1 = r_from_DF(DF_1, T_1, T_0)\n",
    "print(f\"The Value of continuously compounded risk free rate between T_0 and T_1(r_T0_T1) is: {r_T0_T1:.8f}\\n\")\n",
    "r_T0_T2, T0_T2 = r_from_DF(DF_2, T_2, T_0)\n",
    "print(f\"The Value of continuously compounded risk free rate between T_0 and T_2(r_T0_T2) is: {r_T0_T2:.8f}\\n\")\n",
    "r_T0_T3, T0_T3 = r_from_DF(DF_3, T_3, T_0)\n",
    "print(f\"The Value of continuously compounded risk free rate between T_0 and T_3(r_T0_T3) is: {r_T0_T3:.8f}\\n\")"
   ]
  },
  {
   "cell_type": "markdown",
   "metadata": {},
   "source": [
    "<div style=\"border-bottom: 2px solid black; display: inline-block; margin-bottom: 20px;\">\n",
    "<span style=\"font-family: Cambria, serif; font-weight: bold; font-size: 20px;\">The Discount Factor Table after Linear Interpolation Looks like this</span>\n",
    "</div>\n",
    "\n",
    "<div style=\"font-family: Cambria, serif;\">\n",
    "\n",
    "| Keys | Dates     | DF        | delta(T_x, T_0) | r(0,T_x)   |\n",
    "|------|-----------|-----------|-----------------|------------|\n",
    "| T_0  | 8/8/2024  | 1.000000  | 0.00000000     | 0.00000000 |\n",
    "| T_1  | 8/13/2024 | 0.999263  | 0.01369863     | 0.05383127 |\n",
    "| T_2  | 8/10/2026 | 0.928096  | 2.00547945     | <span style=\"background-color: green;\">0.03720811</span> |\n",
    "| T_3  | 8/13/2026 | 0.927865  | 2.01369863     | 0.03717961 |\n",
    "\n",
    "</div>"
   ]
  },
  {
   "cell_type": "code",
   "execution_count": 6,
   "metadata": {},
   "outputs": [
    {
     "name": "stdout",
     "output_type": "stream",
     "text": [
      "The Value of continuously compounded Forward rate between T_1 and T_3(F_T1_T3) is: 0.03706556\n",
      "\n"
     ]
    }
   ],
   "source": [
    "# Now we need to calculate teh forward rate F(T_1,T_3)\n",
    "T1_T3 = get_year_fraction(T_1, T_3)\n",
    "F_T1_T3 = ((r_T0_T3*T0_T3) - (r_T0_T1*T0_T1))/T1_T3\n",
    "print(f\"The Value of continuously compounded Forward rate between T_1 and T_3(F_T1_T3) is: {F_T1_T3:.8f}\\n\")"
   ]
  },
  {
   "cell_type": "markdown",
   "metadata": {},
   "source": [
    "---"
   ]
  },
  {
   "cell_type": "markdown",
   "metadata": {},
   "source": [
    "<div style=\"border-bottom: 2px solid black; display: inline-block; margin-bottom: 20px;\">\n",
    "<span style=\"font-family: Cambria, serif; font-weight: bold; font-size: 20px;\">1) The Discount Factor Table after Linear Interpolation Looks like this:</span>\n",
    "</div>\n",
    "\n",
    "<div style=\"font-family: Cambria, serif;\">\n",
    "\n",
    "| Keys | Dates     | DF        | delta(T_x, T_0) | r(0,T_x)   | F(T_x1,T_x2)   |\n",
    "|------|-----------|-----------|-----------------|------------|------------|\n",
    "| T_0  | 8/8/2024  | 1.000000  | 0.00000000     | 0.00000000 | -  |\n",
    "| T_1  | 8/13/2024 | 0.999263  | 0.01369863     | 0.05383127 | -  |\n",
    "| T_2  | 8/10/2026 | 0.928096  | 2.00547945     | <span style=\"background-color: green;\">0.03720811</span> | -  |\n",
    "| T_3  | 8/13/2026 | 0.927865  | 2.01369863     | 0.03717961 | <span style=\"background-color: green;\">0.03706556</span> |\n",
    "\n",
    "</div>"
   ]
  },
  {
   "cell_type": "markdown",
   "metadata": {},
   "source": [
    "---"
   ]
  },
  {
   "cell_type": "markdown",
   "metadata": {},
   "source": [
    "<div style=\"border-bottom: 2px solid black; display: inline-block;\">\n",
    "<span style=\"font-family: Cambria, serif; font-weight: bold; font-size: 20px;\">2) The continuous dividend yield 'D' from bloomberg data is 4.842% or 0.04842</span>\n",
    "</div>"
   ]
  },
  {
   "cell_type": "markdown",
   "metadata": {},
   "source": [
    "---"
   ]
  },
  {
   "cell_type": "markdown",
   "metadata": {},
   "source": [
    "<div style=\"border-bottom: 2px solid black; display: inline-block; margin-bottom: 20px;\">\n",
    "<span style=\"font-family: Cambria, serif; font-weight: bold; font-size: 20px;\">2) The Moneyness and Volatility Matrix Looks like this:</span>\n",
    "</div>\n",
    "\n",
    "<div style=\"font-family: Cambria, serif;\">\n",
    "\n",
    "| Moneyness | Implied Volatility (24M) |\n",
    "|-----------|------------------|\n",
    "| 60.00     | 37.779%         |\n",
    "| 65.00     | 36.529%         |\n",
    "| 70.00     | 34.846%         |\n",
    "| 75.00     | 33.187%         |\n",
    "| 80.00     | 31.841%         |\n",
    "| 85.00     | 30.770%         |\n",
    "| 90.00     | 29.896%         |\n",
    "| 95.00     | 29.334%         |\n",
    "| 100.00    | 28.662%         |\n",
    "| 105.00    | 28.035%         |\n",
    "\n",
    "</div>"
   ]
  },
  {
   "cell_type": "markdown",
   "metadata": {},
   "source": [
    "---"
   ]
  },
  {
   "cell_type": "markdown",
   "metadata": {},
   "source": [
    "<div style=\"border-bottom: 2px solid black; display: inline-block;\">\n",
    "<span style=\"font-family: Cambria, serif; font-weight: bold; font-size: 28px;\">IV) Now Calculating the Value of the Note using Binomial Trees ==></span>\n",
    "</div>"
   ]
  },
  {
   "cell_type": "code",
   "execution_count": 7,
   "metadata": {},
   "outputs": [
    {
     "data": {
      "text/plain": [
       "2.0"
      ]
     },
     "execution_count": 7,
     "metadata": {},
     "output_type": "execute_result"
    }
   ],
   "source": [
    "# note features that will go in the functions to callculate teh value of the note\n",
    "\n",
    "# initial stock price ($)\n",
    "S0 = 41.76\n",
    "\n",
    "# coupon barrier and downside threshold ($)\n",
    "B = 0.6*S0\n",
    "\n",
    "# contingent coupon per observation date ($)\n",
    "coupon_payment = 25.625\n",
    "\n",
    "# principal amount per note ($)\n",
    "principal = 1000\n",
    "\n",
    "# share delivery coefficient if below downside threshold at maturity\n",
    "share_delivery_amount = 23.9464\n",
    "\n",
    "# continously compounded risk-free rate(T_0 to T_2) for p calculation\n",
    "r1 = r_T0_T2\n",
    "\n",
    "# continously compounded forward rate(T_1 to T_3) for discounting\n",
    "r2 = F_T1_T3\n",
    "\n",
    "# continuous dividend yield\n",
    "D = 0.04842\n",
    "\n",
    "# implied volatility at 80 Moneyness\n",
    "sigma = 0.31841\n",
    "\n",
    "# number of time steps\n",
    "N = 1000\n",
    "\n",
    "# fractional time between T_0 and T_2 for p calculation\n",
    "T0_T2\n",
    "\n",
    "# fractional time between T_1 and T_3 for discounting\n",
    "T1_T3"
   ]
  },
  {
   "cell_type": "code",
   "execution_count": 8,
   "metadata": {},
   "outputs": [],
   "source": [
    "sigma_moneyness = {\n",
    "    60.00: 0.37779,\n",
    "    65.00: 0.36529,\n",
    "    70.00: 0.34846,\n",
    "    75.00: 0.33187,\n",
    "    80.00: 0.31841,\n",
    "    85.00: 0.30770,\n",
    "    90.00: 0.29896,\n",
    "    95.00: 0.29334,\n",
    "    100.00: 0.28662,\n",
    "    105.00: 0.28035\n",
    "}"
   ]
  },
  {
   "cell_type": "markdown",
   "metadata": {},
   "source": [
    "### We will calculate Note Value using the following binomial lattice methods.\n",
    "* Cox, Ross and Rubinstein, 1979, CRR ==> ($u = e^{\\sigma\\Delta t}, d = 1/u$)\n",
    "* Rendleman and Bartter, 1979, RB ==> ($u = \\exp((r-\\delta-0.5\\sigma^2)\\Delta t+\\sigma\\sqrt{\\Delta t}), d = \\exp((r-\\delta-0.5\\sigma^2)\\Delta t-\\sigma\\sqrt{\\Delta t})$)\n",
    "* Leisen and Reimer, 1996 (see Lecture 5 notes), LR ==>\n",
    "  - $q = h(d_2)$\n",
    "  - $u = e^{(r-\\delta)\\Delta t}\\frac{q*}{q}$\n",
    "  - $d = \\frac{e^{(r-\\delta)\\Delta t} - qu}{1 - q}$\n",
    "\n",
    "\n",
    "Where:\n",
    "\n",
    "$d_{1,2} = \\frac{\\ln(S/K) + (r - \\delta \\pm \\frac{1}{2}\\sigma^2)(T)}{\\sigma\\sqrt{(T)}}$\n",
    "\n",
    "$h(x) = \\frac{1}{2} + sign(x)\\sqrt{\\frac{1}{4} - \\frac{1}{4}\\exp\\left\\{-\\left(\\frac{x}{N+\\frac{1}{3}}\\right)^2\\left(N+\\frac{1}{6}\\right)\\right\\}}$\n",
    "\n",
    "$q* = h(d_1)$"
   ]
  },
  {
   "cell_type": "code",
   "execution_count": 9,
   "metadata": {},
   "outputs": [],
   "source": [
    "# defining h(x) function for Leisen-Reimer model\n",
    "def h(x, N):\n",
    "    func_value = 0.5 + np.sign(x) * np.sqrt(0.25 - 0.25 * np.exp(-((x / (N + 1/3)) ** 2) * (N + 1/6)))\n",
    "    return func_value"
   ]
  },
  {
   "cell_type": "code",
   "execution_count": 10,
   "metadata": {},
   "outputs": [],
   "source": [
    "# function to build the stock tree\n",
    "def Stock_tree(N, S0, B, sigma, r1, D, T0_T2, model):\n",
    "\n",
    "    S = np.zeros([N+1, N+1])\n",
    "    dt02 = T0_T2/N\n",
    "\n",
    "    # choice of model\n",
    "    if model == 'CRR':\n",
    "        u = np.exp(sigma*np.sqrt(dt02))\n",
    "        d = np.exp(-sigma*np.sqrt(dt02))\n",
    "        p = (np.exp((r1-D)*dt02)-d)/(u-d)\n",
    "\n",
    "    elif model == 'RB':\n",
    "        u = np.exp((r1 - D - 0.5*sigma**2)*dt02 + sigma*np.sqrt(dt02))\n",
    "        d = np.exp((r1 - D - 0.5*sigma**2)*dt02 - sigma*np.sqrt(dt02))\n",
    "        p = (np.exp((r1-D)*dt02)-d)/(u-d)\n",
    "\n",
    "    elif model == 'LR':\n",
    "        d1 = (np.log(S0/B) + (r1 - D + 0.5*sigma**2)*T0_T2)/(sigma*np.sqrt(T0_T2))\n",
    "        d2 = d1 - sigma*np.sqrt(T0_T2)\n",
    "        q1 = h(d2, N)\n",
    "        q2 = h(d1, N)\n",
    "        u = np.exp((r1 - D) * dt02) * (q2 / q1)\n",
    "        d = (np.exp((r1 - D) * dt02) - q1 * u) / (1 - q1)\n",
    "        p = q1\n",
    "\n",
    "    # setting S0 as initial stock price\n",
    "    S[0, 0] = S0\n",
    "\n",
    "    # building the stock tree\n",
    "    for i in range(1, N + 1):\n",
    "        S[i,0] = S[i-1,0] * d\n",
    "        for j in range(1,i+1):\n",
    "            S[i,j] = S[i-1,j-1] * u\n",
    "\n",
    "    return S, p, u, d, model"
   ]
  },
  {
   "cell_type": "code",
   "execution_count": 11,
   "metadata": {},
   "outputs": [],
   "source": [
    "# function to calculate the value of the note\n",
    "def Note_Value(S, p, N, sigma, T0_T2, T1_T3, r2, model):\n",
    "\n",
    "    dt02 = T0_T2/N\n",
    "    dt13 = T1_T3/N\n",
    "\n",
    "    # getting the call start step after which the note becomes callable (6 months)\n",
    "    # call start date  after 6 months from \"2024-08-08\" is \"2025-02-08\"\n",
    "    call_start_date = \"2025-02-08\"\n",
    "    call_start_time = get_year_fraction(T_0, call_start_date)      \n",
    "    call_start_step = int(call_start_time/dt02)\n",
    "\n",
    "    # coupon dates stored as list to be used in function to give out coupon payments at these dates if stock is greater than coupon barrier\n",
    "    observation_dates = [\n",
    "        '2024-11-08',\n",
    "        '2025-02-10',\n",
    "        '2025-05-08',\n",
    "        '2025-08-08',\n",
    "        '2025-11-10',\n",
    "        '2026-02-09',\n",
    "        '2026-05-08'\n",
    "    ]\n",
    "\n",
    "    # calculating observation times (year fractions from T_0)\n",
    "    observation_times = [get_year_fraction(T_0, date) for date in observation_dates]\n",
    "\n",
    "    # calculate observation steps (the steps at which observation dates occur)\n",
    "    observation_steps = [int(time / dt02) for time in observation_times]\n",
    "\n",
    "    value_tree = np.zeros_like(S)\n",
    "\n",
    "    # determine Payoffs at Maturity\n",
    "    for j in range(N+1):\n",
    "        S_T = S[N, j]\n",
    "        if S_T >= B:\n",
    "            # receive principal back plus coupon if above barrier\n",
    "            value_tree[N, j] = principal + coupon_payment\n",
    "        else:\n",
    "            # receive share delivery amount times stock price\n",
    "            value_tree[N, j] = share_delivery_amount*S_T\n",
    "\n",
    "    # applying backward Induction\n",
    "    for i in range(N-1, -1, -1):\n",
    "        for j in range(i + 1):\n",
    "            S_t = S[i, j]\n",
    "\n",
    "            # calculating expected continuation value\n",
    "            continuation_value = np.exp(-r2 * dt13)*(p*value_tree[i+1, j+1] + (1-p)*value_tree[i+1, j])\n",
    "\n",
    "            # add contingent coupon if barrier is breached\n",
    "            if i in observation_steps and S_t >= B:\n",
    "                continuation_value = continuation_value + coupon_payment\n",
    "\n",
    "            elif i in observation_steps:\n",
    "                continuation_value = continuation_value\n",
    "\n",
    "            # check if issuer will call the note\n",
    "            if i in observation_steps and i >= call_start_step:\n",
    "                # calculate call payoff\n",
    "                call_payoff = principal + coupon_payment\n",
    "\n",
    "                # issuer will call if continuation value is larger than call_payoff\n",
    "                node_value = min(call_payoff, continuation_value)\n",
    "\n",
    "            else:\n",
    "                node_value = continuation_value\n",
    "\n",
    "            value_tree[i, j] = node_value\n",
    "\n",
    "    # discounting back to the note's present value\n",
    "    note_value = value_tree[0, 0]\n",
    "\n",
    "    moneyness = next(k for k, v in sigma_moneyness.items() if v == sigma)\n",
    "    print(f\"The estimated fair value of the note at moneyness of {moneyness} for {N} time steps and {model} model is: ${note_value:.4f}\")\n",
    "    return note_value"
   ]
  },
  {
   "cell_type": "code",
   "execution_count": 12,
   "metadata": {},
   "outputs": [],
   "source": [
    "# build the stock tree for N=1000 time steps CRR model\n",
    "S, p, u, d, model = Stock_tree(N, S0, B, sigma, r1, D, T0_T2, model=\"CRR\")"
   ]
  },
  {
   "cell_type": "code",
   "execution_count": 13,
   "metadata": {},
   "outputs": [
    {
     "name": "stdout",
     "output_type": "stream",
     "text": [
      "The estimated fair value of the note at moneyness of 80.0 for 1000 time steps and CRR model is: $976.1561\n"
     ]
    }
   ],
   "source": [
    "# calculate the value of the note for N=1000 time steps CRR model\n",
    "note_value = Note_Value(S, p, N, sigma, T0_T2, T1_T3, r2, model)"
   ]
  },
  {
   "cell_type": "code",
   "execution_count": 14,
   "metadata": {},
   "outputs": [],
   "source": [
    "# build the stock tree for N=1000 time steps RB model\n",
    "S, p, u, d, model = Stock_tree(N, S0, B, sigma, r1, D, T0_T2, model=\"RB\")"
   ]
  },
  {
   "cell_type": "code",
   "execution_count": 15,
   "metadata": {},
   "outputs": [
    {
     "name": "stdout",
     "output_type": "stream",
     "text": [
      "The estimated fair value of the note at moneyness of 80.0 for 1000 time steps and RB model is: $977.9710\n"
     ]
    }
   ],
   "source": [
    "# calculate the value of the note for N=1000 time steps RB model\n",
    "note_value = Note_Value(S, p, N, sigma, T0_T2, T1_T3, r2, model)"
   ]
  },
  {
   "cell_type": "code",
   "execution_count": 16,
   "metadata": {},
   "outputs": [],
   "source": [
    "# build the stock tree for N=1000 time steps LR model\n",
    "S, p, u, d, model = Stock_tree(N, S0, B, sigma, r1, D, T0_T2, model=\"LR\")"
   ]
  },
  {
   "cell_type": "code",
   "execution_count": 17,
   "metadata": {},
   "outputs": [
    {
     "name": "stdout",
     "output_type": "stream",
     "text": [
      "The estimated fair value of the note at moneyness of 80.0 for 1000 time steps and LR model is: $980.4148\n"
     ]
    }
   ],
   "source": [
    "# calculate the value of the note for N=1000 time steps LR model\n",
    "note_value = Note_Value(S, p, N, sigma, T0_T2, T1_T3, r2, model)"
   ]
  },
  {
   "cell_type": "markdown",
   "metadata": {},
   "source": [
    "<div style=\"border-bottom: 2px solid black; display: inline-block;\">\n",
    "<span style=\"font-family: Cambria, serif; font-weight: bold; font-size: 28px;\">V) Sensitivity Analysis w.r.t to different Moneyness(different implied volatility) for 'CRR' model ==></span>\n",
    "</div>"
   ]
  },
  {
   "cell_type": "code",
   "execution_count": 18,
   "metadata": {},
   "outputs": [],
   "source": [
    "N = 50"
   ]
  },
  {
   "cell_type": "code",
   "execution_count": 19,
   "metadata": {},
   "outputs": [],
   "source": [
    "sig = [0.37779, 0.36529, 0.34846, 0.33187, 0.31841, 0.30770, 0.29896, 0.29334, 0.28662]"
   ]
  },
  {
   "cell_type": "code",
   "execution_count": 20,
   "metadata": {},
   "outputs": [
    {
     "name": "stdout",
     "output_type": "stream",
     "text": [
      "The estimated fair value of the note at moneyness of 60.0 for 50 time steps and CRR model is: $943.9362\n",
      "The estimated fair value of the note at moneyness of 65.0 for 50 time steps and CRR model is: $947.6705\n",
      "The estimated fair value of the note at moneyness of 70.0 for 50 time steps and CRR model is: $958.3832\n",
      "The estimated fair value of the note at moneyness of 75.0 for 50 time steps and CRR model is: $963.0025\n",
      "The estimated fair value of the note at moneyness of 80.0 for 50 time steps and CRR model is: $991.0136\n",
      "The estimated fair value of the note at moneyness of 85.0 for 50 time steps and CRR model is: $993.0668\n",
      "The estimated fair value of the note at moneyness of 90.0 for 50 time steps and CRR model is: $994.6880\n",
      "The estimated fair value of the note at moneyness of 95.0 for 50 time steps and CRR model is: $995.7293\n",
      "The estimated fair value of the note at moneyness of 100.0 for 50 time steps and CRR model is: $996.9733\n"
     ]
    }
   ],
   "source": [
    "l_CRR = []\n",
    "for i in sig:\n",
    "    S, p, u, d, model = Stock_tree(N, S0, B, i, r1, D, T0_T2, model=\"CRR\")\n",
    "    note_value = Note_Value(S, p, N, i, T0_T2, T1_T3, r2, model)\n",
    "    l_CRR.append(note_value)"
   ]
  },
  {
   "cell_type": "code",
   "execution_count": 21,
   "metadata": {},
   "outputs": [
    {
     "name": "stdout",
     "output_type": "stream",
     "text": [
      "The estimated average value of the note for 50 time steps and CRR model is: $976.0515\n"
     ]
    }
   ],
   "source": [
    "avg_CRR = np.mean(l_CRR)\n",
    "print(f\"The estimated average value of the note for {N} time steps and {model} model is: ${avg_CRR:.4f}\")"
   ]
  },
  {
   "cell_type": "markdown",
   "metadata": {},
   "source": [
    "<div style=\"border-bottom: 2px solid black; display: inline-block;\">\n",
    "<span style=\"font-family: Cambria, serif; font-weight: bold; font-size: 28px;\">VI) Sensitivity Analysis w.r.t to different Moneyness(different implied volatility) for 'RB' model ==></span>\n",
    "</div>"
   ]
  },
  {
   "cell_type": "code",
   "execution_count": 22,
   "metadata": {},
   "outputs": [
    {
     "name": "stdout",
     "output_type": "stream",
     "text": [
      "The estimated fair value of the note at moneyness of 60.0 for 50 time steps and RB model is: $947.5135\n",
      "The estimated fair value of the note at moneyness of 65.0 for 50 time steps and RB model is: $953.9254\n",
      "The estimated fair value of the note at moneyness of 70.0 for 50 time steps and RB model is: $959.5862\n",
      "The estimated fair value of the note at moneyness of 75.0 for 50 time steps and RB model is: $963.3870\n",
      "The estimated fair value of the note at moneyness of 80.0 for 50 time steps and RB model is: $987.1720\n",
      "The estimated fair value of the note at moneyness of 85.0 for 50 time steps and RB model is: $990.2577\n",
      "The estimated fair value of the note at moneyness of 90.0 for 50 time steps and RB model is: $993.4013\n",
      "The estimated fair value of the note at moneyness of 95.0 for 50 time steps and RB model is: $996.3590\n",
      "The estimated fair value of the note at moneyness of 100.0 for 50 time steps and RB model is: $998.4804\n"
     ]
    }
   ],
   "source": [
    "l_RB = []\n",
    "for i in sig:\n",
    "    S, p, u, d, model = Stock_tree(N, S0, B, i, r1, D, T0_T2, model=\"RB\")\n",
    "    note_value = Note_Value(S, p, N, i, T0_T2, T1_T3, r2, model)\n",
    "    l_RB.append(note_value)"
   ]
  },
  {
   "cell_type": "code",
   "execution_count": 23,
   "metadata": {},
   "outputs": [
    {
     "name": "stdout",
     "output_type": "stream",
     "text": [
      "The estimated average value of the note for 50 time steps and RB model is: $976.6758\n"
     ]
    }
   ],
   "source": [
    "avg_RB = np.mean(l_RB)\n",
    "print(f\"The estimated average value of the note for {N} time steps and {model} model is: ${avg_RB:.4f}\")"
   ]
  },
  {
   "cell_type": "markdown",
   "metadata": {},
   "source": [
    "<div style=\"border-bottom: 2px solid black; display: inline-block;\">\n",
    "<span style=\"font-family: Cambria, serif; font-weight: bold; font-size: 28px;\">VII) Sensitivity Analysis w.r.t to different Moneyness(different implied volatility) for 'LR' model ==></span>\n",
    "</div>"
   ]
  },
  {
   "cell_type": "code",
   "execution_count": 24,
   "metadata": {},
   "outputs": [
    {
     "name": "stdout",
     "output_type": "stream",
     "text": [
      "The estimated fair value of the note at moneyness of 60.0 for 50 time steps and LR model is: $957.1311\n",
      "The estimated fair value of the note at moneyness of 65.0 for 50 time steps and LR model is: $964.0785\n",
      "The estimated fair value of the note at moneyness of 70.0 for 50 time steps and LR model is: $973.0252\n",
      "The estimated fair value of the note at moneyness of 75.0 for 50 time steps and LR model is: $983.1598\n",
      "The estimated fair value of the note at moneyness of 80.0 for 50 time steps and LR model is: $992.0672\n",
      "The estimated fair value of the note at moneyness of 85.0 for 50 time steps and LR model is: $997.2636\n",
      "The estimated fair value of the note at moneyness of 90.0 for 50 time steps and LR model is: $1000.9461\n",
      "The estimated fair value of the note at moneyness of 95.0 for 50 time steps and LR model is: $1003.2505\n",
      "The estimated fair value of the note at moneyness of 100.0 for 50 time steps and LR model is: $1005.9497\n"
     ]
    }
   ],
   "source": [
    "l_LR = []\n",
    "for i in sig:\n",
    "    S, p, u, d, model = Stock_tree(N, S0, B, i, r1, D, T0_T2, model=\"LR\")\n",
    "    note_value = Note_Value(S, p, N, i, T0_T2, T1_T3, r2, model)\n",
    "    l_LR.append(note_value)"
   ]
  },
  {
   "cell_type": "code",
   "execution_count": 25,
   "metadata": {},
   "outputs": [
    {
     "name": "stdout",
     "output_type": "stream",
     "text": [
      "The estimated average value of the note for 50 time steps and LR model is: $986.3191\n"
     ]
    }
   ],
   "source": [
    "avg_LR = np.mean(l_LR)\n",
    "print(f\"The estimated average value of the note for {N} time steps and {model} model is: ${avg_LR:.4f}\")"
   ]
  },
  {
   "cell_type": "markdown",
   "metadata": {},
   "source": [
    "<div style=\"border-bottom: 2px solid black; display: inline-block;\">\n",
    "<span style=\"font-family: Cambria, serif; font-weight: bold; font-size: 28px;\">VIII) Increasing the Number of Steps from 50 till 1000 and plotting the value graph for 80 Moneyness 'CRR' Model==></span>\n",
    "</div>"
   ]
  },
  {
   "cell_type": "code",
   "execution_count": 26,
   "metadata": {},
   "outputs": [
    {
     "name": "stdout",
     "output_type": "stream",
     "text": [
      "The estimated fair value of the note at moneyness of 80.0 for 50 time steps and CRR model is: $991.0136\n",
      "The estimated fair value of the note at moneyness of 80.0 for 53 time steps and CRR model is: $977.3653\n",
      "The estimated fair value of the note at moneyness of 80.0 for 56 time steps and CRR model is: $984.3629\n",
      "The estimated fair value of the note at moneyness of 80.0 for 59 time steps and CRR model is: $972.0450\n",
      "The estimated fair value of the note at moneyness of 80.0 for 62 time steps and CRR model is: $979.5736\n",
      "The estimated fair value of the note at moneyness of 80.0 for 65 time steps and CRR model is: $986.3261\n",
      "The estimated fair value of the note at moneyness of 80.0 for 68 time steps and CRR model is: $977.1252\n",
      "The estimated fair value of the note at moneyness of 80.0 for 71 time steps and CRR model is: $982.3546\n",
      "The estimated fair value of the note at moneyness of 80.0 for 74 time steps and CRR model is: $971.3617\n",
      "The estimated fair value of the note at moneyness of 80.0 for 77 time steps and CRR model is: $977.7773\n",
      "The estimated fair value of the note at moneyness of 80.0 for 80 time steps and CRR model is: $986.6569\n",
      "The estimated fair value of the note at moneyness of 80.0 for 83 time steps and CRR model is: $977.0894\n",
      "The estimated fair value of the note at moneyness of 80.0 for 86 time steps and CRR model is: $983.8713\n",
      "The estimated fair value of the note at moneyness of 80.0 for 89 time steps and CRR model is: $972.7209\n",
      "The estimated fair value of the note at moneyness of 80.0 for 92 time steps and CRR model is: $978.0518\n",
      "The estimated fair value of the note at moneyness of 80.0 for 95 time steps and CRR model is: $987.2551\n",
      "The estimated fair value of the note at moneyness of 80.0 for 98 time steps and CRR model is: $978.3914\n"
     ]
    }
   ],
   "source": [
    "N_values = range(50, 100, 3)\n",
    "CRR_values = []\n",
    "\n",
    "for i in N_values:\n",
    "    S, p, u, d, model = Stock_tree(i, S0, B, sigma, r1, D, T0_T2, model=\"CRR\")\n",
    "    note_value = Note_Value(S, p, i, sigma, T0_T2, T1_T3, r2, model)\n",
    "    CRR_values.append(note_value)"
   ]
  },
  {
   "cell_type": "code",
   "execution_count": 27,
   "metadata": {},
   "outputs": [
    {
     "data": {
      "text/html": [
       "<div>\n",
       "<style scoped>\n",
       "    .dataframe tbody tr th:only-of-type {\n",
       "        vertical-align: middle;\n",
       "    }\n",
       "\n",
       "    .dataframe tbody tr th {\n",
       "        vertical-align: top;\n",
       "    }\n",
       "\n",
       "    .dataframe thead th {\n",
       "        text-align: right;\n",
       "    }\n",
       "</style>\n",
       "<table border=\"1\" class=\"dataframe\">\n",
       "  <thead>\n",
       "    <tr style=\"text-align: right;\">\n",
       "      <th></th>\n",
       "      <th>N</th>\n",
       "      <th>Note_Value</th>\n",
       "    </tr>\n",
       "  </thead>\n",
       "  <tbody>\n",
       "    <tr>\n",
       "      <th>0</th>\n",
       "      <td>50</td>\n",
       "      <td>991.013577</td>\n",
       "    </tr>\n",
       "    <tr>\n",
       "      <th>1</th>\n",
       "      <td>53</td>\n",
       "      <td>977.365317</td>\n",
       "    </tr>\n",
       "    <tr>\n",
       "      <th>2</th>\n",
       "      <td>56</td>\n",
       "      <td>984.362861</td>\n",
       "    </tr>\n",
       "    <tr>\n",
       "      <th>3</th>\n",
       "      <td>59</td>\n",
       "      <td>972.045046</td>\n",
       "    </tr>\n",
       "    <tr>\n",
       "      <th>4</th>\n",
       "      <td>62</td>\n",
       "      <td>979.573647</td>\n",
       "    </tr>\n",
       "  </tbody>\n",
       "</table>\n",
       "</div>"
      ],
      "text/plain": [
       "    N  Note_Value\n",
       "0  50  991.013577\n",
       "1  53  977.365317\n",
       "2  56  984.362861\n",
       "3  59  972.045046\n",
       "4  62  979.573647"
      ]
     },
     "execution_count": 27,
     "metadata": {},
     "output_type": "execute_result"
    }
   ],
   "source": [
    "df_crr = pd.DataFrame({\n",
    "    'N': N_values,\n",
    "    'Note_Value': CRR_values\n",
    "})\n",
    "\n",
    "# Add better column names and reset index if needed\n",
    "df_crr = df_crr.reset_index(drop=True)\n",
    "df_crr.head()"
   ]
  },
  {
   "cell_type": "code",
   "execution_count": 28,
   "metadata": {},
   "outputs": [
    {
     "data": {
      "image/png": "[encoded data removed]",
      "text/plain": [
       "<Figure size 2000x1000 with 1 Axes>"
      ]
     },
     "metadata": {},
     "output_type": "display_data"
    }
   ],
   "source": [
    "# plotting the error results\n",
    "plt.figure(figsize=(20, 10))\n",
    "plt.plot(df_crr['N'],df_crr['Note_Value'],'o', markersize=3, label='Cox, Ross and Rubinstein (1979)')\n",
    "plt.xlabel('Number of time steps (N)')\n",
    "plt.ylabel('CRR Note Value')\n",
    "plt.title('CRR Note Value vs. Number of Time Steps')\n",
    "plt.legend()\n",
    "plt.grid(True)\n",
    "plt.show()"
   ]
  },
  {
   "cell_type": "markdown",
   "metadata": {},
   "source": [
    "<div style=\"border-bottom: 2px solid black; display: inline-block;\">\n",
    "<span style=\"font-family: Cambria, serif; font-weight: bold; font-size: 28px;\">IX) Increasing the Number of Steps from 50 till 1000 and plotting the value graph for 80 Moneyness 'RB' Model==></span>\n",
    "</div>"
   ]
  },
  {
   "cell_type": "code",
   "execution_count": 29,
   "metadata": {},
   "outputs": [
    {
     "name": "stdout",
     "output_type": "stream",
     "text": [
      "The estimated fair value of the note at moneyness of 80.0 for 50 time steps and RB model is: $987.1720\n",
      "The estimated fair value of the note at moneyness of 80.0 for 53 time steps and RB model is: $975.3254\n",
      "The estimated fair value of the note at moneyness of 80.0 for 56 time steps and RB model is: $984.7267\n",
      "The estimated fair value of the note at moneyness of 80.0 for 59 time steps and RB model is: $972.5020\n",
      "The estimated fair value of the note at moneyness of 80.0 for 62 time steps and RB model is: $980.1165\n",
      "The estimated fair value of the note at moneyness of 80.0 for 65 time steps and RB model is: $970.3487\n",
      "The estimated fair value of the note at moneyness of 80.0 for 68 time steps and RB model is: $977.1904\n",
      "The estimated fair value of the note at moneyness of 80.0 for 71 time steps and RB model is: $985.8739\n",
      "The estimated fair value of the note at moneyness of 80.0 for 74 time steps and RB model is: $975.7457\n",
      "The estimated fair value of the note at moneyness of 80.0 for 77 time steps and RB model is: $983.3843\n",
      "The estimated fair value of the note at moneyness of 80.0 for 80 time steps and RB model is: $973.4571\n",
      "The estimated fair value of the note at moneyness of 80.0 for 83 time steps and RB model is: $981.3657\n",
      "The estimated fair value of the note at moneyness of 80.0 for 86 time steps and RB model is: $971.0872\n",
      "The estimated fair value of the note at moneyness of 80.0 for 89 time steps and RB model is: $978.6842\n",
      "The estimated fair value of the note at moneyness of 80.0 for 92 time steps and RB model is: $984.3487\n",
      "The estimated fair value of the note at moneyness of 80.0 for 95 time steps and RB model is: $977.1119\n",
      "The estimated fair value of the note at moneyness of 80.0 for 98 time steps and RB model is: $983.0237\n"
     ]
    }
   ],
   "source": [
    "N_values = range(50, 100, 3)\n",
    "RB_values = []\n",
    "\n",
    "for i in N_values:\n",
    "    S, p, u, d, model = Stock_tree(i, S0, B, sigma, r1, D, T0_T2, model=\"RB\")\n",
    "    note_value = Note_Value(S, p, i, sigma, T0_T2, T1_T3, r2, model)\n",
    "    RB_values.append(note_value)"
   ]
  },
  {
   "cell_type": "code",
   "execution_count": 30,
   "metadata": {},
   "outputs": [
    {
     "data": {
      "text/html": [
       "<div>\n",
       "<style scoped>\n",
       "    .dataframe tbody tr th:only-of-type {\n",
       "        vertical-align: middle;\n",
       "    }\n",
       "\n",
       "    .dataframe tbody tr th {\n",
       "        vertical-align: top;\n",
       "    }\n",
       "\n",
       "    .dataframe thead th {\n",
       "        text-align: right;\n",
       "    }\n",
       "</style>\n",
       "<table border=\"1\" class=\"dataframe\">\n",
       "  <thead>\n",
       "    <tr style=\"text-align: right;\">\n",
       "      <th></th>\n",
       "      <th>N</th>\n",
       "      <th>Note_Value</th>\n",
       "    </tr>\n",
       "  </thead>\n",
       "  <tbody>\n",
       "    <tr>\n",
       "      <th>0</th>\n",
       "      <td>50</td>\n",
       "      <td>987.171953</td>\n",
       "    </tr>\n",
       "    <tr>\n",
       "      <th>1</th>\n",
       "      <td>53</td>\n",
       "      <td>975.325351</td>\n",
       "    </tr>\n",
       "    <tr>\n",
       "      <th>2</th>\n",
       "      <td>56</td>\n",
       "      <td>984.726675</td>\n",
       "    </tr>\n",
       "    <tr>\n",
       "      <th>3</th>\n",
       "      <td>59</td>\n",
       "      <td>972.501981</td>\n",
       "    </tr>\n",
       "    <tr>\n",
       "      <th>4</th>\n",
       "      <td>62</td>\n",
       "      <td>980.116536</td>\n",
       "    </tr>\n",
       "  </tbody>\n",
       "</table>\n",
       "</div>"
      ],
      "text/plain": [
       "    N  Note_Value\n",
       "0  50  987.171953\n",
       "1  53  975.325351\n",
       "2  56  984.726675\n",
       "3  59  972.501981\n",
       "4  62  980.116536"
      ]
     },
     "execution_count": 30,
     "metadata": {},
     "output_type": "execute_result"
    }
   ],
   "source": [
    "df_rb = pd.DataFrame({\n",
    "    'N': N_values,\n",
    "    'Note_Value': RB_values\n",
    "})\n",
    "\n",
    "# Add better column names and reset index if needed\n",
    "df_rb = df_rb.reset_index(drop=True)\n",
    "df_rb.head()"
   ]
  },
  {
   "cell_type": "code",
   "execution_count": 31,
   "metadata": {},
   "outputs": [
    {
     "data": {
      "image/png": "[encoded data removed]",
      "text/plain": [
       "<Figure size 2000x1000 with 1 Axes>"
      ]
     },
     "metadata": {},
     "output_type": "display_data"
    }
   ],
   "source": [
    "# plotting the error results\n",
    "plt.figure(figsize=(20, 10))\n",
    "plt.plot(df_rb['N'],df_rb['Note_Value'],'o', markersize=3, label='Rendleman and Bartter (1979)')\n",
    "plt.xlabel('Number of time steps (N)')\n",
    "plt.ylabel('RB Note Value')\n",
    "plt.title('RB Note Value vs. Number of Time Steps')\n",
    "plt.legend()\n",
    "plt.grid(True)\n",
    "plt.show()"
   ]
  },
  {
   "cell_type": "markdown",
   "metadata": {},
   "source": [
    "<div style=\"border-bottom: 2px solid black; display: inline-block;\">\n",
    "<span style=\"font-family: Cambria, serif; font-weight: bold; font-size: 28px;\">X) Increasing the Number of Steps from 50 till 1000 and plotting the value graph for 80 Moneyness 'LR' Model==></span>\n",
    "</div>"
   ]
  },
  {
   "cell_type": "code",
   "execution_count": 32,
   "metadata": {},
   "outputs": [
    {
     "name": "stdout",
     "output_type": "stream",
     "text": [
      "The estimated fair value of the note at moneyness of 80.0 for 50 time steps and LR model is: $992.0672\n",
      "The estimated fair value of the note at moneyness of 80.0 for 53 time steps and LR model is: $981.1540\n",
      "The estimated fair value of the note at moneyness of 80.0 for 56 time steps and LR model is: $989.3399\n",
      "The estimated fair value of the note at moneyness of 80.0 for 59 time steps and LR model is: $979.9436\n",
      "The estimated fair value of the note at moneyness of 80.0 for 62 time steps and LR model is: $989.1566\n",
      "The estimated fair value of the note at moneyness of 80.0 for 65 time steps and LR model is: $979.1375\n",
      "The estimated fair value of the note at moneyness of 80.0 for 68 time steps and LR model is: $987.3525\n",
      "The estimated fair value of the note at moneyness of 80.0 for 71 time steps and LR model is: $978.5384\n",
      "The estimated fair value of the note at moneyness of 80.0 for 74 time steps and LR model is: $986.6814\n",
      "The estimated fair value of the note at moneyness of 80.0 for 77 time steps and LR model is: $979.0307\n",
      "The estimated fair value of the note at moneyness of 80.0 for 80 time steps and LR model is: $987.0213\n",
      "The estimated fair value of the note at moneyness of 80.0 for 83 time steps and LR model is: $978.8119\n",
      "The estimated fair value of the note at moneyness of 80.0 for 86 time steps and LR model is: $987.2380\n",
      "The estimated fair value of the note at moneyness of 80.0 for 89 time steps and LR model is: $979.4092\n",
      "The estimated fair value of the note at moneyness of 80.0 for 92 time steps and LR model is: $986.1878\n",
      "The estimated fair value of the note at moneyness of 80.0 for 95 time steps and LR model is: $978.0512\n",
      "The estimated fair value of the note at moneyness of 80.0 for 98 time steps and LR model is: $985.9254\n"
     ]
    }
   ],
   "source": [
    "N_values = range(50, 100, 3)\n",
    "LR_values = []\n",
    "\n",
    "for i in N_values:\n",
    "    S, p, u, d, model = Stock_tree(i, S0, B, sigma, r1, D, T0_T2, model=\"LR\")\n",
    "    note_value = Note_Value(S, p, i, sigma, T0_T2, T1_T3, r2, model)\n",
    "    LR_values.append(note_value)"
   ]
  },
  {
   "cell_type": "code",
   "execution_count": 33,
   "metadata": {},
   "outputs": [
    {
     "data": {
      "text/html": [
       "<div>\n",
       "<style scoped>\n",
       "    .dataframe tbody tr th:only-of-type {\n",
       "        vertical-align: middle;\n",
       "    }\n",
       "\n",
       "    .dataframe tbody tr th {\n",
       "        vertical-align: top;\n",
       "    }\n",
       "\n",
       "    .dataframe thead th {\n",
       "        text-align: right;\n",
       "    }\n",
       "</style>\n",
       "<table border=\"1\" class=\"dataframe\">\n",
       "  <thead>\n",
       "    <tr style=\"text-align: right;\">\n",
       "      <th></th>\n",
       "      <th>N</th>\n",
       "      <th>Note_Value</th>\n",
       "    </tr>\n",
       "  </thead>\n",
       "  <tbody>\n",
       "    <tr>\n",
       "      <th>0</th>\n",
       "      <td>50</td>\n",
       "      <td>992.067213</td>\n",
       "    </tr>\n",
       "    <tr>\n",
       "      <th>1</th>\n",
       "      <td>53</td>\n",
       "      <td>981.153977</td>\n",
       "    </tr>\n",
       "    <tr>\n",
       "      <th>2</th>\n",
       "      <td>56</td>\n",
       "      <td>989.339922</td>\n",
       "    </tr>\n",
       "    <tr>\n",
       "      <th>3</th>\n",
       "      <td>59</td>\n",
       "      <td>979.943634</td>\n",
       "    </tr>\n",
       "    <tr>\n",
       "      <th>4</th>\n",
       "      <td>62</td>\n",
       "      <td>989.156642</td>\n",
       "    </tr>\n",
       "  </tbody>\n",
       "</table>\n",
       "</div>"
      ],
      "text/plain": [
       "    N  Note_Value\n",
       "0  50  992.067213\n",
       "1  53  981.153977\n",
       "2  56  989.339922\n",
       "3  59  979.943634\n",
       "4  62  989.156642"
      ]
     },
     "execution_count": 33,
     "metadata": {},
     "output_type": "execute_result"
    }
   ],
   "source": [
    "df_lr = pd.DataFrame({\n",
    "    'N': N_values,\n",
    "    'Note_Value': LR_values\n",
    "})\n",
    "# Add better column names and reset index if needed\n",
    "df_lr = df_lr.reset_index(drop=True)\n",
    "df_lr.head()"
   ]
  },
  {
   "cell_type": "code",
   "execution_count": 34,
   "metadata": {},
   "outputs": [
    {
     "data": {
      "image/png": "[encoded data removed]",
      "text/plain": [
       "<Figure size 2000x1000 with 1 Axes>"
      ]
     },
     "metadata": {},
     "output_type": "display_data"
    }
   ],
   "source": [
    "# plotting the error results\n",
    "plt.figure(figsize=(20, 10))\n",
    "plt.plot(df_lr['N'],df_lr['Note_Value'],'o', markersize=3, label='Leisen-Reimer (1996)')\n",
    "plt.xlabel('Number of time steps (N)')\n",
    "plt.ylabel('LR Note Value')\n",
    "plt.title('LR Note Value vs. Number of Time Steps')\n",
    "plt.legend()\n",
    "plt.grid(True)\n",
    "plt.show()"
   ]
  },
  {
   "cell_type": "markdown",
   "metadata": {},
   "source": [
    "---"
   ]
  },
  {
   "cell_type": "markdown",
   "metadata": {},
   "source": [
    "<div style=\"border-bottom: 2px solid black; display: inline-block; text-align: center; margin: 20px;\">\n",
    "<span style=\"font-family: Cambria, serif; font-weight: bold; font-size: 28px;\">End of Project 1</span>\n",
    "</div>"
   ]
  },
  {
   "cell_type": "markdown",
   "metadata": {},
   "source": [
    "---"
   ]
  },
  {
   "cell_type": "markdown",
   "metadata": {},
   "source": []
  }
 ],
 "metadata": {
  "kernelspec": {
   "display_name": "base",
   "language": "python",
   "name": "python3"
  },
  "language_info": {
   "codemirror_mode": {
    "name": "ipython",
    "version": 3
   },
   "file_extension": ".py",
   "mimetype": "text/x-python",
   "name": "python",
   "nbconvert_exporter": "python",
   "pygments_lexer": "ipython3",
   "version": "3.12.4"
  }
 },
 "nbformat": 4,
 "nbformat_minor": 2
}
