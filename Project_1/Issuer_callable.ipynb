{
 "cells": [
  {
   "cell_type": "markdown",
   "metadata": {},
   "source": [
    "![](./usd-ois.png)"
   ]
  },
  {
   "cell_type": "code",
   "execution_count": 24,
   "metadata": {},
   "outputs": [],
   "source": [
    "import numpy as np\n",
    "\n",
    "def val(sig, l1):\n",
    "    # Note Features\n",
    "    S0 = 41.76                 # Initial stock price ($)\n",
    "    K = 25.06                  # Coupon barrier and downside threshold ($)\n",
    "    coupon_rate = 0.1025       # Contingent coupon rate per annum\n",
    "    coupon_payment = 25.625    # Contingent coupon per observation date ($)\n",
    "    principal = 1000           # Principal amount per note ($)\n",
    "    share_delivery_amount = 23.9464  # Shares delivered if below threshold at maturity\n",
    "    call_start_step = 2        # Issuer can call starting from the second observation date\n",
    "\n",
    "    # Market Parameters\n",
    "    r1 = 0.037242092 # Risk-free interest rate (2%)\n",
    "    r2 = 0.037098736\n",
    "    q = 0.04842                  # Dividend yield (3%)\n",
    "    sigma = sig              # Stock volatility (25%)\n",
    "\n",
    "    # Time Parameters\n",
    "    T = 2.0                    # Total time to maturity (2 years)\n",
    "    N = 8                     # Number of time steps (quarterly observations)\n",
    "    dt = T / N                 # Time step size\n",
    "\n",
    "    # Binomial Tree Parameters\n",
    "    u = np.exp(sigma * np.sqrt(dt))        # Up factor\n",
    "    d = np.exp(-sigma * np.sqrt(dt))       # Down factor\n",
    "    p = (np.exp((r1 - q) * dt) - d) / (u - d)  # Risk-neutral probability\n",
    "\n",
    "    # Check for arbitrage\n",
    "    if not (0 < p < 1):\n",
    "        raise ValueError(\"Risk-neutral probability is not between 0 and 1. Check parameters.\")\n",
    "\n",
    "    # Build Stock Price Tree\n",
    "    stock_tree = np.zeros((N + 1, N + 1))\n",
    "    for i in range(N + 1):\n",
    "        for j in range(i + 1):\n",
    "            stock_tree[j, i] = S0 * (u ** (i - j)) * (d ** j)\n",
    "\n",
    "    # Initialize Payoff Matrix\n",
    "    value_tree = np.zeros_like(stock_tree)\n",
    "\n",
    "    # Determine Payoffs at Maturity\n",
    "    for j in range(N + 1):\n",
    "        S_T = stock_tree[j, N]\n",
    "        if S_T >= K:\n",
    "            # Receive principal back\n",
    "            value_tree[j, N] = principal + (coupon_payment if S_T >= K else 0)\n",
    "        else:\n",
    "            # Receive share delivery amount\n",
    "            value_tree[j, N] = share_delivery_amount * S_T\n",
    "\n",
    "    # Backward Induction\n",
    "    for i in range(N - 1, -1, -1):\n",
    "        for j in range(i + 1):\n",
    "            S_t = stock_tree[j, i]\n",
    "            # Calculate expected continuation value\n",
    "            continuation_value = np.exp(-r2 * dt) * (p * value_tree[j, i + 1] + (1 - p) * value_tree[j + 1, i + 1])\n",
    "            \n",
    "            # Add contingent coupon if barrier is breached\n",
    "            if S_t >= K:\n",
    "                continuation_value += coupon_payment\n",
    "            \n",
    "            # Check if issuer will call the note\n",
    "            if i >= call_start_step:\n",
    "                # Calculate call payoff\n",
    "                call_payoff = principal + (coupon_payment if S_t >= K else 0)\n",
    "                # Issuer will call if it's optimal\n",
    "                node_value = min(call_payoff, continuation_value)\n",
    "            else:\n",
    "                node_value = continuation_value\n",
    "            \n",
    "            value_tree[j, i] = node_value\n",
    "\n",
    "    # Output the Note's Present Value\n",
    "    note_value = value_tree[0, 0]\n",
    "    l1.append(note_value)\n",
    "    print(f\"The estimated fair value of the note is: ${note_value:.2f}\")"
   ]
  },
  {
   "cell_type": "code",
   "execution_count": 25,
   "metadata": {},
   "outputs": [],
   "source": [
    "sig = [0.37779, 0.36529, 0.34846, 0.33187, 0.31841, 0.30770, 0.29896, 0.29334, 0.28662]"
   ]
  },
  {
   "cell_type": "code",
   "execution_count": 26,
   "metadata": {},
   "outputs": [
    {
     "name": "stdout",
     "output_type": "stream",
     "text": [
      "The estimated fair value of the note is: $964.12\n",
      "The estimated fair value of the note is: $967.68\n",
      "The estimated fair value of the note is: $972.47\n",
      "The estimated fair value of the note is: $990.76\n",
      "The estimated fair value of the note is: $994.49\n",
      "The estimated fair value of the note is: $997.46\n",
      "The estimated fair value of the note is: $999.89\n",
      "The estimated fair value of the note is: $1001.44\n",
      "The estimated fair value of the note is: $1003.31\n"
     ]
    }
   ],
   "source": [
    "l1 = []\n",
    "for i in sig:\n",
    "    val(i, l1)"
   ]
  },
  {
   "cell_type": "code",
   "execution_count": 27,
   "metadata": {},
   "outputs": [
    {
     "data": {
      "text/plain": [
       "[964.1173849424858,\n",
       " 967.6795239820171,\n",
       " 972.4709589524332,\n",
       " 990.7606836194402,\n",
       " 994.4942125263381,\n",
       " 997.463773396379,\n",
       " 999.8863714469996,\n",
       " 1001.4438120189466,\n",
       " 1003.3057516654233]"
      ]
     },
     "execution_count": 27,
     "metadata": {},
     "output_type": "execute_result"
    }
   ],
   "source": [
    "l1"
   ]
  },
  {
   "cell_type": "code",
   "execution_count": 29,
   "metadata": {},
   "outputs": [
    {
     "data": {
      "text/plain": [
       "987.9580525056068"
      ]
     },
     "execution_count": 29,
     "metadata": {},
     "output_type": "execute_result"
    }
   ],
   "source": [
    "np.mean(l1)"
   ]
  },
  {
   "cell_type": "code",
   "execution_count": null,
   "metadata": {},
   "outputs": [],
   "source": [
    "import numpy as np"
   ]
  },
  {
   "cell_type": "code",
   "execution_count": 17,
   "metadata": {},
   "outputs": [
    {
     "data": {
      "text/plain": [
       "2.0054794520547947"
      ]
     },
     "execution_count": 17,
     "metadata": {},
     "output_type": "execute_result"
    }
   ],
   "source": [
    "dt = (2*365+2)/365\n",
    "dt"
   ]
  },
  {
   "cell_type": "code",
   "execution_count": 14,
   "metadata": {},
   "outputs": [],
   "source": [
    "r1 = np.log(0.927865)/dt"
   ]
  },
  {
   "cell_type": "code",
   "execution_count": 15,
   "metadata": {},
   "outputs": [
    {
     "data": {
      "text/plain": [
       "-0.03717985889038573"
      ]
     },
     "execution_count": 15,
     "metadata": {},
     "output_type": "execute_result"
    }
   ],
   "source": [
    "r1"
   ]
  },
  {
   "cell_type": "code",
   "execution_count": null,
   "metadata": {},
   "outputs": [],
   "source": []
  }
 ],
 "metadata": {
  "kernelspec": {
   "display_name": "base",
   "language": "python",
   "name": "python3"
  },
  "language_info": {
   "codemirror_mode": {
    "name": "ipython",
    "version": 3
   },
   "file_extension": ".py",
   "mimetype": "text/x-python",
   "name": "python",
   "nbconvert_exporter": "python",
   "pygments_lexer": "ipython3",
   "version": "3.12.4"
  }
 },
 "nbformat": 4,
 "nbformat_minor": 2
}
