{
 "cells": [
  {
   "cell_type": "code",
   "execution_count": null,
   "metadata": {},
   "outputs": [],
   "source": []
  },
  {
   "cell_type": "code",
   "execution_count": 5,
   "metadata": {},
   "outputs": [
    {
     "name": "stdout",
     "output_type": "stream",
     "text": [
      "The estimated fair value of the note is: $1076.71\n"
     ]
    }
   ],
   "source": [
    "import numpy as np\n",
    "\n",
    "# Note Features\n",
    "S0 = 41.76                 # Initial stock price ($)\n",
    "K = 25.06                  # Coupon barrier and downside threshold ($)\n",
    "coupon_rate = 0.1025       # Contingent coupon rate per annum\n",
    "coupon_payment = 25.625    # Contingent coupon per observation date ($)\n",
    "principal = 1000           # Principal amount per note ($)\n",
    "share_delivery_amount = 23.9464  # Shares delivered if below threshold at maturity\n",
    "call_start_step = 2        # Issuer can call starting from the second observation date\n",
    "\n",
    "# Market Parameters\n",
    "r = 0.04                   # Risk-free interest rate (2%)\n",
    "q = 0.02977                   # Dividend yield (3%)\n",
    "sigma = 0.25               # Stock volatility (25%)\n",
    "\n",
    "# Time Parameters\n",
    "T = 2.0                    # Total time to maturity (2 years)\n",
    "N = 1000                      # Number of time steps (quarterly observations)\n",
    "dt = T / N                 # Time step size\n",
    "\n",
    "# Binomial Tree Parameters\n",
    "u = np.exp(sigma * np.sqrt(dt))        # Up factor\n",
    "d = np.exp(-sigma * np.sqrt(dt))       # Down factor\n",
    "p = (np.exp((r - q) * dt) - d) / (u - d)  # Risk-neutral probability\n",
    "\n",
    "# Check for arbitrage\n",
    "if not (0 < p < 1):\n",
    "    raise ValueError(\"Risk-neutral probability is not between 0 and 1. Check parameters.\")\n",
    "\n",
    "# Build Stock Price Tree\n",
    "stock_tree = np.zeros((N + 1, N + 1))\n",
    "for i in range(N + 1):\n",
    "    for j in range(i + 1):\n",
    "        stock_tree[j, i] = S0 * (u ** (i - j)) * (d ** j)\n",
    "\n",
    "# Initialize Payoff Matrix\n",
    "value_tree = np.zeros_like(stock_tree)\n",
    "\n",
    "# Determine Payoffs at Maturity\n",
    "for j in range(N + 1):\n",
    "    S_T = stock_tree[j, N]\n",
    "    if S_T >= K:\n",
    "        # Receive principal back\n",
    "        value_tree[j, N] = principal + (coupon_payment if S_T >= K else 0)\n",
    "    else:\n",
    "        # Receive share delivery amount\n",
    "        value_tree[j, N] = share_delivery_amount * S_T\n",
    "\n",
    "# Backward Induction\n",
    "for i in range(N - 1, -1, -1):\n",
    "    for j in range(i + 1):\n",
    "        S_t = stock_tree[j, i]\n",
    "        # Calculate expected continuation value\n",
    "        continuation_value = np.exp(-r * dt) * (p * value_tree[j, i + 1] + (1 - p) * value_tree[j + 1, i + 1])\n",
    "        \n",
    "        # Add contingent coupon if barrier is breached\n",
    "        if S_t >= K:\n",
    "            continuation_value += coupon_payment\n",
    "        \n",
    "        # Check if issuer will call the note\n",
    "        if i >= call_start_step:\n",
    "            # Calculate call payoff\n",
    "            call_payoff = principal + (coupon_payment if S_t >= K else 0)\n",
    "            # Issuer will call if it's optimal\n",
    "            node_value = min(call_payoff, continuation_value)\n",
    "        else:\n",
    "            node_value = continuation_value\n",
    "        \n",
    "        value_tree[j, i] = node_value\n",
    "\n",
    "# Output the Note's Present Value\n",
    "note_value = value_tree[0, 0]\n",
    "print(f\"The estimated fair value of the note is: ${note_value:.2f}\")"
   ]
  },
  {
   "cell_type": "code",
   "execution_count": 3,
   "metadata": {},
   "outputs": [
    {
     "data": {
      "text/plain": [
       "array([[1049.3572047 , 1041.04486074, 1025.625     , 1025.625     ,\n",
       "        1025.625     , 1025.625     , 1025.625     , 1025.625     ,\n",
       "        1025.625     ],\n",
       "       [   0.        , 1027.56890549, 1025.625     , 1025.625     ,\n",
       "        1025.625     , 1025.625     , 1025.625     , 1025.625     ,\n",
       "        1025.625     ],\n",
       "       [   0.        ,    0.        ,  999.51066174, 1025.625     ,\n",
       "        1025.625     , 1025.625     , 1025.625     , 1025.625     ,\n",
       "        1025.625     ],\n",
       "       [   0.        ,    0.        ,    0.        ,  945.13808075,\n",
       "        1012.47309939, 1025.625     , 1025.625     , 1025.625     ,\n",
       "        1025.625     ],\n",
       "       [   0.        ,    0.        ,    0.        ,    0.        ,\n",
       "         851.85321836,  970.25730051, 1025.625     , 1025.625     ,\n",
       "        1025.625     ],\n",
       "       [   0.        ,    0.        ,    0.        ,    0.        ,\n",
       "           0.        ,  709.85939171,  888.44954504, 1025.625     ,\n",
       "        1025.625     ],\n",
       "       [   0.        ,    0.        ,    0.        ,    0.        ,\n",
       "           0.        ,    0.        ,  559.50016234,  729.91863876,\n",
       "        1025.625     ],\n",
       "       [   0.        ,    0.        ,    0.        ,    0.        ,\n",
       "           0.        ,    0.        ,    0.        ,  413.74793799,\n",
       "         472.36733876],\n",
       "       [   0.        ,    0.        ,    0.        ,    0.        ,\n",
       "           0.        ,    0.        ,    0.        ,    0.        ,\n",
       "         367.88005332]])"
      ]
     },
     "execution_count": 3,
     "metadata": {},
     "output_type": "execute_result"
    }
   ],
   "source": [
    "value_tree"
   ]
  },
  {
   "cell_type": "code",
   "execution_count": null,
   "metadata": {},
   "outputs": [],
   "source": []
  }
 ],
 "metadata": {
  "kernelspec": {
   "display_name": "base",
   "language": "python",
   "name": "python3"
  },
  "language_info": {
   "codemirror_mode": {
    "name": "ipython",
    "version": 3
   },
   "file_extension": ".py",
   "mimetype": "text/x-python",
   "name": "python",
   "nbconvert_exporter": "python",
   "pygments_lexer": "ipython3",
   "version": "3.12.4"
  }
 },
 "nbformat": 4,
 "nbformat_minor": 2
}
