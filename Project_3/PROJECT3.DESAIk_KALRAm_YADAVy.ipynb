{
 "cells": [
  {
   "cell_type": "markdown",
   "metadata": {},
   "source": [
    "<div style=\"color: #40E0D0; font-family: Cambria, serif; text-align: center; margin: 20px;\">\n",
    "\n",
    "<div style=\"font-size: 32px; font-weight: bold; margin-bottom: 15px;\">Autocallable Contingent Coupon Equity Linked Securities Linked to the VanEck Vectors® Junior Gold Miners ETF Due July 21, 2025</div>\n",
    "\n",
    "<div style=\"font-size: 18px; margin-bottom: 15px;\">\n",
    "<a href=\"https://www.sec.gov/Archives/edgar/data/200245/000148105724000574/form424b2.htm\" style=\"color: #40E0D0;\">SEC Filing Link to the Security\n",
    "</a>\n",
    "</div>\n",
    "\n",
    "<div style=\"font-size: 24px; font-weight: bold; margin-bottom: 15px;\">Payments on the Securities Based on the Konck-In event </div>\n",
    "\n",
    "<div style=\"font-style: italic; font-size: 16px;\">-Valuation report Python notebook by Yadvesh, Krish and Mayank</div>\n",
    "\n",
    "</div>"
   ]
  },
  {
   "cell_type": "markdown",
   "metadata": {},
   "source": [
    "#### Group Members (NetID)\n",
    "* Krish Desai (kcdesai2)\n",
    "* Mayank Kalra (mkalra2)\n",
    "* Yadvesh Yadav (yyada)"
   ]
  },
  {
   "cell_type": "markdown",
   "metadata": {},
   "source": [
    "---"
   ]
  },
  {
   "cell_type": "markdown",
   "metadata": {},
   "source": [
    "<div style=\"border-bottom: 3px solid black; display: inline-block;\">\n",
    "<span style=\"font-family: Cambria, serif; font-weight: bold; font-size: 28px;\">I) Introduction ==></span>\n",
    "</div>"
   ]
  },
  {
   "cell_type": "markdown",
   "metadata": {},
   "source": [
    "<div style=\"border-bottom: 2px solid black; display: inline-block;\">\n",
    "<span style=\"font-family: Cambria, serif; font-weight: bold; font-size: 20px;\">1) Below are the Key Dates of the Note:</span>\n",
    "</div>"
   ]
  },
  {
   "cell_type": "markdown",
   "metadata": {},
   "source": [
    "![](./images_project_3/key_dates.png)"
   ]
  },
  {
   "cell_type": "markdown",
   "metadata": {},
   "source": [
    "<div style=\"border-bottom: 2px solid black; display: inline-block;\">\n",
    "<span style=\"font-family: Cambria, serif; font-weight: bold; font-size: 20px;\">2) Below are the Note Offering:</span>\n",
    "</div>"
   ]
  },
  {
   "cell_type": "markdown",
   "metadata": {},
   "source": [
    "![](./images_project_3/note_offering.png)"
   ]
  },
  {
   "cell_type": "markdown",
   "metadata": {},
   "source": [
    "<div style=\"border-bottom: 2px solid black; display: inline-block;\">\n",
    "<span style=\"font-family: Cambria, serif; font-weight: bold; font-size: 20px;\">3) Below are the Observation Dates, Auto Call Dates and Coupon Payment Dates:</span>\n",
    "</div>"
   ]
  },
  {
   "cell_type": "markdown",
   "metadata": {},
   "source": [
    "![](./images_project_3/obs_cpn_dates.png)"
   ]
  },
  {
   "cell_type": "markdown",
   "metadata": {},
   "source": [
    "---"
   ]
  },
  {
   "cell_type": "markdown",
   "metadata": {},
   "source": [
    "<div style=\"border-bottom: 3px solid black; display: inline-block;\">\n",
    "<span style=\"font-family: Cambria, serif; font-weight: bold; font-size: 28px;\">II) Bloomberg Data (Risk-Free Rates(OIS), Dividend Yield and Volatality Matrix) is as follows ==> </span>\n",
    "</div>"
   ]
  },
  {
   "cell_type": "markdown",
   "metadata": {},
   "source": [
    "<div style=\"border-bottom: 2px solid black; display: inline-block;\">\n",
    "<span style=\"font-family: Cambria, serif; font-weight: bold; font-size: 20px;\">1) Risk Free Rate (OIS Rate):</span>\n",
    "</div>"
   ]
  },
  {
   "cell_type": "markdown",
   "metadata": {},
   "source": [
    "![](./images_project_3/ois.png)"
   ]
  },
  {
   "cell_type": "markdown",
   "metadata": {},
   "source": [
    "---"
   ]
  },
  {
   "cell_type": "markdown",
   "metadata": {},
   "source": [
    "<div style=\"border-bottom: 2px solid black; display: inline-block;\">\n",
    "<span style=\"font-family: Cambria, serif; font-weight: bold; font-size: 20px;\">2) Dividend Yield for VanEck Vectors® Junior Gold Miners ETF:</span>\n",
    "</div>"
   ]
  },
  {
   "cell_type": "markdown",
   "metadata": {},
   "source": [
    "![](./images_project_3/div.png)"
   ]
  },
  {
   "cell_type": "markdown",
   "metadata": {},
   "source": [
    "---"
   ]
  },
  {
   "cell_type": "markdown",
   "metadata": {},
   "source": [
    "<div style=\"border-bottom: 2px solid black; display: inline-block;\">\n",
    "<span style=\"font-family: Cambria, serif; font-weight: bold; font-size: 20px;\">3) Implied Volatality Matrix for VanEck Vectors® Junior Gold Miners ETF:</span>\n",
    "</div>"
   ]
  },
  {
   "cell_type": "markdown",
   "metadata": {},
   "source": [
    "![](./images_project_3/vols.png)"
   ]
  },
  {
   "cell_type": "markdown",
   "metadata": {},
   "source": [
    "---"
   ]
  },
  {
   "cell_type": "markdown",
   "metadata": {},
   "source": [
    "<div style=\"border-bottom: 2px solid black; display: inline-block;\">\n",
    "<span style=\"font-family: Cambria, serif; font-weight: bold; font-size: 28px;\">III) Getting the Risk-free rates from discount factors above ==></span>\n",
    "</div>"
   ]
  },
  {
   "cell_type": "code",
   "execution_count": 1,
   "metadata": {},
   "outputs": [],
   "source": [
    "# Importing Necessary Libraries\n",
    "from datetime import datetime, timedelta\n",
    "import calendar\n",
    "import numpy as np\n",
    "import matplotlib.pyplot as plt\n",
    "import pandas as pd\n",
    "import statsmodels.api as sm\n",
    "from sklearn.preprocessing import PolynomialFeatures\n",
    "from pandas.tseries.holiday import USFederalHolidayCalendar"
   ]
  },
  {
   "cell_type": "code",
   "execution_count": 2,
   "metadata": {},
   "outputs": [],
   "source": [
    "# function to get fractional difference between two dates\n",
    "def get_year_fraction(start_date, end_date):\n",
    "    if isinstance(start_date, str):\n",
    "        start_date = datetime.strptime(start_date, \"%Y-%m-%d\")\n",
    "    if isinstance(end_date, str):\n",
    "        end_date = datetime.strptime(end_date, \"%Y-%m-%d\")\n",
    "    \n",
    "    total_years = 0.0\n",
    "\n",
    "    current_date = start_date\n",
    "    while current_date < end_date:\n",
    "        year = current_date.year\n",
    "    \n",
    "        if year == end_date.year:\n",
    "            period_end = end_date\n",
    "        else:\n",
    "            period_end = datetime(year + 1, 1, 1)\n",
    "\n",
    "        days_in_period = (period_end - current_date).days\n",
    "        days_in_year = 366 if calendar.isleap(year) else 365\n",
    "        total_years += days_in_period / days_in_year\n",
    "        current_date = period_end\n",
    "    \n",
    "    return total_years"
   ]
  },
  {
   "cell_type": "code",
   "execution_count": 3,
   "metadata": {},
   "outputs": [
    {
     "name": "stdout",
     "output_type": "stream",
     "text": [
      "The Value of DF_1 is: 0.999556\n",
      "\n",
      "The Value of DF_2 is: 0.939215\n",
      "\n",
      "The Value of DF_3 is: 0.938809\n"
     ]
    }
   ],
   "source": [
    "# Key dates\n",
    "T_0 = \"2024-01-16\"\n",
    "T_1 = \"2024-01-19\"\n",
    "T_2 = \"2025-07-16\"\n",
    "T_3 = \"2025-07-21\"\n",
    "\n",
    "# Discount Factors at Key Dates\n",
    "DF_0 = 1\n",
    "\n",
    "# DF_1, DF_2 and DF_3 needs to be calculated using Interpolation\n",
    "# We have:\n",
    "# For DF1\n",
    "dt_2024_01_24 = \"2024-01-24\"\n",
    "DF_2024_01_24 = 0.998817\n",
    "\n",
    "# For DF2\n",
    "dt_2025_01_17 = \"2025-01-17\"\n",
    "DF_2025_01_17 = 0.955098\n",
    "dt_2025_07_17 = \"2025-07-17\"\n",
    "DF_2025_07_17 = 0.939127\n",
    "\n",
    "# For DF3\n",
    "dt_2026_01_20 = \"2026-01-20\"\n",
    "DF_2026_01_20 = 0.924274\n",
    "\n",
    "# Now using Interpolation we have:\n",
    "DF_1 = DF_0 + (DF_2024_01_24 - DF_0)*(get_year_fraction(T_0, T_1))/(get_year_fraction(T_0, dt_2024_01_24))\n",
    "print(f\"The Value of DF_1 is: {DF_1:.6f}\\n\")\n",
    "DF_2 = DF_2025_01_17 + (DF_2025_07_17 - DF_2025_01_17)*(get_year_fraction(dt_2025_01_17, T_2))/(get_year_fraction(dt_2025_01_17, dt_2025_07_17))\n",
    "print(f\"The Value of DF_2 is: {DF_2:.6f}\\n\")\n",
    "DF_3 = DF_2025_07_17 + (DF_2026_01_20 - DF_2025_07_17)*(get_year_fraction(dt_2025_07_17, T_3))/(get_year_fraction(dt_2025_07_17, dt_2026_01_20))\n",
    "print(f\"The Value of DF_3 is: {DF_3:.6f}\")"
   ]
  },
  {
   "cell_type": "markdown",
   "metadata": {},
   "source": [
    "<div style=\"border-bottom: 2px solid black; display: inline-block; margin-bottom: 20px;\">\n",
    "<span style=\"font-family: Cambria, serif; font-weight: bold; font-size: 20px;\">The Discount Factor Table after Linear Interpolation Looks like this</span>\n",
    "</div>\n",
    "\n",
    "<div style=\"font-family: Cambria, serif;\">\n",
    "\n",
    "| Keys | Dates     | DF        |\n",
    "|------|-----------|-----------|\n",
    "| T_0  | 01/16/2024  | 1.000000  |\n",
    "| T_1  | 01/19/2024 | 0.999556  |\n",
    "| T_2  | 07/16/2025 | 0.939215  |\n",
    "| T_3  | 07/21/2025 | 0.938809  |\n",
    "\n",
    "</div>"
   ]
  },
  {
   "cell_type": "code",
   "execution_count": 4,
   "metadata": {},
   "outputs": [],
   "source": [
    "# function to get r(0,T) from the discount factors DF\n",
    "def r_from_DF(DF, T, T_0):\n",
    "    dt = get_year_fraction(T_0, T)\n",
    "    r = -np.log(DF)/dt\n",
    "    return r, dt"
   ]
  },
  {
   "cell_type": "code",
   "execution_count": 5,
   "metadata": {},
   "outputs": [
    {
     "name": "stdout",
     "output_type": "stream",
     "text": [
      "The Value of continuously compounded risk free rate between T_0 and T_1(r_T0_T1) is: 0.05413426\n",
      "\n",
      "The Value of continuously compounded risk free rate between T_0 and T_2(r_T0_T2) is: 0.04191878\n",
      "\n",
      "The Value of continuously compounded risk free rate between T_0 and T_3(r_T0_T3) is: 0.04182478\n",
      "\n"
     ]
    }
   ],
   "source": [
    "r_T0_T1, T0_T1 = r_from_DF(DF_1, T_1, T_0)\n",
    "print(f\"The Value of continuously compounded risk free rate between T_0 and T_1(r_T0_T1) is: {r_T0_T1:.8f}\\n\")\n",
    "r_T0_T2, T0_T2 = r_from_DF(DF_2, T_2, T_0)\n",
    "print(f\"The Value of continuously compounded risk free rate between T_0 and T_2(r_T0_T2) is: {r_T0_T2:.8f}\\n\")\n",
    "r_T0_T3, T0_T3 = r_from_DF(DF_3, T_3, T_0)\n",
    "print(f\"The Value of continuously compounded risk free rate between T_0 and T_3(r_T0_T3) is: {r_T0_T3:.8f}\\n\")"
   ]
  },
  {
   "cell_type": "markdown",
   "metadata": {},
   "source": [
    "<div style=\"border-bottom: 2px solid black; display: inline-block; margin-bottom: 20px;\">\n",
    "<span style=\"font-family: Cambria, serif; font-weight: bold; font-size: 20px;\">The Discount Factor Table after Linear Interpolation Looks like this</span>\n",
    "</div>\n",
    "\n",
    "<div style=\"font-family: Cambria, serif;\">\n",
    "\n",
    "| Keys | Dates     | DF        | delta(T_x, T_0) | r(0,T_x)   |\n",
    "|------|-----------|-----------|-----------------|------------|\n",
    "| T_0  | 01/16/2024  | 1.000000  | 0.00000000     | 0.00000000 |\n",
    "| T_1  | 01/19/2024 | 0.999556 | 0.00819672     | 0.05413426 |\n",
    "| T_2  | 07/16/2025 | 0.939215 | 1.49600269    | <span style=\"background-color: green;\">0.04191878</span> |\n",
    "| T_3  | 07/21/2025 | 0.938809   | 1.50970132     | 0.04182478 |\n",
    "\n",
    "</div>"
   ]
  },
  {
   "cell_type": "code",
   "execution_count": 6,
   "metadata": {},
   "outputs": [
    {
     "name": "stdout",
     "output_type": "stream",
     "text": [
      "The Value of continuously compounded Forward rate between T_1 and T_3(F_T1_T3) is: 0.04175758\n",
      "\n"
     ]
    }
   ],
   "source": [
    "# now we need to calculate teh forward rate F(T_1,T_3)\n",
    "T1_T3 = get_year_fraction(T_1, T_3)\n",
    "F_T1_T3 = ((r_T0_T3*T0_T3) - (r_T0_T1*T0_T1))/T1_T3\n",
    "print(f\"The Value of continuously compounded Forward rate between T_1 and T_3(F_T1_T3) is: {F_T1_T3:.8f}\\n\")"
   ]
  },
  {
   "cell_type": "markdown",
   "metadata": {},
   "source": [
    "---"
   ]
  },
  {
   "cell_type": "markdown",
   "metadata": {},
   "source": [
    "<div style=\"border-bottom: 2px solid black; display: inline-block; margin-bottom: 20px;\">\n",
    "<span style=\"font-family: Cambria, serif; font-weight: bold; font-size: 20px;\">1) The Discount Factor Table after Linear Interpolation Looks like this:</span>\n",
    "</div>\n",
    "\n",
    "<div style=\"font-family: Cambria, serif;\">\n",
    "\n",
    "| Keys | Dates     | DF        | delta(T_x, T_0) | r(0,T_x)   | F(T_x1,T_x2)   |\n",
    "|------|-----------|-----------|-----------------|------------|------------|\n",
    "| T_0  | 01/16/2024  | 1.000000  | 0.00000000     | 0.00000000 | -  |\n",
    "| T_1  | 01/19/2024 | 0.999556 | 0.00819672     | 0.05413426 | -  |\n",
    "| T_2  | 07/16/2025 | 0.939215 | 1.49600269    | <span style=\"background-color: green;\">0.04191878</span> | -  |\n",
    "| T_3  | 07/21/2025 | 0.938809   | 1.50970132     | 0.04182478 |<span style=\"background-color: green;\">0.04175758</span> |\n",
    "\n",
    "</div>"
   ]
  },
  {
   "cell_type": "markdown",
   "metadata": {},
   "source": [
    "---"
   ]
  },
  {
   "cell_type": "markdown",
   "metadata": {},
   "source": [
    "<div style=\"border-bottom: 2px solid black; display: inline-block;\">\n",
    "<span style=\"font-family: Cambria, serif; font-weight: bold; font-size: 20px;\">2) The continuous dividend yield 'D' for GDXJ US Equity from bloomberg data is 1.807% or 0.01807</span>\n",
    "</div>"
   ]
  },
  {
   "cell_type": "markdown",
   "metadata": {},
   "source": [
    "---"
   ]
  },
  {
   "cell_type": "markdown",
   "metadata": {},
   "source": [
    "<div style=\"border-bottom: 2px solid black; display: inline-block; margin-bottom: 20px;\">\n",
    "<span style=\"font-family: Cambria, serif; font-weight: bold; font-size: 20px;\">3) The Moneyness and Volatility Matrices Looks like this:</span>\n",
    "</div>\n",
    "\n",
    "<div style=\"font-family: Cambria, serif;\">\n",
    "\n",
    "| Moneyness | GDX Implied Volatility (18M) |\n",
    "|-----------|------------------|\n",
    "| 70.00     | 39.547%         |\n",
    "| 75.00     | 38.099%         |\n",
    "| 80.00     | 36.785%         |\n",
    "| 85.00     | 35.924%         |\n",
    "| 90.00     | 35.335%         |\n",
    "| 95.00     | 35.164%         |\n",
    "| 100.00    | 35.212%         |\n",
    "| 105.00    | 35.554%         |\n",
    "| 110.00    | 36.095%         |\n",
    "\n",
    "</div>"
   ]
  },
  {
   "cell_type": "markdown",
   "metadata": {},
   "source": [
    "---"
   ]
  },
  {
   "cell_type": "markdown",
   "metadata": {},
   "source": [
    "<div style=\"border-bottom: 2px solid black; display: inline-block;\">\n",
    "<span style=\"font-family: Cambria, serif; font-weight: bold; font-size: 28px;\">IV) Now Calculating the Value of the Note using Explicit Finite Difference Methods ==></span>\n",
    "</div>"
   ]
  },
  {
   "cell_type": "markdown",
   "metadata": {},
   "source": [
    "#### The P.D.E. for this kind of derivative with dividend yield will be:"
   ]
  },
  {
   "cell_type": "markdown",
   "metadata": {},
   "source": [
    "$$\\frac{\\partial V}{\\partial t} + \\frac{1}{2}\\sigma^2\\frac{\\partial^2 V}{\\partial S^2} + (r_1-D)\\frac{\\partial V}{\\partial S} - r_2V = 0$$\n",
    "\n",
    "where:\n",
    "- $r_1 = r(0,T_2)$ (Used for modeling the stochastic process)\n",
    "- $r_2 = F(T_1,T_3)$ (Used for discounting)\n",
    "- D is the Continuous Dividend Yield of the underlying asset(S) "
   ]
  },
  {
   "cell_type": "code",
   "execution_count": 7,
   "metadata": {},
   "outputs": [
    {
     "name": "stdout",
     "output_type": "stream",
     "text": [
      "The Initial Index Value for GDXJ US Equity is: 34.66\n",
      "\n",
      "The Number of S-steps (jmax) is: 300\n",
      "\n",
      "The Default Implied Volatility at 95 moneyness is: 0.35164\n",
      "And the maximum implied volatility at 70 moneyness is: 0.39547\n",
      "\n",
      "The time to maturity T is: 1.496\n",
      "And the number of days in between the Pricing Date(01/16/2024) and Final Valuation Date(07/16/2025) are: 547\n",
      "\n",
      "The minimum time steps required that satify teh stability condition should be: 21057.27\n",
      "\n",
      "The Number of time-steps (imax) after satisfying the stability condition and is a multiple of 547 is: 21333.0\n",
      "\n",
      "The continously compounded risk-free rate for Stock-Tree simulation is: 0.04191878\n",
      "\n",
      "The continously compounded risk-free rate which is used for discounting is: 0.04175758\n",
      "\n",
      "The continuous dividend yield for GDXJ US Equity is: 0.01807\n",
      "\n",
      "The stated principal amount is: $1000\n",
      "\n",
      "The contingent coupon payment is: $35.625\n",
      "\n",
      "The Knock-in Value for GDXJ US Equity is: 24.262\n",
      "\n",
      "The Coupon Barrier Value for GDXJ US Equity is: 24.262\n",
      "\n",
      "The Minimum S Value for GDXJ US Equity is: 0.00\n",
      "\n",
      "The Maximum S Value for GDXJ US Equity is: 103.98\n",
      "\n"
     ]
    }
   ],
   "source": [
    "# note feature inputs that will go in the functions to calculate the value of the note\n",
    "\n",
    "# Initial Index Values\n",
    "S0 = 34.66\n",
    "print(f\"The Initial Index Value for GDXJ US Equity is: {S0}\\n\")\n",
    "\n",
    "# number of S-steps\n",
    "jmax = 300\n",
    "print(f\"The Number of S-steps (jmax) is: {jmax}\\n\")\n",
    "\n",
    "# deafult volatility is taken at 95 moneyness (sig = 0.35164) and max sigma at 70 moneyness (sig_max = 0.39547)\n",
    "sig = 0.35164\n",
    "sig_max = 0.39547\n",
    "print(f\"The Default Implied Volatility at 95 moneyness is: {sig}\\nAnd the maximum implied volatility at 70 moneyness is: {sig_max}\\n\")\n",
    "\n",
    "# Time for the Note till final valuation date is T0_T2 and total days tot_days will be:\n",
    "T = T0_T2\n",
    "tot_days = (datetime.strptime(T_2, \"%Y-%m-%d\") - datetime.strptime(T_0, \"%Y-%m-%d\")).days\n",
    "print(f\"The time to maturity T is: {T:.3f}\\nAnd the number of days in between the Pricing Date(01/16/2024) and Final Valuation Date(07/16/2025) are: {tot_days}\\n\")\n",
    "\n",
    "\n",
    "# By stability condition, the minimum time steps should be: (We have taken corresponding to maximum volatility so that our model is valid for entire volatility matrix)\n",
    "imax_min = (jmax**2)*(sig_max**2)*T\n",
    "print(f\"The minimum time steps required that satify teh stability condition should be: {imax_min:.2f}\\n\")\n",
    "\n",
    "# getting the nearest integer which is a multiple of days in between the pricing and valuation date and just greater than minimum required time steps\n",
    "coef = np.ceil(imax_min/tot_days)\n",
    "imax = coef*tot_days\n",
    "print(f\"The Number of time-steps (imax) after satisfying the stability condition and is a multiple of {tot_days} is: {imax}\\n\")\n",
    "\n",
    "# continously compounded risk-free rate(T_0 to T_2) for Stochastic Process\n",
    "r1 = r_T0_T2\n",
    "print(f\"The continously compounded risk-free rate for Stock-Tree simulation is: {r1:.8f}\\n\")\n",
    "\n",
    "# continously compounded forward rate(T_1 to T_3) for discounting\n",
    "r2 = F_T1_T3\n",
    "print(f\"The continously compounded risk-free rate which is used for discounting is: {r2:.8f}\\n\")\n",
    "\n",
    "# continuous dividend yields for GDXJ US Equity\n",
    "D = 0.01807\n",
    "print(f\"The continuous dividend yield for GDXJ US Equity is: {D}\\n\")\n",
    "\n",
    "# stated principal amount\n",
    "principal = 1000\n",
    "print(f\"The stated principal amount is: ${principal}\\n\")\n",
    "\n",
    "# contingent coupon payment\n",
    "cpn = 0.035625*principal\n",
    "print(f\"The contingent coupon payment is: ${cpn}\\n\")\n",
    "\n",
    "# Knock-in Value\n",
    "KI = 0.7*S0\n",
    "print(f\"The Knock-in Value for GDXJ US Equity is: {KI:.3f}\\n\")\n",
    "\n",
    "# Coupon Barrier Value\n",
    "CB = 0.7*S0\n",
    "print(f\"The Coupon Barrier Value for GDXJ US Equity is: {CB:.3f}\\n\")\n",
    "\n",
    "# Minimum S value\n",
    "SL = 0\n",
    "print(f\"The Minimum S Value for GDXJ US Equity is: {SL:.2f}\\n\")\n",
    "\n",
    "SU = 3*S0\n",
    "print(f\"The Maximum S Value for GDXJ US Equity is: {SU:.2f}\\n\")"
   ]
  },
  {
   "cell_type": "code",
   "execution_count": 8,
   "metadata": {},
   "outputs": [],
   "source": [
    "# function to calculate teh note value \n",
    "def note_value(S0, K, T, r1, r2, D, sig, SU, jmaxmin, jmaxmax, jmaxstep, imax, cpn):\n",
    "    expfd_result = []\n",
    "    jmaxmin = int(jmaxmin)\n",
    "    jmaxmax = int(jmaxmax)\n",
    "    jmaxstep = int(jmaxstep)\n",
    "    imax= int(imax)\n",
    "    \n",
    "    for jmax in range(jmaxmin, jmaxmax, jmaxstep): \n",
    "        # initialize grids\n",
    "        V = np.zeros([imax+1, jmax+1])\n",
    "        VN = np.zeros([imax+1, jmax+1])\n",
    "        A = np.zeros([jmax+1])\n",
    "        B = np.zeros([jmax+1])\n",
    "        C = np.zeros([jmax+1])\n",
    "\n",
    "        # step sizes\n",
    "        dt = T/imax\n",
    "        dS = SU/jmax\n",
    "\n",
    "        # time indices for observation and payment dates\n",
    "        tcall = [91/365, 182/365, 274/365, 366/365, 456/365, 547/365]\n",
    "        tcalls = [94/365, 185/365, 279/365, 371/365, 461/365, 552/365]\n",
    "        \n",
    "        TC1 = [i/dt for i in tcall]\n",
    "        TC = [int(i) for i in TC1]\n",
    "        TCS1 = [i/dt for i in tcalls]\n",
    "        TCS = [int(i) for i in TCS1]\n",
    "        \n",
    "        Tcpn = tcall[:-1]\n",
    "        Tcpp = tcalls[:-1]\n",
    "        Tcpn1 = [i/dt for i in Tcpn]\n",
    "        Tcp = [int(i) for i in Tcpn1]\n",
    "        Tcpay1 = [i/dt for i in Tcpp]\n",
    "        Tcpay = [int(i) for i in Tcpay1]\n",
    "\n",
    "        # terminal condition for knocked-in state\n",
    "        i = imax\n",
    "        for j in range(0, jmax+1):    \n",
    "            if j*dS <= K:\n",
    "                V[i,j] = (1000*j*dS/S0) * np.exp(-r2*(3/365))\n",
    "            elif j*dS > K and j*dS < S0:\n",
    "                V[i,j] = ((1000*(j*dS/S0))+cpn) * np.exp(-r2*(3/365))\n",
    "            elif j*dS >= S0:\n",
    "                V[i,j] = (1000+cpn) * np.exp(-r2*(3/365))\n",
    "\n",
    "            A[j] = (0.5*(sig**2)*(j**2) + 0.5*(r1 - D)*j)*dt\n",
    "            B[j] = 1 - (r2*dt) - ((sig**2)*(j**2)*dt)\n",
    "            C[j] = (0.5*(sig**2)*(j**2) - 0.5*(r1 - D)*j)*dt\n",
    "\n",
    "        # backward induction for knocked-in state\n",
    "        for i in range(imax-1, TC[0]-1, -1):\n",
    "            # lower boundary\n",
    "            V[i,0] = 0\n",
    "\n",
    "            # regular finite differences\n",
    "            for j in range(1, jmax):\n",
    "                V[i,j] = A[j]*V[i+1,j+1] + B[j]*V[i+1,j] + C[j]*V[i+1,j-1]\n",
    "                if i in TC and j*dS > S0:\n",
    "                    V[i,j] = (1000+cpn) * np.exp(-r2*(TCS[TC.index(i)]-TC[TC.index(i)])*dt)\n",
    "                elif i in TC and j*dS > K and j*dS <= S0:\n",
    "                    V[i,j] += cpn * np.exp(-r2*(TCS[TC.index(i)]-TC[TC.index(i)])*dt)\n",
    "\n",
    "            # upper boundary\n",
    "            if i in TC:\n",
    "                V[i,jmax] = (1000+cpn) * np.exp(-r2*(TCS[TC.index(i)]-TC[TC.index(i)])*dt)\n",
    "            else:\n",
    "                for n in range(len(TC)-1):\n",
    "                    if TC[n] < i < TC[n+1]:\n",
    "                        V[i,jmax] = (1000+cpn) * np.exp(-r2*(TCS[n+1]-i)*dt)\n",
    "\n",
    "        # values before first call date\n",
    "        for i in range(TC[0]-1, -1, -1):\n",
    "            # lower boundary\n",
    "            V[i,0] = 0\n",
    "\n",
    "            # regular finite differences\n",
    "            for j in range(1, jmax):\n",
    "                V[i,j] = A[j]*V[i+1,j+1] + B[j]*V[i+1,j] + C[j]*V[i+1,j-1]\n",
    "                if i in Tcp and j*dS > K:\n",
    "                    V[i,j] += cpn * np.exp(-r2*(Tcpay[Tcp.index(i)]-Tcp[Tcp.index(i)])*dt)\n",
    "\n",
    "            # upper boundary handling\n",
    "            if i <= Tcp[0]:\n",
    "                V[i,jmax] = (1000+cpn)*np.exp(-r2*(TCS[0]-i)*dt)\n",
    "                for n in range(len(Tcp)):\n",
    "                    V[i,jmax] += cpn*np.exp(-r2*(Tcpay[n]-i)*dt)\n",
    "\n",
    "            for n in range(len(Tcp)-1):\n",
    "                if Tcp[n] < i <= Tcp[n+1]:\n",
    "                    V[i,jmax] = (1000+cpn)*np.exp(-r2*(TCS[0]-i)*dt)\n",
    "                    for k in range(n+1, len(Tcp)):\n",
    "                        V[i,jmax] += cpn*np.exp(-r2*(Tcpay[k]-i)*dt)\n",
    "\n",
    "        # calculate values for not knocked-in state\n",
    "        jn = int(K/dS)\n",
    "        \n",
    "        # copy values below barrier\n",
    "        for i in range(imax+1):\n",
    "            for j in range(jn+1):\n",
    "                VN[i,j] = V[i,j]\n",
    "\n",
    "        # terminal condition above barrier\n",
    "        i = imax\n",
    "        for j in range(jn+1, jmax+1):    \n",
    "            VN[i,j] = (1000+cpn) * np.exp(-r2*(3/365))\n",
    "\n",
    "        # backward induction above barrier\n",
    "        for i in range(imax-1, TC[0]-1, -1):\n",
    "            for j in range(jn+1, jmax):\n",
    "                VN[i,j] = A[j]*VN[i+1,j+1] + B[j]*VN[i+1,j] + C[j]*VN[i+1,j-1]\n",
    "                if i in TC and j*dS > S0:\n",
    "                    VN[i,j] = (1000+cpn) * np.exp(-r2*(TCS[TC.index(i)]-TC[TC.index(i)])*dt)\n",
    "                elif i in TC and j*dS > K and j*dS <= S0:\n",
    "                    VN[i,j] += cpn * np.exp(-r2*(TCS[TC.index(i)]-TC[TC.index(i)])*dt)\n",
    "\n",
    "            # upper boundary\n",
    "            if i in TC:\n",
    "                VN[i,jmax] = (1000+cpn) * np.exp(-r2*(TCS[TC.index(i)]-TC[TC.index(i)])*dt)\n",
    "            else:\n",
    "                for n in range(len(TC)-1):\n",
    "                    if TC[n] < i < TC[n+1]:\n",
    "                        VN[i,jmax] = (1000+cpn)*np.exp(-r2*(TCS[n+1]-i)*dt)\n",
    "\n",
    "        # values before first call date\n",
    "        for i in range(TC[0]-1, -1, -1):\n",
    "            for j in range(jn+1, jmax):\n",
    "                VN[i,j] = A[j]*VN[i+1,j+1] + B[j]*VN[i+1,j] + C[j]*VN[i+1,j-1]\n",
    "                if i in Tcp and j*dS > K:\n",
    "                    VN[i,j] += cpn * np.exp(-r2*(Tcpay[Tcp.index(i)]-Tcp[Tcp.index(i)])*dt)\n",
    "\n",
    "            # upper boundary handling\n",
    "            if i <= Tcp[0]:\n",
    "                VN[i,jmax] = (1000+cpn)*np.exp(-r2*(TCS[0]-i)*dt)\n",
    "                for n in range(len(Tcp)):\n",
    "                    VN[i,jmax] += cpn*np.exp(-r2*(Tcpay[n]-i)*dt)\n",
    "\n",
    "            for n in range(len(Tcp)-1):\n",
    "                if Tcp[n] < i <= Tcp[n+1]:\n",
    "                    VN[i,jmax] = (1000+cpn)*np.exp(-r2*(TCS[0]-i)*dt)\n",
    "                    for k in range(n+1, len(Tcp)):\n",
    "                        VN[i,jmax] += cpn*np.exp(-r2*(Tcpay[k]-i)*dt)\n",
    "\n",
    "        # calculate final results\n",
    "        jcrit = int(S0/dS)\n",
    "        jcritK = int(K/dS) + 1\n",
    "        VNcrit = VN[0,jcrit]\n",
    "        Klambda = round((jcritK*dS - K)/dS, 4)\n",
    "        \n",
    "        output = {\n",
    "            'S_steps': jmax,\n",
    "            't_steps': imax,\n",
    "            'EXP': VNcrit,\n",
    "            'Lambda': Klambda\n",
    "        }\n",
    "        expfd_result.append(output)\n",
    "\n",
    "    return expfd_result, VNcrit"
   ]
  },
  {
   "cell_type": "code",
   "execution_count": 9,
   "metadata": {},
   "outputs": [],
   "source": [
    "expfd_result, note_val = note_value(S0=S0, K=KI, T=547/365, r1=r1, r2=r2, D=D, sig=sig, SU=SU, jmaxmin=jmax, jmaxmax=jmax+1, jmaxstep=1, imax=imax, cpn=cpn)"
   ]
  },
  {
   "cell_type": "code",
   "execution_count": 10,
   "metadata": {},
   "outputs": [
    {
     "name": "stdout",
     "output_type": "stream",
     "text": [
      "[{'S_steps': 300, 't_steps': 21333, 'EXP': 964.7136177042951, 'Lambda': 1.0}] \n",
      "\n",
      "The estimated fair value of the note at 95 moneyness and 300 S-steps is: $964.714\n"
     ]
    }
   ],
   "source": [
    "print(expfd_result,'\\n')\n",
    "print(f\"The estimated fair value of the note at 95 moneyness and {jmax} S-steps is: ${note_val:.3f}\")"
   ]
  },
  {
   "cell_type": "markdown",
   "metadata": {},
   "source": [
    "<div style=\"border-bottom: 2px solid black; display: inline-block; margin-bottom: 20px;\">\n",
    "<span style=\"font-family: Cambria, serif; font-weight: bold; font-size: 20px; background-color: green;\">The estimated fair value of the note at 95 moneyness and with 300 S-steps is: $ 964.714</span>\n",
    "\n",
    "</div>"
   ]
  },
  {
   "cell_type": "markdown",
   "metadata": {},
   "source": [
    "---"
   ]
  },
  {
   "cell_type": "markdown",
   "metadata": {},
   "source": [
    "<div style=\"border-bottom: 2px solid black; display: inline-block;\">\n",
    "<span style=\"font-family: Cambria, serif; font-weight: bold; font-size: 28px;\">V) Error  Analysis and Lambda Profile ==></span>\n",
    "</div>"
   ]
  },
  {
   "cell_type": "markdown",
   "metadata": {},
   "source": [
    "#### Taking the analytical value of teh note as $977.75"
   ]
  },
  {
   "cell_type": "markdown",
   "metadata": {},
   "source": [
    "#### i) For Varying Lambda"
   ]
  },
  {
   "cell_type": "code",
   "execution_count": 11,
   "metadata": {},
   "outputs": [],
   "source": [
    "jmaxmin = 30\n",
    "jmaxmax = 300\n",
    "jmaxstep = 12\n",
    "i_min = (jmaxmax**2)*(sig_max**2)*T\n",
    "coef = np.ceil(i_min/tot_days)\n",
    "i_max_calc = coef*tot_days\n",
    "expfd_result_var, note_val = note_value(S0=S0, K=KI, T=547/365, r1=r1, r2=r2, D=D, sig=sig, SU=SU, jmaxmin=jmaxmin, jmaxmax=jmaxmax+1, jmaxstep=jmaxstep, imax=i_max_calc, cpn=cpn)"
   ]
  },
  {
   "cell_type": "code",
   "execution_count": 12,
   "metadata": {},
   "outputs": [
    {
     "data": {
      "text/plain": [
       "[{'S_steps': 30, 't_steps': 21333, 'EXP': 954.0782917886489, 'Lambda': 1.0},\n",
       " {'S_steps': 42, 't_steps': 21333, 'EXP': 973.2456484986502, 'Lambda': 0.2},\n",
       " {'S_steps': 54, 't_steps': 21333, 'EXP': 967.654369342295, 'Lambda': 0.4},\n",
       " {'S_steps': 66, 't_steps': 21333, 'EXP': 964.7223374432439, 'Lambda': 0.6},\n",
       " {'S_steps': 78, 't_steps': 21333, 'EXP': 946.0788978062349, 'Lambda': 0.8},\n",
       " {'S_steps': 90, 't_steps': 21333, 'EXP': 956.4694094088852, 'Lambda': 0.0},\n",
       " {'S_steps': 102, 't_steps': 21333, 'EXP': 967.732089739719, 'Lambda': 0.2},\n",
       " {'S_steps': 114, 't_steps': 21333, 'EXP': 966.2375865415999, 'Lambda': 0.4},\n",
       " {'S_steps': 126, 't_steps': 21333, 'EXP': 965.0926701356398, 'Lambda': 0.6},\n",
       " {'S_steps': 138, 't_steps': 21333, 'EXP': 964.1885551208551, 'Lambda': 0.8},\n",
       " {'S_steps': 150, 't_steps': 21333, 'EXP': 963.4569097243944, 'Lambda': 1.0},\n",
       " {'S_steps': 162, 't_steps': 21333, 'EXP': 966.8951960482544, 'Lambda': 0.2},\n",
       " {'S_steps': 174, 't_steps': 21333, 'EXP': 966.0465362007672, 'Lambda': 0.4},\n",
       " {'S_steps': 186, 't_steps': 21333, 'EXP': 965.327068048077, 'Lambda': 0.6},\n",
       " {'S_steps': 198, 't_steps': 21333, 'EXP': 964.7093754820553, 'Lambda': 0.8},\n",
       " {'S_steps': 210, 't_steps': 21333, 'EXP': 964.1732537889566, 'Lambda': 1.0},\n",
       " {'S_steps': 222, 't_steps': 21333, 'EXP': 966.5874776113928, 'Lambda': 0.2},\n",
       " {'S_steps': 234, 't_steps': 21333, 'EXP': 965.9938870941218, 'Lambda': 0.4},\n",
       " {'S_steps': 246, 't_steps': 21333, 'EXP': 965.4671131307387, 'Lambda': 0.6},\n",
       " {'S_steps': 258, 't_steps': 21333, 'EXP': 964.9964271732673, 'Lambda': 0.8},\n",
       " {'S_steps': 270, 't_steps': 21333, 'EXP': 964.5732782702692, 'Lambda': 1.0},\n",
       " {'S_steps': 282, 't_steps': 21333, 'EXP': 966.4317895978752, 'Lambda': 0.2},\n",
       " {'S_steps': 294, 't_steps': 21333, 'EXP': 965.9748560287738, 'Lambda': 0.4}]"
      ]
     },
     "execution_count": 12,
     "metadata": {},
     "output_type": "execute_result"
    }
   ],
   "source": [
    "expfd_result_var"
   ]
  },
  {
   "cell_type": "code",
   "execution_count": 13,
   "metadata": {},
   "outputs": [],
   "source": [
    "# craete a dataframe for error analysis\n",
    "df = pd.DataFrame.from_dict(expfd_result_var)"
   ]
  },
  {
   "cell_type": "code",
   "execution_count": 14,
   "metadata": {},
   "outputs": [],
   "source": [
    "# calculating teh errors\n",
    "df['error_exp'] = df[\"EXP\"] - 977.75"
   ]
  },
  {
   "cell_type": "code",
   "execution_count": 15,
   "metadata": {},
   "outputs": [
    {
     "data": {
      "text/html": [
       "<div>\n",
       "<style scoped>\n",
       "    .dataframe tbody tr th:only-of-type {\n",
       "        vertical-align: middle;\n",
       "    }\n",
       "\n",
       "    .dataframe tbody tr th {\n",
       "        vertical-align: top;\n",
       "    }\n",
       "\n",
       "    .dataframe thead th {\n",
       "        text-align: right;\n",
       "    }\n",
       "</style>\n",
       "<table border=\"1\" class=\"dataframe\">\n",
       "  <thead>\n",
       "    <tr style=\"text-align: right;\">\n",
       "      <th></th>\n",
       "      <th>S_steps</th>\n",
       "      <th>t_steps</th>\n",
       "      <th>EXP</th>\n",
       "      <th>Lambda</th>\n",
       "      <th>error_exp</th>\n",
       "    </tr>\n",
       "  </thead>\n",
       "  <tbody>\n",
       "    <tr>\n",
       "      <th>0</th>\n",
       "      <td>30</td>\n",
       "      <td>21333</td>\n",
       "      <td>954.078292</td>\n",
       "      <td>1.0</td>\n",
       "      <td>-23.671708</td>\n",
       "    </tr>\n",
       "    <tr>\n",
       "      <th>1</th>\n",
       "      <td>42</td>\n",
       "      <td>21333</td>\n",
       "      <td>973.245648</td>\n",
       "      <td>0.2</td>\n",
       "      <td>-4.504352</td>\n",
       "    </tr>\n",
       "    <tr>\n",
       "      <th>2</th>\n",
       "      <td>54</td>\n",
       "      <td>21333</td>\n",
       "      <td>967.654369</td>\n",
       "      <td>0.4</td>\n",
       "      <td>-10.095631</td>\n",
       "    </tr>\n",
       "    <tr>\n",
       "      <th>3</th>\n",
       "      <td>66</td>\n",
       "      <td>21333</td>\n",
       "      <td>964.722337</td>\n",
       "      <td>0.6</td>\n",
       "      <td>-13.027663</td>\n",
       "    </tr>\n",
       "    <tr>\n",
       "      <th>4</th>\n",
       "      <td>78</td>\n",
       "      <td>21333</td>\n",
       "      <td>946.078898</td>\n",
       "      <td>0.8</td>\n",
       "      <td>-31.671102</td>\n",
       "    </tr>\n",
       "  </tbody>\n",
       "</table>\n",
       "</div>"
      ],
      "text/plain": [
       "   S_steps  t_steps         EXP  Lambda  error_exp\n",
       "0       30    21333  954.078292     1.0 -23.671708\n",
       "1       42    21333  973.245648     0.2  -4.504352\n",
       "2       54    21333  967.654369     0.4 -10.095631\n",
       "3       66    21333  964.722337     0.6 -13.027663\n",
       "4       78    21333  946.078898     0.8 -31.671102"
      ]
     },
     "execution_count": 15,
     "metadata": {},
     "output_type": "execute_result"
    }
   ],
   "source": [
    "# INSPECT THE FIRST ROWS OF THE DATAFRAME\n",
    "df.head()"
   ]
  },
  {
   "cell_type": "code",
   "execution_count": 16,
   "metadata": {},
   "outputs": [
    {
     "data": {
      "text/html": [
       "<div>\n",
       "<style scoped>\n",
       "    .dataframe tbody tr th:only-of-type {\n",
       "        vertical-align: middle;\n",
       "    }\n",
       "\n",
       "    .dataframe tbody tr th {\n",
       "        vertical-align: top;\n",
       "    }\n",
       "\n",
       "    .dataframe thead th {\n",
       "        text-align: right;\n",
       "    }\n",
       "</style>\n",
       "<table border=\"1\" class=\"dataframe\">\n",
       "  <thead>\n",
       "    <tr style=\"text-align: right;\">\n",
       "      <th></th>\n",
       "      <th>S_steps</th>\n",
       "      <th>t_steps</th>\n",
       "      <th>EXP</th>\n",
       "      <th>Lambda</th>\n",
       "      <th>error_exp</th>\n",
       "    </tr>\n",
       "  </thead>\n",
       "  <tbody>\n",
       "    <tr>\n",
       "      <th>18</th>\n",
       "      <td>246</td>\n",
       "      <td>21333</td>\n",
       "      <td>965.467113</td>\n",
       "      <td>0.6</td>\n",
       "      <td>-12.282887</td>\n",
       "    </tr>\n",
       "    <tr>\n",
       "      <th>19</th>\n",
       "      <td>258</td>\n",
       "      <td>21333</td>\n",
       "      <td>964.996427</td>\n",
       "      <td>0.8</td>\n",
       "      <td>-12.753573</td>\n",
       "    </tr>\n",
       "    <tr>\n",
       "      <th>20</th>\n",
       "      <td>270</td>\n",
       "      <td>21333</td>\n",
       "      <td>964.573278</td>\n",
       "      <td>1.0</td>\n",
       "      <td>-13.176722</td>\n",
       "    </tr>\n",
       "    <tr>\n",
       "      <th>21</th>\n",
       "      <td>282</td>\n",
       "      <td>21333</td>\n",
       "      <td>966.431790</td>\n",
       "      <td>0.2</td>\n",
       "      <td>-11.318210</td>\n",
       "    </tr>\n",
       "    <tr>\n",
       "      <th>22</th>\n",
       "      <td>294</td>\n",
       "      <td>21333</td>\n",
       "      <td>965.974856</td>\n",
       "      <td>0.4</td>\n",
       "      <td>-11.775144</td>\n",
       "    </tr>\n",
       "  </tbody>\n",
       "</table>\n",
       "</div>"
      ],
      "text/plain": [
       "    S_steps  t_steps         EXP  Lambda  error_exp\n",
       "18      246    21333  965.467113     0.6 -12.282887\n",
       "19      258    21333  964.996427     0.8 -12.753573\n",
       "20      270    21333  964.573278     1.0 -13.176722\n",
       "21      282    21333  966.431790     0.2 -11.318210\n",
       "22      294    21333  965.974856     0.4 -11.775144"
      ]
     },
     "execution_count": 16,
     "metadata": {},
     "output_type": "execute_result"
    }
   ],
   "source": [
    "# INSPECT THE LAST ROWS OF THE DATAFRAME\n",
    "df.tail()"
   ]
  },
  {
   "cell_type": "code",
   "execution_count": 32,
   "metadata": {},
   "outputs": [
    {
     "data": {
      "image/png": "[encoded data removed]",
      "text/plain": [
       "<Figure size 1400x1000 with 2 Axes>"
      ]
     },
     "metadata": {},
     "output_type": "display_data"
    }
   ],
   "source": [
    "# plotting teh graph\n",
    "plt.style.use('seaborn-v0_8-whitegrid')\n",
    "fig, ax1 = plt.subplots(figsize=(14, 10), facecolor='white')\n",
    "ax1.set_facecolor('white')\n",
    "line1 = ax1.plot(df['S_steps'], df['error_exp'], '-', linewidth=1.5, color='#1f77b4', label='Error Profile')\n",
    "ax1.grid(True, linestyle='--', alpha=0.7, linewidth=0.5)\n",
    "ax2 = ax1.twinx()\n",
    "line2 = ax2.plot(df['S_steps'], df['Lambda'], '-', linewidth=1.5, color='#ff7f0e', label='Lambda')\n",
    "ax1.set_xlabel('Number of S-Steps (jmax)', fontsize=12, labelpad=10)\n",
    "ax1.set_ylabel('Error Profile', fontsize=12, labelpad=10)\n",
    "ax2.set_ylabel('Lambda', fontsize=12, labelpad=10, color='#ff7f0e')\n",
    "ax1.spines['top'].set_visible(False)\n",
    "ax2.spines['top'].set_visible(False)\n",
    "ax1.tick_params(axis='both', which='major', labelsize=10)\n",
    "ax2.tick_params(axis='y', which='major', labelsize=10, colors='#ff7f0e')\n",
    "ax2.set_ylim(0, 1.2)\n",
    "plt.title('Error Profile and Lambda Values vs. Number of S-Steps', fontsize=14, pad=20)\n",
    "lines = line1 + line2\n",
    "labels = [l.get_label() for l in lines]\n",
    "ax1.legend(lines, labels, loc='upper right', frameon=True, fancybox=True, framealpha=0.8, fontsize=10)\n",
    "plt.tight_layout()\n",
    "plt.show()"
   ]
  },
  {
   "cell_type": "markdown",
   "metadata": {},
   "source": [
    "#### ii) For Fixed Lambda"
   ]
  },
  {
   "cell_type": "code",
   "execution_count": 18,
   "metadata": {},
   "outputs": [],
   "source": [
    "jmaxmin = 10\n",
    "jmaxmax = 300\n",
    "jmaxstep = 30\n",
    "i_min = (jmaxmax**2)*(sig_max**2)*T\n",
    "coef = np.ceil(i_min/tot_days)\n",
    "i_max_calc = coef*tot_days\n",
    "expfd_result_fix, note_val = note_value(S0=S0, K=KI, T=547/365, r1=r1, r2=r2, D=D, sig=sig, SU=SU, jmaxmin=jmaxmin, jmaxmax=jmaxmax+1, jmaxstep=jmaxstep, imax=i_max_calc, cpn=cpn)"
   ]
  },
  {
   "cell_type": "code",
   "execution_count": 19,
   "metadata": {},
   "outputs": [
    {
     "data": {
      "text/plain": [
       "[{'S_steps': 10, 't_steps': 21333, 'EXP': 925.3397949882782, 'Lambda': 0.6667},\n",
       " {'S_steps': 40, 't_steps': 21333, 'EXP': 954.3878392869851, 'Lambda': 0.6667},\n",
       " {'S_steps': 70, 't_steps': 21333, 'EXP': 959.3042912530574, 'Lambda': 0.6667},\n",
       " {'S_steps': 100,\n",
       "  't_steps': 21333,\n",
       "  'EXP': 961.3010554855799,\n",
       "  'Lambda': 0.6667},\n",
       " {'S_steps': 130,\n",
       "  't_steps': 21333,\n",
       "  'EXP': 962.3803674020097,\n",
       "  'Lambda': 0.6667},\n",
       " {'S_steps': 160,\n",
       "  't_steps': 21333,\n",
       "  'EXP': 963.0558266861666,\n",
       "  'Lambda': 0.6667},\n",
       " {'S_steps': 190,\n",
       "  't_steps': 21333,\n",
       "  'EXP': 963.5182200054829,\n",
       "  'Lambda': 0.6667},\n",
       " {'S_steps': 220,\n",
       "  't_steps': 21333,\n",
       "  'EXP': 963.8545729035773,\n",
       "  'Lambda': 0.6667},\n",
       " {'S_steps': 250,\n",
       "  't_steps': 21333,\n",
       "  'EXP': 964.1102168272473,\n",
       "  'Lambda': 0.6667},\n",
       " {'S_steps': 280,\n",
       "  't_steps': 21333,\n",
       "  'EXP': 964.3110794116074,\n",
       "  'Lambda': 0.6667}]"
      ]
     },
     "execution_count": 19,
     "metadata": {},
     "output_type": "execute_result"
    }
   ],
   "source": [
    "expfd_result_fix"
   ]
  },
  {
   "cell_type": "code",
   "execution_count": 20,
   "metadata": {},
   "outputs": [],
   "source": [
    "# craete a dataframe for error analysis\n",
    "df = pd.DataFrame.from_dict(expfd_result_fix)"
   ]
  },
  {
   "cell_type": "code",
   "execution_count": 21,
   "metadata": {},
   "outputs": [],
   "source": [
    "# calculating teh errors\n",
    "df['error_exp'] = df[\"EXP\"] - 977.75"
   ]
  },
  {
   "cell_type": "code",
   "execution_count": 22,
   "metadata": {},
   "outputs": [
    {
     "data": {
      "text/html": [
       "<div>\n",
       "<style scoped>\n",
       "    .dataframe tbody tr th:only-of-type {\n",
       "        vertical-align: middle;\n",
       "    }\n",
       "\n",
       "    .dataframe tbody tr th {\n",
       "        vertical-align: top;\n",
       "    }\n",
       "\n",
       "    .dataframe thead th {\n",
       "        text-align: right;\n",
       "    }\n",
       "</style>\n",
       "<table border=\"1\" class=\"dataframe\">\n",
       "  <thead>\n",
       "    <tr style=\"text-align: right;\">\n",
       "      <th></th>\n",
       "      <th>S_steps</th>\n",
       "      <th>t_steps</th>\n",
       "      <th>EXP</th>\n",
       "      <th>Lambda</th>\n",
       "      <th>error_exp</th>\n",
       "    </tr>\n",
       "  </thead>\n",
       "  <tbody>\n",
       "    <tr>\n",
       "      <th>0</th>\n",
       "      <td>10</td>\n",
       "      <td>21333</td>\n",
       "      <td>925.339795</td>\n",
       "      <td>0.6667</td>\n",
       "      <td>-52.410205</td>\n",
       "    </tr>\n",
       "    <tr>\n",
       "      <th>1</th>\n",
       "      <td>40</td>\n",
       "      <td>21333</td>\n",
       "      <td>954.387839</td>\n",
       "      <td>0.6667</td>\n",
       "      <td>-23.362161</td>\n",
       "    </tr>\n",
       "    <tr>\n",
       "      <th>2</th>\n",
       "      <td>70</td>\n",
       "      <td>21333</td>\n",
       "      <td>959.304291</td>\n",
       "      <td>0.6667</td>\n",
       "      <td>-18.445709</td>\n",
       "    </tr>\n",
       "    <tr>\n",
       "      <th>3</th>\n",
       "      <td>100</td>\n",
       "      <td>21333</td>\n",
       "      <td>961.301055</td>\n",
       "      <td>0.6667</td>\n",
       "      <td>-16.448945</td>\n",
       "    </tr>\n",
       "    <tr>\n",
       "      <th>4</th>\n",
       "      <td>130</td>\n",
       "      <td>21333</td>\n",
       "      <td>962.380367</td>\n",
       "      <td>0.6667</td>\n",
       "      <td>-15.369633</td>\n",
       "    </tr>\n",
       "  </tbody>\n",
       "</table>\n",
       "</div>"
      ],
      "text/plain": [
       "   S_steps  t_steps         EXP  Lambda  error_exp\n",
       "0       10    21333  925.339795  0.6667 -52.410205\n",
       "1       40    21333  954.387839  0.6667 -23.362161\n",
       "2       70    21333  959.304291  0.6667 -18.445709\n",
       "3      100    21333  961.301055  0.6667 -16.448945\n",
       "4      130    21333  962.380367  0.6667 -15.369633"
      ]
     },
     "execution_count": 22,
     "metadata": {},
     "output_type": "execute_result"
    }
   ],
   "source": [
    "# INSPECT THE FIRST ROWS OF THE DATAFRAME\n",
    "df.head()"
   ]
  },
  {
   "cell_type": "code",
   "execution_count": 23,
   "metadata": {},
   "outputs": [
    {
     "data": {
      "text/html": [
       "<div>\n",
       "<style scoped>\n",
       "    .dataframe tbody tr th:only-of-type {\n",
       "        vertical-align: middle;\n",
       "    }\n",
       "\n",
       "    .dataframe tbody tr th {\n",
       "        vertical-align: top;\n",
       "    }\n",
       "\n",
       "    .dataframe thead th {\n",
       "        text-align: right;\n",
       "    }\n",
       "</style>\n",
       "<table border=\"1\" class=\"dataframe\">\n",
       "  <thead>\n",
       "    <tr style=\"text-align: right;\">\n",
       "      <th></th>\n",
       "      <th>S_steps</th>\n",
       "      <th>t_steps</th>\n",
       "      <th>EXP</th>\n",
       "      <th>Lambda</th>\n",
       "      <th>error_exp</th>\n",
       "    </tr>\n",
       "  </thead>\n",
       "  <tbody>\n",
       "    <tr>\n",
       "      <th>5</th>\n",
       "      <td>160</td>\n",
       "      <td>21333</td>\n",
       "      <td>963.055827</td>\n",
       "      <td>0.6667</td>\n",
       "      <td>-14.694173</td>\n",
       "    </tr>\n",
       "    <tr>\n",
       "      <th>6</th>\n",
       "      <td>190</td>\n",
       "      <td>21333</td>\n",
       "      <td>963.518220</td>\n",
       "      <td>0.6667</td>\n",
       "      <td>-14.231780</td>\n",
       "    </tr>\n",
       "    <tr>\n",
       "      <th>7</th>\n",
       "      <td>220</td>\n",
       "      <td>21333</td>\n",
       "      <td>963.854573</td>\n",
       "      <td>0.6667</td>\n",
       "      <td>-13.895427</td>\n",
       "    </tr>\n",
       "    <tr>\n",
       "      <th>8</th>\n",
       "      <td>250</td>\n",
       "      <td>21333</td>\n",
       "      <td>964.110217</td>\n",
       "      <td>0.6667</td>\n",
       "      <td>-13.639783</td>\n",
       "    </tr>\n",
       "    <tr>\n",
       "      <th>9</th>\n",
       "      <td>280</td>\n",
       "      <td>21333</td>\n",
       "      <td>964.311079</td>\n",
       "      <td>0.6667</td>\n",
       "      <td>-13.438921</td>\n",
       "    </tr>\n",
       "  </tbody>\n",
       "</table>\n",
       "</div>"
      ],
      "text/plain": [
       "   S_steps  t_steps         EXP  Lambda  error_exp\n",
       "5      160    21333  963.055827  0.6667 -14.694173\n",
       "6      190    21333  963.518220  0.6667 -14.231780\n",
       "7      220    21333  963.854573  0.6667 -13.895427\n",
       "8      250    21333  964.110217  0.6667 -13.639783\n",
       "9      280    21333  964.311079  0.6667 -13.438921"
      ]
     },
     "execution_count": 23,
     "metadata": {},
     "output_type": "execute_result"
    }
   ],
   "source": [
    "# INSPECT THE LAST ROWS OF THE DATAFRAME\n",
    "df.tail()"
   ]
  },
  {
   "cell_type": "code",
   "execution_count": 24,
   "metadata": {},
   "outputs": [
    {
     "data": {
      "image/png": "[encoded data removed]",
      "text/plain": [
       "<Figure size 1400x1000 with 2 Axes>"
      ]
     },
     "metadata": {},
     "output_type": "display_data"
    }
   ],
   "source": [
    "# plotting teh graph\n",
    "plt.style.use('seaborn-v0_8-whitegrid')\n",
    "fig, ax1 = plt.subplots(figsize=(14, 10), facecolor='white')\n",
    "ax1.set_facecolor('white')\n",
    "line1 = ax1.plot(df['S_steps'], df['error_exp'], '-', linewidth=1.5, color='#1f77b4', label='Value Profile')\n",
    "ax1.grid(True, linestyle='--', alpha=0.7, linewidth=0.5)\n",
    "ax2 = ax1.twinx()\n",
    "line2 = ax2.plot(df['S_steps'], df['Lambda'], '-', linewidth=1.5, color='#ff7f0e', label='Lambda')\n",
    "ax1.set_xlabel('Number of S-Steps (jmax)', fontsize=12, labelpad=10)\n",
    "ax1.set_ylabel('Error Profile', fontsize=12, labelpad=10)\n",
    "ax2.set_ylabel('Lambda', fontsize=12, labelpad=10, color='#ff7f0e')\n",
    "ax1.spines['top'].set_visible(False)\n",
    "ax2.spines['top'].set_visible(False)\n",
    "ax1.tick_params(axis='both', which='major', labelsize=10)\n",
    "ax2.tick_params(axis='y', which='major', labelsize=10, colors='#ff7f0e')\n",
    "ax2.set_ylim(0, 1.2)\n",
    "plt.title('Error Profile and Lambda Values vs. Number of S-Steps', fontsize=14, pad=20)\n",
    "lines = line1 + line2\n",
    "labels = [l.get_label() for l in lines]\n",
    "ax1.legend(lines, labels, loc='upper right', frameon=True, fancybox=True, framealpha=0.8, fontsize=10)\n",
    "plt.tight_layout()\n",
    "plt.show()"
   ]
  },
  {
   "cell_type": "markdown",
   "metadata": {},
   "source": [
    "#### iii) Sensitivity Analysis for 300 S-steps and fixed lambda while changing the (implied volatility) sigma values"
   ]
  },
  {
   "cell_type": "code",
   "execution_count": 25,
   "metadata": {},
   "outputs": [],
   "source": [
    "sigma_moneyness = {\n",
    "    70.00: 0.39547,\n",
    "    75.00: 0.38099,\n",
    "    80.00: 0.36785,\n",
    "    85.00: 0.35924,\n",
    "    90.00: 0.35335,\n",
    "    95.00: 0.35164,\n",
    "    100.00: 0.35212,\n",
    "    105.00: 0.35554,\n",
    "    110.00: 0.36095\n",
    "}"
   ]
  },
  {
   "cell_type": "code",
   "execution_count": 26,
   "metadata": {},
   "outputs": [],
   "source": [
    "sig_values = list(sigma_moneyness.values())"
   ]
  },
  {
   "cell_type": "code",
   "execution_count": 27,
   "metadata": {},
   "outputs": [
    {
     "data": {
      "text/plain": [
       "[0.39547,\n",
       " 0.38099,\n",
       " 0.36785,\n",
       " 0.35924,\n",
       " 0.35335,\n",
       " 0.35164,\n",
       " 0.35212,\n",
       " 0.35554,\n",
       " 0.36095]"
      ]
     },
     "execution_count": 27,
     "metadata": {},
     "output_type": "execute_result"
    }
   ],
   "source": [
    "sig_values"
   ]
  },
  {
   "cell_type": "code",
   "execution_count": 28,
   "metadata": {},
   "outputs": [
    {
     "name": "stdout",
     "output_type": "stream",
     "text": [
      "{'Sigma': 0.39547, 'Note Value': 947.0775024923839}\n",
      "{'Sigma': 0.38099, 'Note Value': 952.7807010721406}\n",
      "{'Sigma': 0.36785, 'Note Value': 958.0566506808246}\n",
      "{'Sigma': 0.35924, 'Note Value': 961.5709041176617}\n",
      "{'Sigma': 0.35335, 'Note Value': 964.0030490355955}\n",
      "{'Sigma': 0.35164, 'Note Value': 964.7136177042951}\n",
      "{'Sigma': 0.35212, 'Note Value': 964.5139532746852}\n",
      "{'Sigma': 0.35554, 'Note Value': 963.0959837745635}\n",
      "{'Sigma': 0.36095, 'Note Value': 960.8691502541924}\n"
     ]
    }
   ],
   "source": [
    "jmaxmax = 300\n",
    "jmaxstep = 1\n",
    "i_min = (jmaxmax**2)*(sig_max**2)*T\n",
    "coef = np.ceil(i_min/tot_days)\n",
    "i_max_calc = coef*tot_days\n",
    "val_store = []\n",
    "for sig1 in sig_values:\n",
    "    expfd_result_fix, note_val = note_value(S0=S0, K=KI, T=547/365, r1=r1, r2=r2, D=D, sig=sig1, SU=SU, jmaxmin=jmaxmax, jmaxmax=jmaxmax+1, jmaxstep=jmaxstep, imax=i_max_calc, cpn=cpn)\n",
    "    output = {'Sigma': sig1, 'Note Value': note_val}\n",
    "    print(output)\n",
    "    val_store.append(output)"
   ]
  },
  {
   "cell_type": "code",
   "execution_count": 29,
   "metadata": {},
   "outputs": [
    {
     "data": {
      "text/html": [
       "<div>\n",
       "<style scoped>\n",
       "    .dataframe tbody tr th:only-of-type {\n",
       "        vertical-align: middle;\n",
       "    }\n",
       "\n",
       "    .dataframe tbody tr th {\n",
       "        vertical-align: top;\n",
       "    }\n",
       "\n",
       "    .dataframe thead th {\n",
       "        text-align: right;\n",
       "    }\n",
       "</style>\n",
       "<table border=\"1\" class=\"dataframe\">\n",
       "  <thead>\n",
       "    <tr style=\"text-align: right;\">\n",
       "      <th></th>\n",
       "      <th>Sigma</th>\n",
       "      <th>Note Value</th>\n",
       "    </tr>\n",
       "  </thead>\n",
       "  <tbody>\n",
       "    <tr>\n",
       "      <th>0</th>\n",
       "      <td>0.39547</td>\n",
       "      <td>947.077502</td>\n",
       "    </tr>\n",
       "    <tr>\n",
       "      <th>1</th>\n",
       "      <td>0.38099</td>\n",
       "      <td>952.780701</td>\n",
       "    </tr>\n",
       "    <tr>\n",
       "      <th>2</th>\n",
       "      <td>0.36785</td>\n",
       "      <td>958.056651</td>\n",
       "    </tr>\n",
       "    <tr>\n",
       "      <th>3</th>\n",
       "      <td>0.35924</td>\n",
       "      <td>961.570904</td>\n",
       "    </tr>\n",
       "    <tr>\n",
       "      <th>4</th>\n",
       "      <td>0.35335</td>\n",
       "      <td>964.003049</td>\n",
       "    </tr>\n",
       "    <tr>\n",
       "      <th>5</th>\n",
       "      <td>0.35164</td>\n",
       "      <td>964.713618</td>\n",
       "    </tr>\n",
       "    <tr>\n",
       "      <th>6</th>\n",
       "      <td>0.35212</td>\n",
       "      <td>964.513953</td>\n",
       "    </tr>\n",
       "    <tr>\n",
       "      <th>7</th>\n",
       "      <td>0.35554</td>\n",
       "      <td>963.095984</td>\n",
       "    </tr>\n",
       "    <tr>\n",
       "      <th>8</th>\n",
       "      <td>0.36095</td>\n",
       "      <td>960.869150</td>\n",
       "    </tr>\n",
       "  </tbody>\n",
       "</table>\n",
       "</div>"
      ],
      "text/plain": [
       "     Sigma  Note Value\n",
       "0  0.39547  947.077502\n",
       "1  0.38099  952.780701\n",
       "2  0.36785  958.056651\n",
       "3  0.35924  961.570904\n",
       "4  0.35335  964.003049\n",
       "5  0.35164  964.713618\n",
       "6  0.35212  964.513953\n",
       "7  0.35554  963.095984\n",
       "8  0.36095  960.869150"
      ]
     },
     "execution_count": 29,
     "metadata": {},
     "output_type": "execute_result"
    }
   ],
   "source": [
    "df_sig = pd.DataFrame(val_store)\n",
    "df_sig"
   ]
  },
  {
   "cell_type": "code",
   "execution_count": 30,
   "metadata": {},
   "outputs": [
    {
     "data": {
      "text/html": [
       "<div>\n",
       "<style scoped>\n",
       "    .dataframe tbody tr th:only-of-type {\n",
       "        vertical-align: middle;\n",
       "    }\n",
       "\n",
       "    .dataframe tbody tr th {\n",
       "        vertical-align: top;\n",
       "    }\n",
       "\n",
       "    .dataframe thead th {\n",
       "        text-align: right;\n",
       "    }\n",
       "</style>\n",
       "<table border=\"1\" class=\"dataframe\">\n",
       "  <thead>\n",
       "    <tr style=\"text-align: right;\">\n",
       "      <th></th>\n",
       "      <th>Sigma</th>\n",
       "      <th>Note Value</th>\n",
       "      <th>error</th>\n",
       "      <th>Moneyness</th>\n",
       "    </tr>\n",
       "  </thead>\n",
       "  <tbody>\n",
       "    <tr>\n",
       "      <th>0</th>\n",
       "      <td>0.39547</td>\n",
       "      <td>947.077502</td>\n",
       "      <td>-30.672498</td>\n",
       "      <td>70.0</td>\n",
       "    </tr>\n",
       "    <tr>\n",
       "      <th>1</th>\n",
       "      <td>0.38099</td>\n",
       "      <td>952.780701</td>\n",
       "      <td>-24.969299</td>\n",
       "      <td>75.0</td>\n",
       "    </tr>\n",
       "    <tr>\n",
       "      <th>2</th>\n",
       "      <td>0.36785</td>\n",
       "      <td>958.056651</td>\n",
       "      <td>-19.693349</td>\n",
       "      <td>80.0</td>\n",
       "    </tr>\n",
       "    <tr>\n",
       "      <th>3</th>\n",
       "      <td>0.35924</td>\n",
       "      <td>961.570904</td>\n",
       "      <td>-16.179096</td>\n",
       "      <td>85.0</td>\n",
       "    </tr>\n",
       "    <tr>\n",
       "      <th>4</th>\n",
       "      <td>0.35335</td>\n",
       "      <td>964.003049</td>\n",
       "      <td>-13.746951</td>\n",
       "      <td>90.0</td>\n",
       "    </tr>\n",
       "    <tr>\n",
       "      <th>5</th>\n",
       "      <td>0.35164</td>\n",
       "      <td>964.713618</td>\n",
       "      <td>-13.036382</td>\n",
       "      <td>95.0</td>\n",
       "    </tr>\n",
       "    <tr>\n",
       "      <th>6</th>\n",
       "      <td>0.35212</td>\n",
       "      <td>964.513953</td>\n",
       "      <td>-13.236047</td>\n",
       "      <td>100.0</td>\n",
       "    </tr>\n",
       "    <tr>\n",
       "      <th>7</th>\n",
       "      <td>0.35554</td>\n",
       "      <td>963.095984</td>\n",
       "      <td>-14.654016</td>\n",
       "      <td>105.0</td>\n",
       "    </tr>\n",
       "    <tr>\n",
       "      <th>8</th>\n",
       "      <td>0.36095</td>\n",
       "      <td>960.869150</td>\n",
       "      <td>-16.880850</td>\n",
       "      <td>110.0</td>\n",
       "    </tr>\n",
       "  </tbody>\n",
       "</table>\n",
       "</div>"
      ],
      "text/plain": [
       "     Sigma  Note Value      error  Moneyness\n",
       "0  0.39547  947.077502 -30.672498       70.0\n",
       "1  0.38099  952.780701 -24.969299       75.0\n",
       "2  0.36785  958.056651 -19.693349       80.0\n",
       "3  0.35924  961.570904 -16.179096       85.0\n",
       "4  0.35335  964.003049 -13.746951       90.0\n",
       "5  0.35164  964.713618 -13.036382       95.0\n",
       "6  0.35212  964.513953 -13.236047      100.0\n",
       "7  0.35554  963.095984 -14.654016      105.0\n",
       "8  0.36095  960.869150 -16.880850      110.0"
      ]
     },
     "execution_count": 30,
     "metadata": {},
     "output_type": "execute_result"
    }
   ],
   "source": [
    "# calculating teh errors\n",
    "df_sig['error'] = df_sig[\"Note Value\"] - 977.75\n",
    "sigma_mapping = {v: k for k, v in sigma_moneyness.items()}\n",
    "df_sig['Moneyness'] = df_sig['Sigma'].map(sigma_mapping)\n",
    "df_sig"
   ]
  },
  {
   "cell_type": "code",
   "execution_count": 31,
   "metadata": {},
   "outputs": [
    {
     "data": {
      "image/png": "[encoded data removed]",
      "text/plain": [
       "<Figure size 2000x1000 with 1 Axes>"
      ]
     },
     "metadata": {},
     "output_type": "display_data"
    }
   ],
   "source": [
    "# plotting the error results\n",
    "plt.figure(figsize=(20, 10))\n",
    "plt.plot(df_sig['Moneyness'],df_sig['error'],'o-', markersize=3, label='Error Profile')\n",
    "plt.xlabel('Moneyness')\n",
    "plt.ylabel('Error in Note Value')\n",
    "plt.title('Error Note Value vs. Moneyness')\n",
    "plt.legend()\n",
    "plt.grid(True)\n",
    "plt.show()"
   ]
  },
  {
   "cell_type": "markdown",
   "metadata": {},
   "source": [
    "# We see from above that 95 moneyness has teh least error. So changing the sigma corresponding to 95 Moneyness in valuations"
   ]
  },
  {
   "cell_type": "markdown",
   "metadata": {},
   "source": [
    "---"
   ]
  },
  {
   "cell_type": "markdown",
   "metadata": {},
   "source": [
    "---"
   ]
  },
  {
   "cell_type": "markdown",
   "metadata": {},
   "source": [
    "<div style=\"border-bottom: 2px solid black; display: inline-block; text-align: center; margin: 20px;\">\n",
    "<span style=\"font-family: Cambria, serif; font-weight: bold; font-size: 28px;\">End of Project 3</span>\n",
    "</div>"
   ]
  },
  {
   "cell_type": "markdown",
   "metadata": {},
   "source": [
    "---"
   ]
  }
 ],
 "metadata": {
  "kernelspec": {
   "display_name": "base",
   "language": "python",
   "name": "python3"
  },
  "language_info": {
   "codemirror_mode": {
    "name": "ipython",
    "version": 3
   },
   "file_extension": ".py",
   "mimetype": "text/x-python",
   "name": "python",
   "nbconvert_exporter": "python",
   "pygments_lexer": "ipython3",
   "version": "3.12.4"
  }
 },
 "nbformat": 4,
 "nbformat_minor": 2
}
